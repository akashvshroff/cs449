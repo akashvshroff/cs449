{
  "cells": [
    {
      "cell_type": "markdown",
      "source": [
        "### Data Processing and Util Functions"
      ],
      "metadata": {
        "id": "KrIRO3Wx_8fI"
      },
      "id": "KrIRO3Wx_8fI"
    },
    {
      "cell_type": "code",
      "execution_count": 2,
      "id": "6c23fd00",
      "metadata": {
        "id": "6c23fd00"
      },
      "outputs": [],
      "source": [
        "from collections import Counter\n",
        "\n",
        "def create_vocab():\n",
        "    \"\"\"\n",
        "    Create vocab for entire Wiki corpus and threshold to reduce to ~10k unique words\n",
        "    \"\"\"\n",
        "    tokens = []\n",
        "    for filepath in [\"wiki2.train.txt\", \"wiki2.test.txt\", \"wiki2.valid.txt\"]:\n",
        "        with open(filepath, 'r', encoding='utf-8') as file:\n",
        "            corpus_text = file.read()\n",
        "            tokens += corpus_text.split()\n",
        "\n",
        "\n",
        "    token_frequencies = Counter(tokens)\n",
        "    print(f\"{len(token_frequencies)} unique words before thresholding\")\n",
        "\n",
        "    threshold_frequency = 18\n",
        "\n",
        "    vocab = {}\n",
        "    idx = 0\n",
        "    for token, freq in token_frequencies.items():\n",
        "        if freq >= threshold_frequency:\n",
        "            vocab[token] = idx\n",
        "            idx += 1\n",
        "\n",
        "    print(f\"{len(vocab)} unique words after thresholding\")\n",
        "\n",
        "    return vocab\n",
        "\n",
        "def create_numerical_tokens(filepath, vocab):\n",
        "    \"\"\"\n",
        "    Given a particular filepath, replace tokens with ids from vocab (or <unk> if not found)\n",
        "    \"\"\"\n",
        "    with open(filepath, 'r', encoding=\"utf-8\") as fhand:\n",
        "        file_corpus = fhand.read()\n",
        "    tokens = file_corpus.split()\n",
        "\n",
        "    numerical_tokens = [vocab.get(token, vocab[\"<unk>\"]) for token in tokens]\n",
        "\n",
        "    return numerical_tokens\n"
      ]
    },
    {
      "cell_type": "code",
      "execution_count": 3,
      "metadata": {
        "colab": {
          "base_uri": "https://localhost:8080/"
        },
        "id": "BrUQRbphG-q-",
        "outputId": "9ca5ab93-3a97-46e7-8222-d7171993008f"
      },
      "outputs": [
        {
          "output_type": "stream",
          "name": "stdout",
          "text": [
            "33277 unique words before thresholding\n",
            "10824 unique words after thresholding\n"
          ]
        }
      ],
      "source": [
        "wiki_vocab = create_vocab()\n",
        "train_tokens = create_numerical_tokens(\"wiki2.train.txt\", wiki_vocab)\n",
        "valid_tokens = create_numerical_tokens(\"wiki2.valid.txt\", wiki_vocab)\n",
        "test_tokens = create_numerical_tokens(\"wiki2.test.txt\", wiki_vocab)"
      ],
      "id": "BrUQRbphG-q-"
    },
    {
      "cell_type": "code",
      "execution_count": 4,
      "id": "1fb4cd44",
      "metadata": {
        "id": "1fb4cd44"
      },
      "outputs": [],
      "source": [
        "import torch\n",
        "from torch.utils.data import DataLoader, TensorDataset\n",
        "\n",
        "def create_loader(numerical_tokens, batch_size, seq_length):\n",
        "    inputs = [numerical_tokens[i:i+seq_length] for i in range(len(numerical_tokens) - seq_length)]\n",
        "    targets = [numerical_tokens[i+seq_length] for i in range(len(numerical_tokens) - seq_length)]  # single token right after each sequence\n",
        "\n",
        "    dataset = TensorDataset(torch.tensor(inputs, dtype=torch.long), torch.tensor(targets, dtype=torch.long))\n",
        "    data_loader = DataLoader(dataset, batch_size=batch_size, shuffle=False)\n",
        "    return data_loader"
      ]
    },
    {
      "cell_type": "markdown",
      "source": [
        "### Q1 - Vanilla RNN"
      ],
      "metadata": {
        "id": "smh6nsXSAAJQ"
      },
      "id": "smh6nsXSAAJQ"
    },
    {
      "cell_type": "code",
      "execution_count": 6,
      "id": "c36b0ff1",
      "metadata": {
        "id": "c36b0ff1"
      },
      "outputs": [],
      "source": [
        "import torch\n",
        "import torch.nn as nn\n",
        "import torch.nn.functional as F\n",
        "\n",
        "class VanillaRNN(nn.Module):\n",
        "    def __init__(self, vocab_size, embedding_dim, hidden_dim, output_dim, device=None):\n",
        "        \"\"\"\n",
        "        Set up the different components of the RNN\n",
        "        \"\"\"\n",
        "        super(VanillaRNN, self).__init__()\n",
        "\n",
        "        self.embedding = nn.Embedding(vocab_size, embedding_dim)\n",
        "        self.rnn = nn.RNN(embedding_dim, hidden_dim, batch_first=True)\n",
        "        self.fc = nn.Linear(hidden_dim, output_dim)\n",
        "        self.h = None\n",
        "        self.hidden_dim = hidden_dim\n",
        "        self.device = device if device is not None else torch.device(\"cpu\")\n",
        "\n",
        "    def forward(self, x):\n",
        "        x = self.embedding(x)\n",
        "        x, self.h = self.rnn(x, self.h)\n",
        "        x = self.fc(x[:, -1, :])\n",
        "        return x #return logits since loss function applies softmax\n",
        "\n",
        "    def reset_hidden(self, batch_size):\n",
        "        self.h = torch.zeros(1, batch_size, self.hidden_dim, device=self.device)"
      ]
    },
    {
      "cell_type": "code",
      "execution_count": 5,
      "id": "41e4a5e3",
      "metadata": {
        "id": "41e4a5e3"
      },
      "outputs": [],
      "source": [
        "batch_size = 5120\n",
        "seq_length = 24\n",
        "train_loader = create_loader(train_tokens, batch_size, seq_length)\n",
        "valid_loader = create_loader(test_tokens, batch_size, seq_length)"
      ]
    },
    {
      "cell_type": "code",
      "source": [
        "device = torch.device(\"cuda\" if torch.cuda.is_available() else \"cpu\")\n"
      ],
      "metadata": {
        "id": "_BKBaKDYkn6o"
      },
      "id": "_BKBaKDYkn6o",
      "execution_count": 7,
      "outputs": []
    },
    {
      "cell_type": "code",
      "execution_count": null,
      "id": "e5640dbb",
      "metadata": {
        "id": "e5640dbb",
        "colab": {
          "base_uri": "https://localhost:8080/"
        },
        "outputId": "ca697d67-5b12-4305-ceb5-bde48219933e"
      },
      "outputs": [
        {
          "output_type": "stream",
          "name": "stdout",
          "text": [
            "Epoch 1/20\n",
            "Training Loss: 6.6070, Training Perplexity: 740.2621\n",
            "Validation Loss: 6.3744, Validation Perplexity: 586.6312\n",
            "Epoch 2/20\n",
            "Training Loss: 6.1387, Training Perplexity: 463.4676\n",
            "Validation Loss: 5.9850, Validation Perplexity: 397.4340\n",
            "Epoch 3/20\n",
            "Training Loss: 5.9822, Training Perplexity: 396.3123\n",
            "Validation Loss: 5.8743, Validation Perplexity: 355.7654\n",
            "Epoch 4/20\n",
            "Training Loss: 5.8713, Training Perplexity: 354.7173\n",
            "Validation Loss: 5.7784, Validation Perplexity: 323.2325\n",
            "Epoch 5/20\n",
            "Training Loss: 5.7719, Training Perplexity: 321.1576\n",
            "Validation Loss: 5.6941, Validation Perplexity: 297.0972\n",
            "Epoch 6/20\n",
            "Training Loss: 5.6856, Training Perplexity: 294.6031\n",
            "Validation Loss: 5.6248, Validation Perplexity: 277.2124\n",
            "Epoch 7/20\n",
            "Training Loss: 5.6109, Training Perplexity: 273.4033\n",
            "Validation Loss: 5.5670, Validation Perplexity: 261.6504\n",
            "Epoch 8/20\n",
            "Training Loss: 5.5444, Training Perplexity: 255.8089\n",
            "Validation Loss: 5.5161, Validation Perplexity: 248.6521\n",
            "Epoch 9/20\n",
            "Training Loss: 5.4842, Training Perplexity: 240.8522\n",
            "Validation Loss: 5.4677, Validation Perplexity: 236.9088\n",
            "Epoch 10/20\n",
            "Training Loss: 5.4290, Training Perplexity: 227.9287\n",
            "Validation Loss: 5.4220, Validation Perplexity: 226.3295\n",
            "Epoch 11/20\n",
            "Training Loss: 5.3781, Training Perplexity: 216.6042\n",
            "Validation Loss: 5.3859, Validation Perplexity: 218.3128\n",
            "Epoch 12/20\n",
            "Training Loss: 5.3311, Training Perplexity: 206.6557\n",
            "Validation Loss: 5.3554, Validation Perplexity: 211.7568\n",
            "Epoch 13/20\n",
            "Training Loss: 5.2875, Training Perplexity: 197.8577\n",
            "Validation Loss: 5.3297, Validation Perplexity: 206.3667\n",
            "Epoch 14/20\n",
            "Training Loss: 5.2471, Training Perplexity: 190.0118\n",
            "Validation Loss: 5.3070, Validation Perplexity: 201.7515\n",
            "Epoch 15/20\n",
            "Training Loss: 5.2092, Training Perplexity: 182.9435\n",
            "Validation Loss: 5.2854, Validation Perplexity: 197.4328\n",
            "Epoch 16/20\n",
            "Training Loss: 5.1734, Training Perplexity: 176.5098\n",
            "Validation Loss: 5.2671, Validation Perplexity: 193.8560\n",
            "Epoch 17/20\n",
            "Training Loss: 5.1394, Training Perplexity: 170.6140\n",
            "Validation Loss: 5.2504, Validation Perplexity: 190.6491\n",
            "Epoch 18/20\n",
            "Training Loss: 5.1070, Training Perplexity: 165.1728\n",
            "Validation Loss: 5.2348, Validation Perplexity: 187.6880\n",
            "Epoch 19/20\n",
            "Training Loss: 5.0760, Training Perplexity: 160.1338\n",
            "Validation Loss: 5.2198, Validation Perplexity: 184.9060\n",
            "Epoch 20/20\n",
            "Training Loss: 5.0463, Training Perplexity: 155.4470\n",
            "Validation Loss: 5.2054, Validation Perplexity: 182.2511\n"
          ]
        }
      ],
      "source": [
        "import torch\n",
        "import torch.nn as nn\n",
        "import torch.optim as optim\n",
        "import math\n",
        "\n",
        "embedding_dim = 100\n",
        "hidden_dim = 512\n",
        "hidden_size = batch_size\n",
        "lr = 0.0001\n",
        "\n",
        "rnn = VanillaRNN(len(wiki_vocab), embedding_dim, hidden_dim, len(wiki_vocab), device)\n",
        "criterion = nn.CrossEntropyLoss()\n",
        "optimizer = optim.Adam(rnn.parameters(), lr)\n",
        "\n",
        "num_epochs = 20\n",
        "\n",
        "def calculate_perplexity(loss):\n",
        "    \"\"\"\n",
        "    perplexity as exp average cross entropy\n",
        "    \"\"\"\n",
        "    return math.exp(loss)\n",
        "\n",
        "train_perplexities = []\n",
        "valid_perplexities = []\n",
        "\n",
        "rnn.to(device)\n",
        "\n",
        "for epoch in range(num_epochs):\n",
        "    rnn.train()\n",
        "    rnn.reset_hidden(batch_size)\n",
        "    total_loss = 0\n",
        "    for inputs, targets in train_loader:\n",
        "        inputs, targets = inputs.to(device), targets.to(device)\n",
        "        current_batch_size = inputs.size(0)\n",
        "        if current_batch_size != hidden_size: #only reset for last batch to avoid any mismatch issues.\n",
        "            rnn.reset_hidden(current_batch_size)\n",
        "            hidden_size = current_batch_size\n",
        "        optimizer.zero_grad()\n",
        "        outputs = rnn(inputs)\n",
        "        loss = criterion(outputs.view(-1, outputs.size(-1)), targets)\n",
        "        loss.backward()\n",
        "        optimizer.step()\n",
        "        total_loss += loss.item()\n",
        "        rnn.h = rnn.h.detach()\n",
        "\n",
        "    avg_train_loss = total_loss / len(train_loader)\n",
        "    train_perplexity = calculate_perplexity(avg_train_loss)\n",
        "    train_perplexities.append(train_perplexity)\n",
        "\n",
        "    rnn.eval()\n",
        "    rnn.reset_hidden(batch_size)\n",
        "    total_loss = 0\n",
        "    with torch.no_grad():\n",
        "        for inputs, targets in valid_loader:\n",
        "            inputs, targets = inputs.to(device), targets.to(device)\n",
        "            current_batch_size = inputs.size(0)\n",
        "            if current_batch_size != hidden_size: #only reset for last batch to avoid any mismatch issues.\n",
        "                rnn.reset_hidden(current_batch_size)\n",
        "                hidden_size = current_batch_size\n",
        "            outputs = rnn(inputs)\n",
        "            loss = criterion(outputs.view(-1, outputs.size(-1)), targets) #loss function applies softmax to logits\n",
        "            total_loss += loss.item()\n",
        "\n",
        "            rnn.h = rnn.h.detach()\n",
        "\n",
        "    avg_val_loss = total_loss / len(valid_loader)\n",
        "    valid_perplexity = calculate_perplexity(avg_val_loss)\n",
        "    valid_perplexities.append(valid_perplexity)\n",
        "\n",
        "    print(f\"Epoch {epoch+1}/{num_epochs}\")\n",
        "    print(f\"Training Loss: {avg_train_loss:.4f}, Training Perplexity: {train_perplexity:.4f}\")\n",
        "    print(f\"Validation Loss: {avg_val_loss:.4f}, Validation Perplexity: {valid_perplexity:.4f}\")\n"
      ]
    },
    {
      "cell_type": "code",
      "source": [
        "import matplotlib.pyplot as plt\n",
        "\n",
        "def plot_loss_curves(train_losses, valid_losses, title):\n",
        "    plt.figure(figsize=(10, 5))\n",
        "    plt.plot(train_losses, label=f'Training Perplexity')\n",
        "    plt.plot(valid_losses, label=f'Validation Perplexity')\n",
        "    plt.title(f'Perplexity Curves: {title}')\n",
        "    plt.xlabel('Epoch')\n",
        "    plt.ylabel('Perplexity')\n",
        "    plt.legend()\n",
        "    plt.grid(True)\n",
        "    plt.show()"
      ],
      "metadata": {
        "id": "yrVKyBHJRXhf"
      },
      "id": "yrVKyBHJRXhf",
      "execution_count": 8,
      "outputs": []
    },
    {
      "cell_type": "code",
      "source": [
        "plot_loss_curves(train_perplexities, valid_perplexities, \"Vanilla RNN\")"
      ],
      "metadata": {
        "colab": {
          "base_uri": "https://localhost:8080/",
          "height": 487
        },
        "id": "X3Jq3kGuRutr",
        "outputId": "7fa06eab-996b-4899-ec00-91a55d9a37d2"
      },
      "id": "X3Jq3kGuRutr",
      "execution_count": null,
      "outputs": [
        {
          "output_type": "display_data",
          "data": {
            "text/plain": [
              "<Figure size 1000x500 with 1 Axes>"
            ],
            "image/png": "[encoded data removed]"
          },
          "metadata": {}
        }
      ]
    },
    {
      "cell_type": "code",
      "source": [
        "import torch.nn as nn\n",
        "\n",
        "def get_test_perplexity(model, test_loader):\n",
        "    model.eval()\n",
        "    total_loss = 0\n",
        "    total_words = 0\n",
        "    criterion = nn.CrossEntropyLoss()\n",
        "\n",
        "    with torch.no_grad():\n",
        "        for inputs, targets in test_loader:\n",
        "            inputs, targets = inputs.to(device), targets.to(device)\n",
        "            batch_size = inputs.size(0)\n",
        "            model.reset_hidden(batch_size)\n",
        "            outputs = model(inputs)\n",
        "            loss = criterion(outputs.view(-1, outputs.size(-1)), targets)\n",
        "            total_loss += loss.item() * inputs.size(0) * inputs.size(1)\n",
        "            total_words += inputs.size(0) * inputs.size(1)\n",
        "\n",
        "    avg_loss = total_loss / total_words\n",
        "    perplexity = math.exp(avg_loss)\n",
        "\n",
        "    return perplexity"
      ],
      "metadata": {
        "id": "AdIj-uhFSgOX"
      },
      "id": "AdIj-uhFSgOX",
      "execution_count": 9,
      "outputs": []
    },
    {
      "cell_type": "code",
      "source": [
        "test_loader = create_loader(test_tokens, batch_size, seq_length)"
      ],
      "metadata": {
        "id": "REMrC2GgUMgg"
      },
      "id": "REMrC2GgUMgg",
      "execution_count": 10,
      "outputs": []
    },
    {
      "cell_type": "code",
      "source": [
        "test_perplexity = get_test_perplexity(rnn, test_loader)\n",
        "print(f\"Test perplexity on Vanilla RNN: {test_perplexity}\")"
      ],
      "metadata": {
        "colab": {
          "base_uri": "https://localhost:8080/"
        },
        "id": "vzFIcKOlUWHs",
        "outputId": "bdc28a9d-597d-4fff-fbd9-38051a03a7cd"
      },
      "id": "vzFIcKOlUWHs",
      "execution_count": null,
      "outputs": [
        {
          "output_type": "stream",
          "name": "stdout",
          "text": [
            "Test perplexity on Vanilla RNN: 182.82330307059007\n"
          ]
        }
      ]
    },
    {
      "cell_type": "code",
      "source": [
        "torch.save(rnn.state_dict(), \"rnn_state_dict.pth\")"
      ],
      "metadata": {
        "id": "GrY8EE-7UocY"
      },
      "id": "GrY8EE-7UocY",
      "execution_count": null,
      "outputs": []
    },
    {
      "cell_type": "markdown",
      "source": [
        "Q3 - Basic LSTM"
      ],
      "metadata": {
        "id": "E4eIrw46AF2T"
      },
      "id": "E4eIrw46AF2T"
    },
    {
      "cell_type": "code",
      "source": [
        "import torch\n",
        "import torch.nn as nn\n",
        "import torch.nn.functional as F\n",
        "\n",
        "class BasicLSTM(nn.Module):\n",
        "    def __init__(self, vocab_size, embedding_dim, hidden_dim, output_dim, device=None):\n",
        "        \"\"\"\n",
        "        Set up the different components of the LSTM\n",
        "        \"\"\"\n",
        "        super(BasicLSTM, self).__init__()\n",
        "\n",
        "        self.embedding = nn.Embedding(vocab_size, embedding_dim)\n",
        "        self.lstm = nn.LSTM(embedding_dim, hidden_dim, batch_first=True)\n",
        "        self.fc = nn.Linear(hidden_dim, output_dim)\n",
        "        self.h = None  # Hidden state\n",
        "        self.c = None  # Cell state\n",
        "        self.hidden_dim = hidden_dim\n",
        "        self.device = device if device is not None else torch.device(\"cpu\")\n",
        "\n",
        "    def forward(self, x):\n",
        "        x = self.embedding(x)\n",
        "        x, (self.h, self.c) = self.lstm(x, (self.h, self.c))\n",
        "        x = self.fc(x[:, -1, :])\n",
        "        return x #return logits since loss applies softmax\n",
        "\n",
        "    def reset_hidden(self, batch_size):\n",
        "        \"\"\"\n",
        "        Reset both hidden state and cell state of the model\n",
        "        \"\"\"\n",
        "        self.h = torch.zeros(1, batch_size, self.hidden_dim, device=self.device)\n",
        "        self.c = torch.zeros(1, batch_size, self.hidden_dim, device=self.device)\n"
      ],
      "metadata": {
        "id": "HCVblFzkANnT"
      },
      "id": "HCVblFzkANnT",
      "execution_count": 1,
      "outputs": []
    },
    {
      "cell_type": "code",
      "source": [
        "import torch\n",
        "import torch.nn as nn\n",
        "import torch.optim as optim\n",
        "import math\n",
        "\n",
        "embedding_dim = 100\n",
        "hidden_dim = 512\n",
        "hidden_size = batch_size\n",
        "lr = 0.0001\n",
        "\n",
        "lstm = BasicLSTM(len(wiki_vocab), embedding_dim, hidden_dim, len(wiki_vocab), device)\n",
        "criterion = nn.CrossEntropyLoss()\n",
        "optimizer = optim.Adam(lstm.parameters(), lr)\n",
        "\n",
        "num_epochs = 20\n",
        "\n",
        "def calculate_perplexity(loss):\n",
        "    \"\"\"\n",
        "    perplexity as exp average cross entropy\n",
        "    \"\"\"\n",
        "    return math.exp(loss)\n",
        "\n",
        "train_perplexities = []\n",
        "valid_perplexities = []\n",
        "\n",
        "lstm.to(device)\n",
        "\n",
        "for epoch in range(num_epochs):\n",
        "    lstm.train()\n",
        "    lstm.reset_hidden(batch_size)\n",
        "    total_loss = 0\n",
        "    for inputs, targets in train_loader:\n",
        "        inputs, targets = inputs.to(device), targets.to(device)\n",
        "        current_batch_size = inputs.size(0)\n",
        "        if current_batch_size != hidden_size: #only reset for last batch to avoid any mismatch issues.\n",
        "            lstm.reset_hidden(current_batch_size)\n",
        "            hidden_size = current_batch_size\n",
        "        optimizer.zero_grad()\n",
        "        outputs = lstm(inputs)\n",
        "        loss = criterion(outputs.view(-1, outputs.size(-1)), targets)\n",
        "        loss.backward()\n",
        "        optimizer.step()\n",
        "        total_loss += loss.item()\n",
        "\n",
        "        lstm.h = lstm.h.detach()\n",
        "        lstm.c = lstm.c.detach()\n",
        "\n",
        "    avg_train_loss = total_loss / len(train_loader)\n",
        "    train_perplexity = calculate_perplexity(avg_train_loss)\n",
        "    train_perplexities.append(train_perplexity)\n",
        "\n",
        "    lstm.eval()\n",
        "    lstm.reset_hidden(batch_size)\n",
        "    total_loss = 0\n",
        "    with torch.no_grad():\n",
        "        for inputs, targets in valid_loader:\n",
        "            inputs, targets = inputs.to(device), targets.to(device)\n",
        "            current_batch_size = inputs.size(0)\n",
        "            if current_batch_size != hidden_size: #only reset for last batch to avoid any mismatch issues.\n",
        "                lstm.reset_hidden(current_batch_size)\n",
        "                hidden_size = current_batch_size\n",
        "            outputs = lstm(inputs)\n",
        "            loss = criterion(outputs.view(-1, outputs.size(-1)), targets) #loss function applies softmax to logits\n",
        "            total_loss += loss.item()\n",
        "\n",
        "            lstm.h = lstm.h.detach()\n",
        "            lstm.c = lstm.c.detach()\n",
        "\n",
        "    avg_val_loss = total_loss / len(valid_loader)\n",
        "    valid_perplexity = calculate_perplexity(avg_val_loss)\n",
        "    valid_perplexities.append(valid_perplexity)\n",
        "\n",
        "    print(f\"Epoch {epoch+1}/{num_epochs}\")\n",
        "    print(f\"Training Loss: {avg_train_loss:.4f}, Training Perplexity: {train_perplexity:.4f}\")\n",
        "    print(f\"Validation Loss: {avg_val_loss:.4f}, Validation Perplexity: {valid_perplexity:.4f}\")\n"
      ],
      "metadata": {
        "colab": {
          "base_uri": "https://localhost:8080/"
        },
        "id": "2Mifuhd_Bf1V",
        "outputId": "58ba5d91-5338-4825-e9df-cf4ee91d413c"
      },
      "id": "2Mifuhd_Bf1V",
      "execution_count": 13,
      "outputs": [
        {
          "output_type": "stream",
          "name": "stdout",
          "text": [
            "Epoch 1/20\n",
            "Training Loss: 6.6862, Training Perplexity: 801.2430\n",
            "Validation Loss: 6.1934, Validation Perplexity: 489.4920\n",
            "Epoch 2/20\n",
            "Training Loss: 6.1717, Training Perplexity: 478.9916\n",
            "Validation Loss: 6.0290, Validation Perplexity: 415.3146\n",
            "Epoch 3/20\n",
            "Training Loss: 6.0195, Training Perplexity: 411.3823\n",
            "Validation Loss: 5.9053, Validation Perplexity: 366.9911\n",
            "Epoch 4/20\n",
            "Training Loss: 5.8999, Training Perplexity: 364.9906\n",
            "Validation Loss: 5.8008, Validation Perplexity: 330.5511\n",
            "Epoch 5/20\n",
            "Training Loss: 5.7977, Training Perplexity: 329.5334\n",
            "Validation Loss: 5.7113, Validation Perplexity: 302.2767\n",
            "Epoch 6/20\n",
            "Training Loss: 5.7103, Training Perplexity: 301.9532\n",
            "Validation Loss: 5.6349, Validation Perplexity: 280.0291\n",
            "Epoch 7/20\n",
            "Training Loss: 5.6355, Training Perplexity: 280.1948\n",
            "Validation Loss: 5.5702, Validation Perplexity: 262.4745\n",
            "Epoch 8/20\n",
            "Training Loss: 5.5702, Training Perplexity: 262.4946\n",
            "Validation Loss: 5.5150, Validation Perplexity: 248.3971\n",
            "Epoch 9/20\n",
            "Training Loss: 5.5124, Training Perplexity: 247.7366\n",
            "Validation Loss: 5.4674, Validation Perplexity: 236.8360\n",
            "Epoch 10/20\n",
            "Training Loss: 5.4603, Training Perplexity: 235.1620\n",
            "Validation Loss: 5.4260, Validation Perplexity: 227.2413\n",
            "Epoch 11/20\n",
            "Training Loss: 5.4131, Training Perplexity: 224.3202\n",
            "Validation Loss: 5.3896, Validation Perplexity: 219.1213\n",
            "Epoch 12/20\n",
            "Training Loss: 5.3699, Training Perplexity: 214.8370\n",
            "Validation Loss: 5.3567, Validation Perplexity: 212.0253\n",
            "Epoch 13/20\n",
            "Training Loss: 5.3299, Training Perplexity: 206.4089\n",
            "Validation Loss: 5.3267, Validation Perplexity: 205.7493\n",
            "Epoch 14/20\n",
            "Training Loss: 5.2924, Training Perplexity: 198.8192\n",
            "Validation Loss: 5.2990, Validation Perplexity: 200.1333\n",
            "Epoch 15/20\n",
            "Training Loss: 5.2571, Training Perplexity: 191.9316\n",
            "Validation Loss: 5.2735, Validation Perplexity: 195.0944\n",
            "Epoch 16/20\n",
            "Training Loss: 5.2238, Training Perplexity: 185.6328\n",
            "Validation Loss: 5.2497, Validation Perplexity: 190.5027\n",
            "Epoch 17/20\n",
            "Training Loss: 5.1920, Training Perplexity: 179.8233\n",
            "Validation Loss: 5.2274, Validation Perplexity: 186.3058\n",
            "Epoch 18/20\n",
            "Training Loss: 5.1615, Training Perplexity: 174.4329\n",
            "Validation Loss: 5.2066, Validation Perplexity: 182.4640\n",
            "Epoch 19/20\n",
            "Training Loss: 5.1323, Training Perplexity: 169.4135\n",
            "Validation Loss: 5.1870, Validation Perplexity: 178.9264\n",
            "Epoch 20/20\n",
            "Training Loss: 5.1043, Training Perplexity: 164.7230\n",
            "Validation Loss: 5.1687, Validation Perplexity: 175.6896\n"
          ]
        }
      ]
    },
    {
      "cell_type": "code",
      "source": [
        "plot_loss_curves(train_perplexities, valid_perplexities, \"Basic LSTM\")"
      ],
      "metadata": {
        "colab": {
          "base_uri": "https://localhost:8080/",
          "height": 372
        },
        "id": "FsAE3_5qIdAO",
        "outputId": "eaa1608f-9f00-4aaf-8c5b-1e7961b56e2e"
      },
      "id": "FsAE3_5qIdAO",
      "execution_count": 15,
      "outputs": [
        {
          "output_type": "display_data",
          "data": {
            "text/plain": [
              "<Figure size 1000x500 with 1 Axes>"
            ],
            "image/png": "[encoded data removed]"
          },
          "metadata": {}
        }
      ]
    },
    {
      "cell_type": "code",
      "source": [
        "test_perplexity = get_test_perplexity(lstm, test_loader)\n",
        "print(f\"Test perplexity on Basic LSTM: {test_perplexity}\")"
      ],
      "metadata": {
        "colab": {
          "base_uri": "https://localhost:8080/"
        },
        "id": "yfTXxITJIUN0",
        "outputId": "65f8c69b-0de1-4ac4-f39b-fc98d831ef3e"
      },
      "id": "yfTXxITJIUN0",
      "execution_count": 14,
      "outputs": [
        {
          "output_type": "stream",
          "name": "stdout",
          "text": [
            "Test perplexity on Basic LSTM: 176.51030999040972\n"
          ]
        }
      ]
    },
    {
      "cell_type": "code",
      "source": [
        "torch.save(lstm.state_dict(), \"lstm_state_dict.pth\")"
      ],
      "metadata": {
        "id": "gaToKWwlIknY"
      },
      "id": "gaToKWwlIknY",
      "execution_count": 16,
      "outputs": []
    }
  ],
  "metadata": {
    "kernelspec": {
      "display_name": "Python 3",
      "name": "python3"
    },
    "language_info": {
      "codemirror_mode": {
        "name": "ipython",
        "version": 3
      },
      "file_extension": ".py",
      "mimetype": "text/x-python",
      "name": "python",
      "nbconvert_exporter": "python",
      "pygments_lexer": "ipython3",
      "version": "3.11.2"
    },
    "colab": {
      "provenance": [],
      "gpuType": "V100"
    },
    "accelerator": "GPU"
  },
  "nbformat": 4,
  "nbformat_minor": 5
}