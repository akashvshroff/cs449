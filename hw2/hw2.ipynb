{
  "cells": [
    {
      "cell_type": "code",
      "execution_count": 1,
      "metadata": {
        "colab": {
          "base_uri": "https://localhost:8080/"
        },
        "id": "xioQ7bwzZr9G",
        "outputId": "e0290f4f-d5e7-49bf-d939-24593f48b509"
      },
      "outputs": [
        {
          "name": "stdout",
          "output_type": "stream",
          "text": [
            "Collecting datasets\n",
            "  Downloading datasets-2.17.1-py3-none-any.whl (536 kB)\n",
            "\u001b[2K     \u001b[90m━━━━━━━━━━━━━━━━━━━━━━━━━━━━━━━━━━━━━━━━\u001b[0m \u001b[32m536.7/536.7 kB\u001b[0m \u001b[31m12.5 MB/s\u001b[0m eta \u001b[36m0:00:00\u001b[0m\n",
            "\u001b[?25hRequirement already satisfied: filelock in /usr/local/lib/python3.10/dist-packages (from datasets) (3.13.1)\n",
            "Requirement already satisfied: numpy>=1.17 in /usr/local/lib/python3.10/dist-packages (from datasets) (1.25.2)\n",
            "Requirement already satisfied: pyarrow>=12.0.0 in /usr/local/lib/python3.10/dist-packages (from datasets) (14.0.2)\n",
            "Requirement already satisfied: pyarrow-hotfix in /usr/local/lib/python3.10/dist-packages (from datasets) (0.6)\n",
            "Collecting dill<0.3.9,>=0.3.0 (from datasets)\n",
            "  Downloading dill-0.3.8-py3-none-any.whl (116 kB)\n",
            "\u001b[2K     \u001b[90m━━━━━━━━━━━━━━━━━━━━━━━━━━━━━━━━━━━━━━━━\u001b[0m \u001b[32m116.3/116.3 kB\u001b[0m \u001b[31m14.5 MB/s\u001b[0m eta \u001b[36m0:00:00\u001b[0m\n",
            "\u001b[?25hRequirement already satisfied: pandas in /usr/local/lib/python3.10/dist-packages (from datasets) (1.5.3)\n",
            "Requirement already satisfied: requests>=2.19.0 in /usr/local/lib/python3.10/dist-packages (from datasets) (2.31.0)\n",
            "Requirement already satisfied: tqdm>=4.62.1 in /usr/local/lib/python3.10/dist-packages (from datasets) (4.66.2)\n",
            "Requirement already satisfied: xxhash in /usr/local/lib/python3.10/dist-packages (from datasets) (3.4.1)\n",
            "Collecting multiprocess (from datasets)\n",
            "  Downloading multiprocess-0.70.16-py310-none-any.whl (134 kB)\n",
            "\u001b[2K     \u001b[90m━━━━━━━━━━━━━━━━━━━━━━━━━━━━━━━━━━━━━━━━\u001b[0m \u001b[32m134.8/134.8 kB\u001b[0m \u001b[31m20.4 MB/s\u001b[0m eta \u001b[36m0:00:00\u001b[0m\n",
            "\u001b[?25hRequirement already satisfied: fsspec[http]<=2023.10.0,>=2023.1.0 in /usr/local/lib/python3.10/dist-packages (from datasets) (2023.6.0)\n",
            "Requirement already satisfied: aiohttp in /usr/local/lib/python3.10/dist-packages (from datasets) (3.9.3)\n",
            "Requirement already satisfied: huggingface-hub>=0.19.4 in /usr/local/lib/python3.10/dist-packages (from datasets) (0.20.3)\n",
            "Requirement already satisfied: packaging in /usr/local/lib/python3.10/dist-packages (from datasets) (23.2)\n",
            "Requirement already satisfied: pyyaml>=5.1 in /usr/local/lib/python3.10/dist-packages (from datasets) (6.0.1)\n",
            "Requirement already satisfied: aiosignal>=1.1.2 in /usr/local/lib/python3.10/dist-packages (from aiohttp->datasets) (1.3.1)\n",
            "Requirement already satisfied: attrs>=17.3.0 in /usr/local/lib/python3.10/dist-packages (from aiohttp->datasets) (23.2.0)\n",
            "Requirement already satisfied: frozenlist>=1.1.1 in /usr/local/lib/python3.10/dist-packages (from aiohttp->datasets) (1.4.1)\n",
            "Requirement already satisfied: multidict<7.0,>=4.5 in /usr/local/lib/python3.10/dist-packages (from aiohttp->datasets) (6.0.5)\n",
            "Requirement already satisfied: yarl<2.0,>=1.0 in /usr/local/lib/python3.10/dist-packages (from aiohttp->datasets) (1.9.4)\n",
            "Requirement already satisfied: async-timeout<5.0,>=4.0 in /usr/local/lib/python3.10/dist-packages (from aiohttp->datasets) (4.0.3)\n",
            "Requirement already satisfied: typing-extensions>=3.7.4.3 in /usr/local/lib/python3.10/dist-packages (from huggingface-hub>=0.19.4->datasets) (4.9.0)\n",
            "Requirement already satisfied: charset-normalizer<4,>=2 in /usr/local/lib/python3.10/dist-packages (from requests>=2.19.0->datasets) (3.3.2)\n",
            "Requirement already satisfied: idna<4,>=2.5 in /usr/local/lib/python3.10/dist-packages (from requests>=2.19.0->datasets) (3.6)\n",
            "Requirement already satisfied: urllib3<3,>=1.21.1 in /usr/local/lib/python3.10/dist-packages (from requests>=2.19.0->datasets) (2.0.7)\n",
            "Requirement already satisfied: certifi>=2017.4.17 in /usr/local/lib/python3.10/dist-packages (from requests>=2.19.0->datasets) (2024.2.2)\n",
            "Requirement already satisfied: python-dateutil>=2.8.1 in /usr/local/lib/python3.10/dist-packages (from pandas->datasets) (2.8.2)\n",
            "Requirement already satisfied: pytz>=2020.1 in /usr/local/lib/python3.10/dist-packages (from pandas->datasets) (2023.4)\n",
            "Requirement already satisfied: six>=1.5 in /usr/local/lib/python3.10/dist-packages (from python-dateutil>=2.8.1->pandas->datasets) (1.16.0)\n",
            "Installing collected packages: dill, multiprocess, datasets\n",
            "Successfully installed datasets-2.17.1 dill-0.3.8 multiprocess-0.70.16\n"
          ]
        }
      ],
      "source": [
        "!pip install datasets"
      ]
    },
    {
      "cell_type": "markdown",
      "metadata": {
        "id": "FLW0ZRCReaWX"
      },
      "source": [
        "## Load Dataset"
      ]
    },
    {
      "cell_type": "code",
      "execution_count": 5,
      "metadata": {
        "id": "ZslMWKMlZRiJ"
      },
      "outputs": [
        {
          "name": "stderr",
          "output_type": "stream",
          "text": [
            "c:\\Users\\akush\\AppData\\Local\\Programs\\Python\\Python311\\Lib\\site-packages\\tqdm\\auto.py:21: TqdmWarning: IProgress not found. Please update jupyter and ipywidgets. See https://ipywidgets.readthedocs.io/en/stable/user_install.html\n",
            "  from .autonotebook import tqdm as notebook_tqdm\n"
          ]
        }
      ],
      "source": [
        "from datasets import load_dataset"
      ]
    },
    {
      "cell_type": "code",
      "execution_count": 3,
      "metadata": {
        "colab": {
          "base_uri": "https://localhost:8080/",
          "height": 237,
          "referenced_widgets": [
            "9609a9e9d6ea4920aeeff4e72e7955a2",
            "396a95cfa48c40a4be1e6bb77577528d",
            "f4b6655067074cdba0ecc8ee909c6284",
            "a1be3a68643b4243b3a914fad0a05d3b",
            "5b726802b1df4262ab8c8c73eb797f5b",
            "57a59b003f7c455080e608165525d595",
            "6e7a6bae556e4e0fa0bd22c1c5d6e2c3",
            "90ddaae0993a4fd18e4d8a84275a8f89",
            "a065c143e0b24a1faa7a753df1fda19f",
            "9c192ce3684d45a8858728ff850a07d2",
            "2cbcdfa522d34c3e9006c8516d1916c7",
            "14a7fc03587f48a1a382bc11310773ff",
            "29c82be8f753452a8df456b8b98fe7b2",
            "fbb918646adc472993357b7579302085",
            "43db56dcf0344498ada4f40d71f3300f",
            "a79a91ff500842cda7655d35befa27a1",
            "a4409e9d798547778409d242d8bf78d5",
            "0486de1ba93c4036b9f6fa47874f686d",
            "05e8d32d43eb49c08a8aba6be9665d71",
            "6f9ef99cfcc440b3ad1740ba3870e9e4",
            "c79c44b9a36a460796705255eb85d44d",
            "f1a655a13b9243bfb390cc321bc73719",
            "ce1563df5952433097e00deca263287f",
            "1599d9e4f27b4c22a54ca7fa8350b882",
            "586de4e8803c483db90ea62cbde2248e",
            "b36ca6210f4c4ac0b5b70ed0308488ba",
            "351b377f384e46409a4ea8377824afdd",
            "6ce9ba0516244fe59240cd6b675485c7",
            "abfadbc219a6464ca890b5af884360b9",
            "1dd55fd3e20941a386ba1f1e96c6f3c2",
            "7216306b399345f8b0ac97bded1c40d8",
            "aca2241a899f4361a81f6d82ba74ad7a",
            "8602a38cd122421a9290ec0fdc5dc35f"
          ]
        },
        "id": "sQw731vFZ9z6",
        "outputId": "0bb88c49-4843-4f88-d435-45e0df7ce19c"
      },
      "outputs": [
        {
          "name": "stderr",
          "output_type": "stream",
          "text": [
            "/usr/local/lib/python3.10/dist-packages/huggingface_hub/utils/_token.py:88: UserWarning: \n",
            "The secret `HF_TOKEN` does not exist in your Colab secrets.\n",
            "To authenticate with the Hugging Face Hub, create a token in your settings tab (https://huggingface.co/settings/tokens), set it as secret in your Google Colab and restart your session.\n",
            "You will be able to reuse this secret in all of your notebooks.\n",
            "Please note that authentication is recommended but still optional to access public models or datasets.\n",
            "  warnings.warn(\n"
          ]
        },
        {
          "data": {
            "application/vnd.jupyter.widget-view+json": {
              "model_id": "9609a9e9d6ea4920aeeff4e72e7955a2",
              "version_major": 2,
              "version_minor": 0
            },
            "text/plain": [
              "Downloading metadata:   0%|          | 0.00/720 [00:00<?, ?B/s]"
            ]
          },
          "metadata": {},
          "output_type": "display_data"
        },
        {
          "data": {
            "application/vnd.jupyter.widget-view+json": {
              "model_id": "14a7fc03587f48a1a382bc11310773ff",
              "version_major": 2,
              "version_minor": 0
            },
            "text/plain": [
              "Downloading data:   0%|          | 0.00/139M [00:00<?, ?B/s]"
            ]
          },
          "metadata": {},
          "output_type": "display_data"
        },
        {
          "data": {
            "application/vnd.jupyter.widget-view+json": {
              "model_id": "ce1563df5952433097e00deca263287f",
              "version_major": 2,
              "version_minor": 0
            },
            "text/plain": [
              "Generating train split:   0%|          | 0/2749 [00:00<?, ? examples/s]"
            ]
          },
          "metadata": {},
          "output_type": "display_data"
        }
      ],
      "source": [
        "data = load_dataset(\"valhalla/emoji-dataset\")[\"train\"]"
      ]
    },
    {
      "cell_type": "markdown",
      "metadata": {
        "id": "Gmu0u4p5eaWc"
      },
      "source": [
        "## Question 1"
      ]
    },
    {
      "cell_type": "markdown",
      "metadata": {
        "id": "ynb0x5NaeaWd"
      },
      "source": [
        "### Filter & Process Dataset"
      ]
    },
    {
      "cell_type": "code",
      "execution_count": null,
      "metadata": {
        "colab": {
          "base_uri": "https://localhost:8080/"
        },
        "id": "3S_1tRSYZ9Qd",
        "outputId": "a701f2d8-f611-40fd-9df6-75ef2d4a3bf4"
      },
      "outputs": [
        {
          "data": {
            "text/plain": [
              "610"
            ]
          },
          "execution_count": 16,
          "metadata": {},
          "output_type": "execute_result"
        }
      ],
      "source": [
        "count = 0\n",
        "for row in data:\n",
        "  if \"man\" in row[\"text\"]: #all emojis with the term man or woman\n",
        "    count += 1\n",
        "count"
      ]
    },
    {
      "cell_type": "code",
      "execution_count": null,
      "metadata": {
        "colab": {
          "base_uri": "https://localhost:8080/",
          "height": 49,
          "referenced_widgets": [
            "d1a8d59050d14016b35ba75aff726be5",
            "4b85f565761240f29374ce22bb6ed279",
            "618846f7993c4e31a21809d2f07e83c2",
            "7cc58ef935724afd927d9ff251f6ce4f",
            "9f11181db47e4411b4d8016f0651d9eb",
            "58a69ef1d29540f1a9b2742e2e3977c8",
            "c587d3ecea284d359581e49c8e357653",
            "18befc049b93417cb5546f3b0ce20e3e",
            "524035aa43c149c5a931b8e0f41f8b6b",
            "e7f76c5634a34823b1c0180a27b0c91b",
            "11efee095c65453ea0ee18bfcb0b9b93"
          ]
        },
        "id": "s-Sh6sP3cP4P",
        "outputId": "7e3c3a3c-920a-442d-8192-523ae046f597"
      },
      "outputs": [
        {
          "data": {
            "application/vnd.jupyter.widget-view+json": {
              "model_id": "d1a8d59050d14016b35ba75aff726be5",
              "version_major": 2,
              "version_minor": 0
            },
            "text/plain": [
              "Filter:   0%|          | 0/2749 [00:00<?, ? examples/s]"
            ]
          },
          "metadata": {},
          "output_type": "display_data"
        }
      ],
      "source": [
        "def contains_man(row):\n",
        "  return \"man\" in row[\"text\"]\n",
        "\n",
        "filtered = data.filter(contains_man)"
      ]
    },
    {
      "cell_type": "code",
      "execution_count": null,
      "metadata": {
        "id": "ae9YW2qjc7mo"
      },
      "outputs": [],
      "source": [
        "df = filtered.to_pandas()"
      ]
    },
    {
      "cell_type": "markdown",
      "metadata": {
        "id": "FNGcJl3aeaWg"
      },
      "source": [
        "### Image Augmentation"
      ]
    },
    {
      "cell_type": "code",
      "execution_count": 6,
      "metadata": {
        "id": "UUIdy821do9L"
      },
      "outputs": [],
      "source": [
        "from PIL import Image, ImageOps\n",
        "import numpy as np\n",
        "import io\n",
        "import random\n",
        "from IPython.display import display\n",
        "\n",
        "def process_image(bytes_arr):\n",
        "  image = Image.open(io.BytesIO(bytes_arr))\n",
        "  size = (64,64)\n",
        "  resized_image = image.resize(size, Image.ANTIALIAS)\n",
        "  image_array = np.array(resized_image)\n",
        "  return image_array\n",
        "\n",
        "def augment_image(og_array):\n",
        "  og = Image.fromarray(og_array)\n",
        "  augmentations = [\"h\", \"v\", \"r\"] #horizontal flip, vertical_flip, rotate\n",
        "  augmentation = random.choice(augmentations)\n",
        "  aug = None\n",
        "  if augmentation == \"h\":\n",
        "    aug = ImageOps.mirror(og)\n",
        "  elif augmentation == \"v\":\n",
        "    aug = ImageOps.flip(og)\n",
        "  else:\n",
        "    d = random.choice([90,180,270])\n",
        "    aug = og.rotate(d)\n",
        "  aug_array = np.array(aug)\n",
        "  return aug_array\n",
        "\n",
        "def show_image(image_array):\n",
        "  image = Image.fromarray(image_array)\n",
        "  display(image)\n"
      ]
    },
    {
      "cell_type": "code",
      "execution_count": null,
      "metadata": {
        "colab": {
          "base_uri": "https://localhost:8080/",
          "height": 211
        },
        "id": "unNYfQdpe-AP",
        "outputId": "728d8d69-b154-4051-f83b-de6572de6eb4"
      },
      "outputs": [
        {
          "ename": "NameError",
          "evalue": "name 'df' is not defined",
          "output_type": "error",
          "traceback": [
            "\u001b[0;31m---------------------------------------------------------------------------\u001b[0m",
            "\u001b[0;31mNameError\u001b[0m                                 Traceback (most recent call last)",
            "\u001b[0;32m<ipython-input-3-18538378607b>\u001b[0m in \u001b[0;36m<cell line: 2>\u001b[0;34m()\u001b[0m\n\u001b[1;32m      1\u001b[0m \u001b[0maugmented_dataset\u001b[0m \u001b[0;34m=\u001b[0m \u001b[0;34m[\u001b[0m\u001b[0;34m]\u001b[0m\u001b[0;34m\u001b[0m\u001b[0;34m\u001b[0m\u001b[0m\n\u001b[0;32m----> 2\u001b[0;31m \u001b[0;32mfor\u001b[0m \u001b[0mimage\u001b[0m \u001b[0;32min\u001b[0m \u001b[0mdf\u001b[0m\u001b[0;34m[\u001b[0m\u001b[0;34m\"image\"\u001b[0m\u001b[0;34m]\u001b[0m\u001b[0;34m:\u001b[0m\u001b[0;34m\u001b[0m\u001b[0;34m\u001b[0m\u001b[0m\n\u001b[0m\u001b[1;32m      3\u001b[0m   \u001b[0mbytes_arr\u001b[0m \u001b[0;34m=\u001b[0m \u001b[0mimage\u001b[0m\u001b[0;34m[\u001b[0m\u001b[0;34m\"bytes\"\u001b[0m\u001b[0;34m]\u001b[0m\u001b[0;34m\u001b[0m\u001b[0;34m\u001b[0m\u001b[0m\n\u001b[1;32m      4\u001b[0m   \u001b[0mimage_arr\u001b[0m \u001b[0;34m=\u001b[0m \u001b[0mprocess_image\u001b[0m\u001b[0;34m(\u001b[0m\u001b[0mbytes_arr\u001b[0m\u001b[0;34m)\u001b[0m\u001b[0;34m\u001b[0m\u001b[0;34m\u001b[0m\u001b[0m\n\u001b[1;32m      5\u001b[0m   \u001b[0maugmented_dataset\u001b[0m\u001b[0;34m.\u001b[0m\u001b[0mappend\u001b[0m\u001b[0;34m(\u001b[0m\u001b[0mimage_arr\u001b[0m\u001b[0;34m)\u001b[0m\u001b[0;34m\u001b[0m\u001b[0;34m\u001b[0m\u001b[0m\n",
            "\u001b[0;31mNameError\u001b[0m: name 'df' is not defined"
          ]
        }
      ],
      "source": [
        "augmented_dataset = []\n",
        "for image in df[\"image\"]:\n",
        "  bytes_arr = image[\"bytes\"]\n",
        "  image_arr = process_image(bytes_arr)\n",
        "  augmented_dataset.append(image_arr)\n",
        "  augmented_dataset.append(augment_image(image_arr))\n",
        "final_dataset = np.array(augmented_dataset)\n",
        "\n",
        "np.random.shuffle(final_dataset)"
      ]
    },
    {
      "cell_type": "code",
      "execution_count": null,
      "metadata": {
        "id": "_4I3ABmjhphA"
      },
      "outputs": [],
      "source": [
        "np.save(\"processed_data.npy\", final_dataset) #save to npy to avoid reprocessing"
      ]
    },
    {
      "cell_type": "markdown",
      "metadata": {
        "id": "ztpCnBxxeaWh"
      },
      "source": [
        "### Model Architecture"
      ]
    },
    {
      "cell_type": "code",
      "execution_count": 2,
      "metadata": {
        "id": "oPPOXRVlvcIz"
      },
      "outputs": [],
      "source": [
        "import torch\n",
        "import torch.nn as nn\n",
        "\n",
        "class ConvAutoEncoder(nn.Module):\n",
        "    def __init__(self):\n",
        "        super(ConvAutoEncoder, self).__init__()\n",
        "\n",
        "        # Encoder\n",
        "        self.encoder = nn.Sequential(\n",
        "            nn.Conv2d(3, 16, kernel_size=3, stride=1, padding=1),  # Output: (16, 64, 64)\n",
        "            nn.ReLU(),\n",
        "            nn.MaxPool2d(2, 2),  # Output: (16, 32, 32)\n",
        "            nn.Conv2d(16, 32, kernel_size=3, stride=1, padding=1),  # Output: (32, 32, 32)\n",
        "            nn.ReLU(),\n",
        "            nn.MaxPool2d(2, 2),  # Output: (32, 16, 16)\n",
        "        )\n",
        "\n",
        "        # Decoder\n",
        "        self.decoder = nn.Sequential(\n",
        "            nn.ConvTranspose2d(32, 16, kernel_size=2, stride=2),  # Output: (16, 32, 32)\n",
        "            nn.ReLU(),\n",
        "            nn.ConvTranspose2d(16, 3, kernel_size=2, stride=2),  # Output: (3, 64, 64)\n",
        "            nn.Sigmoid()  # Use sigmoid to scale the output to [0,1]\n",
        "        )\n",
        "\n",
        "    def forward(self, x):\n",
        "        x = self.encoder(x)\n",
        "        x = self.decoder(x)\n",
        "        return x"
      ]
    },
    {
      "cell_type": "markdown",
      "metadata": {
        "id": "sQ7weMFyeaWi"
      },
      "source": [
        "### Model Training"
      ]
    },
    {
      "cell_type": "code",
      "execution_count": null,
      "metadata": {
        "id": "Y4RkLtgVvd32"
      },
      "outputs": [],
      "source": [
        "import numpy as np\n",
        "\n",
        "processed_data = np.load(\"processed_data.npy\")\n",
        "\n",
        "X_train, X_valid, X_test = processed_data[:600], processed_data[600:800], processed_data[800:1000]"
      ]
    },
    {
      "cell_type": "code",
      "execution_count": 17,
      "metadata": {
        "id": "XB640LRbwQwf"
      },
      "outputs": [],
      "source": [
        "import torch\n",
        "import numpy as np\n",
        "\n",
        "def normalize_create_tensor(data):\n",
        "  \"\"\"\n",
        "  Normalize data and create a tensor\n",
        "  \"\"\"\n",
        "  n = len(data)\n",
        "  data_scaled = data.astype(np.float32)/255.0\n",
        "  data_reshaped = np.transpose(data_scaled, (0,3,1,2))\n",
        "  data_tensor = torch.tensor(data_reshaped)\n",
        "  # print(f'Shape: {data_tensor.shape}')  # Expected shape: (N, 3, 64, 64)\n",
        "  # print(f'Type: {data_tensor.dtype}')   # Should be torch.float32\n",
        "  return data_tensor\n"
      ]
    },
    {
      "cell_type": "code",
      "execution_count": null,
      "metadata": {
        "id": "kQ5kJ_SjyV7M"
      },
      "outputs": [],
      "source": [
        "X_train_tensor = normalize_create_tensor(X_train)\n",
        "X_valid_tensor = normalize_create_tensor(X_valid)\n",
        "X_test_tensor = normalize_create_tensor(X_test)"
      ]
    },
    {
      "cell_type": "code",
      "execution_count": 6,
      "metadata": {
        "id": "DV8ZDolmMWcV"
      },
      "outputs": [],
      "source": [
        "import matplotlib.pyplot as plt\n",
        "\n",
        "def plot_loss_curves(train_losses, valid_losses, title):\n",
        "    plt.figure(figsize=(10, 5))\n",
        "    plt.plot(train_losses, label=f'Training loss: {title}')\n",
        "    plt.plot(valid_losses, label=f'Validation loss: {title}')\n",
        "    plt.title('Loss Curves')\n",
        "    plt.xlabel('Epoch')\n",
        "    plt.ylabel('Loss')\n",
        "    plt.legend()\n",
        "    plt.grid(True)\n",
        "    plt.show()"
      ]
    },
    {
      "cell_type": "code",
      "execution_count": null,
      "metadata": {
        "colab": {
          "base_uri": "https://localhost:8080/",
          "height": 1000
        },
        "id": "m0UV7VmWwrbk",
        "outputId": "af9c159c-03ad-4e47-8ded-45d6cca7ce14"
      },
      "outputs": [
        {
          "name": "stdout",
          "output_type": "stream",
          "text": [
            "epoch: 0, train loss: 0.14042402803897858, valid loss: 0.13907071948051453\n",
            "epoch: 10, train loss: 0.09130176156759262, valid loss: 0.08619074523448944\n",
            "epoch: 20, train loss: 0.06591933965682983, valid loss: 0.06185470521450043\n",
            "epoch: 30, train loss: 0.04410899430513382, valid loss: 0.04215383529663086\n",
            "epoch: 40, train loss: 0.0368146076798439, valid loss: 0.03589056059718132\n",
            "epoch: 50, train loss: 0.032737307250499725, valid loss: 0.03206993266940117\n",
            "epoch: 60, train loss: 0.02989153563976288, valid loss: 0.029309673234820366\n",
            "epoch: 70, train loss: 0.02724042534828186, valid loss: 0.02672923356294632\n",
            "epoch: 80, train loss: 0.025426054373383522, valid loss: 0.02515406906604767\n",
            "epoch: 90, train loss: 0.023852840065956116, valid loss: 0.02351667732000351\n",
            "epoch: 100, train loss: 0.02151935175061226, valid loss: 0.021111255511641502\n",
            "epoch: 110, train loss: 0.017281103879213333, valid loss: 0.016786493360996246\n",
            "epoch: 120, train loss: 0.015377838164567947, valid loss: 0.015021692961454391\n",
            "epoch: 130, train loss: 0.016902845352888107, valid loss: 0.015296191908419132\n",
            "epoch: 140, train loss: 0.015272581949830055, valid loss: 0.01451142504811287\n",
            "epoch: 150, train loss: 0.013923149555921555, valid loss: 0.013110746629536152\n",
            "epoch: 160, train loss: 0.012918838299810886, valid loss: 0.012861409224569798\n",
            "epoch: 170, train loss: 0.012552115134894848, valid loss: 0.012408925220370293\n",
            "epoch: 180, train loss: 0.012212125584483147, valid loss: 0.012051146477460861\n",
            "epoch: 190, train loss: 0.011913458816707134, valid loss: 0.011766503565013409\n",
            "epoch: 200, train loss: 0.011656357906758785, valid loss: 0.011512287892401218\n",
            "epoch: 210, train loss: 0.01141522079706192, valid loss: 0.011292725801467896\n",
            "epoch: 220, train loss: 0.011198367923498154, valid loss: 0.011085545644164085\n",
            "epoch: 230, train loss: 0.011010096408426762, valid loss: 0.010903584770858288\n",
            "epoch: 240, train loss: 0.01083905529230833, valid loss: 0.010735895484685898\n",
            "epoch: 250, train loss: 0.010681958869099617, valid loss: 0.010585944168269634\n",
            "epoch: 260, train loss: 0.010536635294556618, valid loss: 0.010446489788591862\n",
            "epoch: 270, train loss: 0.010400290600955486, valid loss: 0.010316607542335987\n",
            "epoch: 280, train loss: 0.010271167382597923, valid loss: 0.010195949114859104\n",
            "epoch: 290, train loss: 0.010388767346739769, valid loss: 0.010288526304066181\n",
            "epoch: 300, train loss: 0.010042737238109112, valid loss: 0.010000335052609444\n",
            "epoch: 310, train loss: 0.009980857372283936, valid loss: 0.009909382089972496\n",
            "epoch: 320, train loss: 0.009868411347270012, valid loss: 0.009812149219214916\n",
            "epoch: 330, train loss: 0.009751182980835438, valid loss: 0.009701075963675976\n",
            "epoch: 340, train loss: 0.010404360480606556, valid loss: 0.010680371895432472\n",
            "epoch: 350, train loss: 0.009877121075987816, valid loss: 0.009753440506756306\n",
            "epoch: 360, train loss: 0.00959698110818863, valid loss: 0.009481886401772499\n",
            "epoch: 370, train loss: 0.009473880752921104, valid loss: 0.009413870982825756\n",
            "epoch: 380, train loss: 0.009389308281242847, valid loss: 0.009351811371743679\n",
            "epoch: 390, train loss: 0.009307125583291054, valid loss: 0.009267392568290234\n",
            "epoch: 400, train loss: 0.009247853420674801, valid loss: 0.009219301864504814\n",
            "epoch: 410, train loss: 0.00951357651501894, valid loss: 0.009501813910901546\n",
            "epoch: 420, train loss: 0.0092463418841362, valid loss: 0.009105854667723179\n",
            "epoch: 430, train loss: 0.009101218543946743, valid loss: 0.009112030267715454\n",
            "epoch: 440, train loss: 0.009027760475873947, valid loss: 0.008989017456769943\n",
            "epoch: 450, train loss: 0.00893376674503088, valid loss: 0.008915631100535393\n",
            "epoch: 460, train loss: 0.009059389121830463, valid loss: 0.0088923629373312\n",
            "epoch: 470, train loss: 0.00901105161756277, valid loss: 0.00889198761433363\n",
            "epoch: 480, train loss: 0.008736515417695045, valid loss: 0.008665408939123154\n",
            "epoch: 490, train loss: 0.008651555515825748, valid loss: 0.008659830316901207\n",
            "epoch: 500, train loss: 0.008620958775281906, valid loss: 0.008758709765970707\n",
            "epoch: 510, train loss: 0.00869780220091343, valid loss: 0.00850011222064495\n",
            "epoch: 520, train loss: 0.008454130962491035, valid loss: 0.0084688700735569\n",
            "epoch: 530, train loss: 0.008453670889139175, valid loss: 0.00828634575009346\n",
            "epoch: 540, train loss: 0.008201124146580696, valid loss: 0.00811388622969389\n",
            "epoch: 550, train loss: 0.008045936934649944, valid loss: 0.007948883809149265\n",
            "epoch: 560, train loss: 0.00866584200412035, valid loss: 0.009233537130057812\n",
            "epoch: 570, train loss: 0.00836083386093378, valid loss: 0.007991455495357513\n",
            "epoch: 580, train loss: 0.007962151430547237, valid loss: 0.007724485360085964\n",
            "epoch: 590, train loss: 0.007812149822711945, valid loss: 0.007636782247573137\n",
            "epoch: 600, train loss: 0.007713115308433771, valid loss: 0.007564189378172159\n",
            "epoch: 610, train loss: 0.0076277838088572025, valid loss: 0.00749870203435421\n",
            "epoch: 620, train loss: 0.007806073408573866, valid loss: 0.007664026226848364\n",
            "epoch: 630, train loss: 0.007829937152564526, valid loss: 0.007853337563574314\n",
            "epoch: 640, train loss: 0.0075638205744326115, valid loss: 0.007328198757022619\n",
            "epoch: 650, train loss: 0.007371712941676378, valid loss: 0.007188161835074425\n",
            "epoch: 660, train loss: 0.007287643849849701, valid loss: 0.007108889985829592\n",
            "epoch: 670, train loss: 0.0072187879122793674, valid loss: 0.007077183574438095\n",
            "epoch: 680, train loss: 0.007211646065115929, valid loss: 0.0070117260329425335\n",
            "epoch: 690, train loss: 0.007392595522105694, valid loss: 0.007259039673954248\n",
            "epoch: 700, train loss: 0.007331873755902052, valid loss: 0.007189634721726179\n",
            "epoch: 710, train loss: 0.006997849326580763, valid loss: 0.006849773693829775\n",
            "epoch: 720, train loss: 0.006938599981367588, valid loss: 0.006788215599954128\n",
            "epoch: 730, train loss: 0.006917336955666542, valid loss: 0.006781069561839104\n",
            "epoch: 740, train loss: 0.006976391654461622, valid loss: 0.006729055196046829\n",
            "epoch: 750, train loss: 0.006915142294019461, valid loss: 0.006670921575278044\n",
            "epoch: 760, train loss: 0.0068934909068048, valid loss: 0.006658327765762806\n",
            "epoch: 770, train loss: 0.006782539654523134, valid loss: 0.0066213663667440414\n",
            "epoch: 780, train loss: 0.006705982610583305, valid loss: 0.0065717753022909164\n",
            "epoch: 790, train loss: 0.006840593181550503, valid loss: 0.006694267503917217\n",
            "epoch: 800, train loss: 0.006822616793215275, valid loss: 0.006725288927555084\n",
            "epoch: 810, train loss: 0.006706051528453827, valid loss: 0.0064677828922867775\n",
            "epoch: 820, train loss: 0.006852423772215843, valid loss: 0.006792156491428614\n",
            "epoch: 830, train loss: 0.006692491006106138, valid loss: 0.006556488107889891\n",
            "epoch: 840, train loss: 0.006542053073644638, valid loss: 0.006404292769730091\n",
            "epoch: 850, train loss: 0.006515205837786198, valid loss: 0.006356970407068729\n",
            "epoch: 860, train loss: 0.006485826801508665, valid loss: 0.006353116128593683\n",
            "epoch: 870, train loss: 0.0067647965624928474, valid loss: 0.006407144945114851\n",
            "epoch: 880, train loss: 0.006663430482149124, valid loss: 0.006413618568331003\n",
            "epoch: 890, train loss: 0.006457804702222347, valid loss: 0.0062888567335903645\n",
            "epoch: 900, train loss: 0.0063989232294261456, valid loss: 0.0062705399468541145\n",
            "epoch: 910, train loss: 0.006365759763866663, valid loss: 0.006227046716958284\n",
            "epoch: 920, train loss: 0.006355580873787403, valid loss: 0.006218068767338991\n",
            "epoch: 930, train loss: 0.006926786620169878, valid loss: 0.006266895215958357\n",
            "epoch: 940, train loss: 0.006756206508725882, valid loss: 0.0062433579005301\n",
            "epoch: 950, train loss: 0.006424312479794025, valid loss: 0.006198791787028313\n",
            "epoch: 960, train loss: 0.006310712546110153, valid loss: 0.006168523337692022\n",
            "epoch: 970, train loss: 0.006281075067818165, valid loss: 0.006133567541837692\n",
            "epoch: 980, train loss: 0.006262336391955614, valid loss: 0.006125932559370995\n",
            "epoch: 990, train loss: 0.006328218150883913, valid loss: 0.006203490775078535\n"
          ]
        },
        {
          "data": {
            "image/png": "[encoded data removed]",
            "text/plain": [
              "<Figure size 1000x500 with 1 Axes>"
            ]
          },
          "metadata": {},
          "output_type": "display_data"
        }
      ],
      "source": [
        "import torch\n",
        "import torch.optim as optim\n",
        "import torch.nn as nn\n",
        "\n",
        "cae = ConvAutoEncoder()\n",
        "train_losses = []\n",
        "valid_losses = []\n",
        "\n",
        "def train_CAE():\n",
        "  loss_fn = nn.MSELoss()\n",
        "  lr = 0.0075\n",
        "  optimizer = optim.Adam(cae.parameters(), lr)\n",
        "  scheduler = optim.lr_scheduler.StepLR(optimizer, step_size = 100, gamma=0.1)\n",
        "  epochs = 1000\n",
        "  for epoch in range(epochs):\n",
        "    cae.train()\n",
        "    output = cae.forward(X_train_tensor)\n",
        "    loss = loss_fn(output, X_train_tensor)\n",
        "    train_losses.append(loss.detach().item())\n",
        "    optimizer.zero_grad()\n",
        "    loss.backward()\n",
        "    optimizer.step()\n",
        "    cae.eval()\n",
        "    with torch.no_grad():\n",
        "      valid_output = cae.forward(X_valid_tensor)\n",
        "      valid_loss = loss_fn(valid_output, X_valid_tensor)\n",
        "      valid_losses.append(valid_loss.item())\n",
        "    if not epoch % 10:\n",
        "      print(f\"epoch: {epoch}, train loss: {loss}, valid loss: {valid_loss}\")\n",
        "\n",
        "\n",
        "train_CAE()\n",
        "plot_loss_curves(train_losses, valid_losses, \"CAE\")\n"
      ]
    },
    {
      "cell_type": "code",
      "execution_count": 31,
      "metadata": {
        "id": "Xd6Wtqa-oqsM"
      },
      "outputs": [],
      "source": [
        "def predict_and_display_image(model, i, image_arr=None, classif=False): #visual testing\n",
        "  if image_arr is None:\n",
        "    image_arr = X_test[i] #np array of image\n",
        "  show_image(image_arr)\n",
        "  X = np.array([image_arr])\n",
        "  norm_X = normalize_create_tensor(X)\n",
        "  output = None\n",
        "  if not classif:\n",
        "    output = model.forward(norm_X)\n",
        "  else:\n",
        "    output, class_logits = model.forward(norm_X)\n",
        "  output = output.detach().cpu()\n",
        "  output_array = (output.numpy()*255).astype(np.uint8) #convert to numpy\n",
        "  output_array = np.transpose(output_array[0], (1, 2, 0))\n",
        "  show_image(output_array)\n"
      ]
    },
    {
      "cell_type": "code",
      "execution_count": null,
      "metadata": {
        "colab": {
          "base_uri": "https://localhost:8080/",
          "height": 529
        },
        "id": "lPK32GUQzsd0",
        "outputId": "4971e693-4f63-4dce-b2b4-2c42396e55aa"
      },
      "outputs": [
        {
          "data": {
            "image/png": "[encoded data removed]",
            "text/plain": [
              "<PIL.Image.Image image mode=RGB size=64x64>"
            ]
          },
          "metadata": {},
          "output_type": "display_data"
        },
        {
          "data": {
            "image/png": "[encoded data removed]",
            "text/plain": [
              "<PIL.Image.Image image mode=RGB size=64x64>"
            ]
          },
          "metadata": {},
          "output_type": "display_data"
        },
        {
          "data": {
            "image/png": "[encoded data removed]",
            "text/plain": [
              "<PIL.Image.Image image mode=RGB size=64x64>"
            ]
          },
          "metadata": {},
          "output_type": "display_data"
        },
        {
          "data": {
            "image/png": "[encoded data removed]",
            "text/plain": [
              "<PIL.Image.Image image mode=RGB size=64x64>"
            ]
          },
          "metadata": {},
          "output_type": "display_data"
        },
        {
          "data": {
            "image/png": "[encoded data removed]",
            "text/plain": [
              "<PIL.Image.Image image mode=RGB size=64x64>"
            ]
          },
          "metadata": {},
          "output_type": "display_data"
        },
        {
          "data": {
            "image/png": "[encoded data removed]",
            "text/plain": [
              "<PIL.Image.Image image mode=RGB size=64x64>"
            ]
          },
          "metadata": {},
          "output_type": "display_data"
        },
        {
          "data": {
            "image/png": "[encoded data removed]",
            "text/plain": [
              "<PIL.Image.Image image mode=RGB size=64x64>"
            ]
          },
          "metadata": {},
          "output_type": "display_data"
        },
        {
          "data": {
            "image/png": "[encoded data removed]",
            "text/plain": [
              "<PIL.Image.Image image mode=RGB size=64x64>"
            ]
          },
          "metadata": {},
          "output_type": "display_data"
        }
      ],
      "source": [
        "predict_and_display_image(cae,0)\n",
        "predict_and_display_image(cae,10)\n",
        "predict_and_display_image(cae,20)\n",
        "predict_and_display_image(cae,30)\n"
      ]
    },
    {
      "cell_type": "code",
      "execution_count": 29,
      "metadata": {
        "id": "WHpBhoNMD8Ky"
      },
      "outputs": [],
      "source": [
        "import torch\n",
        "\n",
        "def save_model(model, filename=\"model.pth\"): #saving model to avoid retraining\n",
        "    torch.save(model, filename)\n",
        "    print(f\"Model saved to {filename}\")"
      ]
    },
    {
      "cell_type": "code",
      "execution_count": null,
      "metadata": {
        "colab": {
          "base_uri": "https://localhost:8080/",
          "height": 34
        },
        "id": "SfHzIlxbV9mM",
        "outputId": "94de21c8-d7aa-43b9-edac-e6d57dcb2282"
      },
      "outputs": [
        {
          "name": "stdout",
          "output_type": "stream",
          "text": [
            "Model saved to cae_basic.pth\n"
          ]
        },
        {
          "data": {
            "application/javascript": "\n    async function download(id, filename, size) {\n      if (!google.colab.kernel.accessAllowed) {\n        return;\n      }\n      const div = document.createElement('div');\n      const label = document.createElement('label');\n      label.textContent = `Downloading \"${filename}\": `;\n      div.appendChild(label);\n      const progress = document.createElement('progress');\n      progress.max = size;\n      div.appendChild(progress);\n      document.body.appendChild(div);\n\n      const buffers = [];\n      let downloaded = 0;\n\n      const channel = await google.colab.kernel.comms.open(id);\n      // Send a message to notify the kernel that we're ready.\n      channel.send({})\n\n      for await (const message of channel.messages) {\n        // Send a message to notify the kernel that we're ready.\n        channel.send({})\n        if (message.buffers) {\n          for (const buffer of message.buffers) {\n            buffers.push(buffer);\n            downloaded += buffer.byteLength;\n            progress.value = downloaded;\n          }\n        }\n      }\n      const blob = new Blob(buffers, {type: 'application/binary'});\n      const a = document.createElement('a');\n      a.href = window.URL.createObjectURL(blob);\n      a.download = filename;\n      div.appendChild(a);\n      a.click();\n      div.remove();\n    }\n  ",
            "text/plain": [
              "<IPython.core.display.Javascript object>"
            ]
          },
          "metadata": {},
          "output_type": "display_data"
        },
        {
          "data": {
            "application/javascript": "download(\"download_065692c6-6299-4af1-9db8-8882422ea0c0\", \"cae_basic.pth\", 36184)",
            "text/plain": [
              "<IPython.core.display.Javascript object>"
            ]
          },
          "metadata": {},
          "output_type": "display_data"
        }
      ],
      "source": [
        "from google.colab import files\n",
        "\n",
        "save_model(cae, \"cae_basic.pth\")\n",
        "files.download(\"cae_basic.pth\")"
      ]
    },
    {
      "cell_type": "code",
      "execution_count": 16,
      "metadata": {
        "colab": {
          "base_uri": "https://localhost:8080/",
          "height": 339
        },
        "id": "RElWkkEaeaWk",
        "outputId": "422e9623-6d21-470b-afc1-c9fe52f803ae"
      },
      "outputs": [
        {
          "ename": "AttributeError",
          "evalue": "Can't get attribute 'ConvAutoEncoder' on <module '__main__'>",
          "output_type": "error",
          "traceback": [
            "\u001b[0;31m---------------------------------------------------------------------------\u001b[0m",
            "\u001b[0;31mAttributeError\u001b[0m                            Traceback (most recent call last)",
            "\u001b[0;32m<ipython-input-16-503d8ac2927c>\u001b[0m in \u001b[0;36m<cell line: 3>\u001b[0;34m()\u001b[0m\n\u001b[1;32m      1\u001b[0m \u001b[0;32mimport\u001b[0m \u001b[0mtorch\u001b[0m\u001b[0;34m\u001b[0m\u001b[0;34m\u001b[0m\u001b[0m\n\u001b[1;32m      2\u001b[0m \u001b[0;34m\u001b[0m\u001b[0m\n\u001b[0;32m----> 3\u001b[0;31m \u001b[0mcae\u001b[0m \u001b[0;34m=\u001b[0m \u001b[0mtorch\u001b[0m\u001b[0;34m.\u001b[0m\u001b[0mload\u001b[0m\u001b[0;34m(\u001b[0m\u001b[0;34m'cae_basic.pth'\u001b[0m\u001b[0;34m)\u001b[0m\u001b[0;34m\u001b[0m\u001b[0;34m\u001b[0m\u001b[0m\n\u001b[0m\u001b[1;32m      4\u001b[0m \u001b[0mcae\u001b[0m\u001b[0;34m.\u001b[0m\u001b[0meval\u001b[0m\u001b[0;34m(\u001b[0m\u001b[0;34m)\u001b[0m\u001b[0;34m\u001b[0m\u001b[0;34m\u001b[0m\u001b[0m\n",
            "\u001b[0;32m/usr/local/lib/python3.10/dist-packages/torch/serialization.py\u001b[0m in \u001b[0;36mload\u001b[0;34m(f, map_location, pickle_module, weights_only, mmap, **pickle_load_args)\u001b[0m\n\u001b[1;32m   1012\u001b[0m                     \u001b[0;32mexcept\u001b[0m \u001b[0mRuntimeError\u001b[0m \u001b[0;32mas\u001b[0m \u001b[0me\u001b[0m\u001b[0;34m:\u001b[0m\u001b[0;34m\u001b[0m\u001b[0;34m\u001b[0m\u001b[0m\n\u001b[1;32m   1013\u001b[0m                         \u001b[0;32mraise\u001b[0m \u001b[0mpickle\u001b[0m\u001b[0;34m.\u001b[0m\u001b[0mUnpicklingError\u001b[0m\u001b[0;34m(\u001b[0m\u001b[0mUNSAFE_MESSAGE\u001b[0m \u001b[0;34m+\u001b[0m \u001b[0mstr\u001b[0m\u001b[0;34m(\u001b[0m\u001b[0me\u001b[0m\u001b[0;34m)\u001b[0m\u001b[0;34m)\u001b[0m \u001b[0;32mfrom\u001b[0m \u001b[0;32mNone\u001b[0m\u001b[0;34m\u001b[0m\u001b[0;34m\u001b[0m\u001b[0m\n\u001b[0;32m-> 1014\u001b[0;31m                 return _load(opened_zipfile,\n\u001b[0m\u001b[1;32m   1015\u001b[0m                              \u001b[0mmap_location\u001b[0m\u001b[0;34m,\u001b[0m\u001b[0;34m\u001b[0m\u001b[0;34m\u001b[0m\u001b[0m\n\u001b[1;32m   1016\u001b[0m                              \u001b[0mpickle_module\u001b[0m\u001b[0;34m,\u001b[0m\u001b[0;34m\u001b[0m\u001b[0;34m\u001b[0m\u001b[0m\n",
            "\u001b[0;32m/usr/local/lib/python3.10/dist-packages/torch/serialization.py\u001b[0m in \u001b[0;36m_load\u001b[0;34m(zip_file, map_location, pickle_module, pickle_file, overall_storage, **pickle_load_args)\u001b[0m\n\u001b[1;32m   1420\u001b[0m     \u001b[0munpickler\u001b[0m \u001b[0;34m=\u001b[0m \u001b[0mUnpicklerWrapper\u001b[0m\u001b[0;34m(\u001b[0m\u001b[0mdata_file\u001b[0m\u001b[0;34m,\u001b[0m \u001b[0;34m**\u001b[0m\u001b[0mpickle_load_args\u001b[0m\u001b[0;34m)\u001b[0m\u001b[0;34m\u001b[0m\u001b[0;34m\u001b[0m\u001b[0m\n\u001b[1;32m   1421\u001b[0m     \u001b[0munpickler\u001b[0m\u001b[0;34m.\u001b[0m\u001b[0mpersistent_load\u001b[0m \u001b[0;34m=\u001b[0m \u001b[0mpersistent_load\u001b[0m\u001b[0;34m\u001b[0m\u001b[0;34m\u001b[0m\u001b[0m\n\u001b[0;32m-> 1422\u001b[0;31m     \u001b[0mresult\u001b[0m \u001b[0;34m=\u001b[0m \u001b[0munpickler\u001b[0m\u001b[0;34m.\u001b[0m\u001b[0mload\u001b[0m\u001b[0;34m(\u001b[0m\u001b[0;34m)\u001b[0m\u001b[0;34m\u001b[0m\u001b[0;34m\u001b[0m\u001b[0m\n\u001b[0m\u001b[1;32m   1423\u001b[0m \u001b[0;34m\u001b[0m\u001b[0m\n\u001b[1;32m   1424\u001b[0m     \u001b[0mtorch\u001b[0m\u001b[0;34m.\u001b[0m\u001b[0m_utils\u001b[0m\u001b[0;34m.\u001b[0m\u001b[0m_validate_loaded_sparse_tensors\u001b[0m\u001b[0;34m(\u001b[0m\u001b[0;34m)\u001b[0m\u001b[0;34m\u001b[0m\u001b[0;34m\u001b[0m\u001b[0m\n",
            "\u001b[0;32m/usr/local/lib/python3.10/dist-packages/torch/serialization.py\u001b[0m in \u001b[0;36mfind_class\u001b[0;34m(self, mod_name, name)\u001b[0m\n\u001b[1;32m   1413\u001b[0m                     \u001b[0;32mpass\u001b[0m\u001b[0;34m\u001b[0m\u001b[0;34m\u001b[0m\u001b[0m\n\u001b[1;32m   1414\u001b[0m             \u001b[0mmod_name\u001b[0m \u001b[0;34m=\u001b[0m \u001b[0mload_module_mapping\u001b[0m\u001b[0;34m.\u001b[0m\u001b[0mget\u001b[0m\u001b[0;34m(\u001b[0m\u001b[0mmod_name\u001b[0m\u001b[0;34m,\u001b[0m \u001b[0mmod_name\u001b[0m\u001b[0;34m)\u001b[0m\u001b[0;34m\u001b[0m\u001b[0;34m\u001b[0m\u001b[0m\n\u001b[0;32m-> 1415\u001b[0;31m             \u001b[0;32mreturn\u001b[0m \u001b[0msuper\u001b[0m\u001b[0;34m(\u001b[0m\u001b[0;34m)\u001b[0m\u001b[0;34m.\u001b[0m\u001b[0mfind_class\u001b[0m\u001b[0;34m(\u001b[0m\u001b[0mmod_name\u001b[0m\u001b[0;34m,\u001b[0m \u001b[0mname\u001b[0m\u001b[0;34m)\u001b[0m\u001b[0;34m\u001b[0m\u001b[0;34m\u001b[0m\u001b[0m\n\u001b[0m\u001b[1;32m   1416\u001b[0m \u001b[0;34m\u001b[0m\u001b[0m\n\u001b[1;32m   1417\u001b[0m     \u001b[0;31m# Load the data (which may in turn use `persistent_load` to load tensors)\u001b[0m\u001b[0;34m\u001b[0m\u001b[0;34m\u001b[0m\u001b[0m\n",
            "\u001b[0;31mAttributeError\u001b[0m: Can't get attribute 'ConvAutoEncoder' on <module '__main__'>"
          ]
        }
      ],
      "source": [
        "import torch\n",
        "\n",
        "cae = torch.load('cae_basic.pth')\n",
        "cae.eval()"
      ]
    },
    {
      "cell_type": "code",
      "execution_count": 58,
      "metadata": {
        "id": "R7Gi339cRhVS"
      },
      "outputs": [],
      "source": [
        "import torch.nn as nn\n",
        "\n",
        "def make_preds_and_eval(model, X_test, classif=False):\n",
        "    \"\"\"\n",
        "    Make preds on the model and return MSE loss\n",
        "    \"\"\"\n",
        "    preds = None\n",
        "    if not classif:\n",
        "      preds = model.forward(X_test)\n",
        "    else:\n",
        "      preds, _ = model.forward(X_test)\n",
        "    loss_fn = nn.MSELoss()\n",
        "    loss = loss_fn(preds, X_test)\n",
        "    print(f\"Average test loss: {loss}\")"
      ]
    },
    {
      "cell_type": "code",
      "execution_count": null,
      "metadata": {
        "id": "4Q9e6qo-eaWk",
        "outputId": "2f2bfcc7-de5f-4db1-a5cc-87a7b652cdec"
      },
      "outputs": [
        {
          "name": "stdout",
          "output_type": "stream",
          "text": [
            "Average test loss: 0.004883500747382641\n"
          ]
        }
      ],
      "source": [
        "make_preds_and_eval(cae, X_test_tensor)"
      ]
    },
    {
      "cell_type": "markdown",
      "metadata": {
        "id": "BRyMAnX9eaWl"
      },
      "source": [
        "## Question 2"
      ]
    },
    {
      "cell_type": "markdown",
      "metadata": {
        "id": "GFepL0ZxeaWl"
      },
      "source": [
        "### Data Processing for Classification"
      ]
    },
    {
      "cell_type": "code",
      "execution_count": 3,
      "metadata": {
        "colab": {
          "base_uri": "https://localhost:8080/"
        },
        "id": "8Ql81RXSej0q",
        "outputId": "551add79-2525-4a90-b99f-1a007a97baca"
      },
      "outputs": [
        {
          "name": "stdout",
          "output_type": "stream",
          "text": [
            "Collecting datasets\n",
            "  Downloading datasets-2.17.1-py3-none-any.whl (536 kB)\n",
            "\u001b[2K     \u001b[90m━━━━━━━━━━━━━━━━━━━━━━━━━━━━━━━━━━━━━━━━\u001b[0m \u001b[32m536.7/536.7 kB\u001b[0m \u001b[31m8.7 MB/s\u001b[0m eta \u001b[36m0:00:00\u001b[0m\n",
            "\u001b[?25hRequirement already satisfied: filelock in /usr/local/lib/python3.10/dist-packages (from datasets) (3.13.1)\n",
            "Requirement already satisfied: numpy>=1.17 in /usr/local/lib/python3.10/dist-packages (from datasets) (1.25.2)\n",
            "Requirement already satisfied: pyarrow>=12.0.0 in /usr/local/lib/python3.10/dist-packages (from datasets) (14.0.2)\n",
            "Requirement already satisfied: pyarrow-hotfix in /usr/local/lib/python3.10/dist-packages (from datasets) (0.6)\n",
            "Collecting dill<0.3.9,>=0.3.0 (from datasets)\n",
            "  Downloading dill-0.3.8-py3-none-any.whl (116 kB)\n",
            "\u001b[2K     \u001b[90m━━━━━━━━━━━━━━━━━━━━━━━━━━━━━━━━━━━━━━━━\u001b[0m \u001b[32m116.3/116.3 kB\u001b[0m \u001b[31m11.6 MB/s\u001b[0m eta \u001b[36m0:00:00\u001b[0m\n",
            "\u001b[?25hRequirement already satisfied: pandas in /usr/local/lib/python3.10/dist-packages (from datasets) (1.5.3)\n",
            "Requirement already satisfied: requests>=2.19.0 in /usr/local/lib/python3.10/dist-packages (from datasets) (2.31.0)\n",
            "Requirement already satisfied: tqdm>=4.62.1 in /usr/local/lib/python3.10/dist-packages (from datasets) (4.66.2)\n",
            "Requirement already satisfied: xxhash in /usr/local/lib/python3.10/dist-packages (from datasets) (3.4.1)\n",
            "Collecting multiprocess (from datasets)\n",
            "  Downloading multiprocess-0.70.16-py310-none-any.whl (134 kB)\n",
            "\u001b[2K     \u001b[90m━━━━━━━━━━━━━━━━━━━━━━━━━━━━━━━━━━━━━━━━\u001b[0m \u001b[32m134.8/134.8 kB\u001b[0m \u001b[31m13.9 MB/s\u001b[0m eta \u001b[36m0:00:00\u001b[0m\n",
            "\u001b[?25hRequirement already satisfied: fsspec[http]<=2023.10.0,>=2023.1.0 in /usr/local/lib/python3.10/dist-packages (from datasets) (2023.6.0)\n",
            "Requirement already satisfied: aiohttp in /usr/local/lib/python3.10/dist-packages (from datasets) (3.9.3)\n",
            "Requirement already satisfied: huggingface-hub>=0.19.4 in /usr/local/lib/python3.10/dist-packages (from datasets) (0.20.3)\n",
            "Requirement already satisfied: packaging in /usr/local/lib/python3.10/dist-packages (from datasets) (23.2)\n",
            "Requirement already satisfied: pyyaml>=5.1 in /usr/local/lib/python3.10/dist-packages (from datasets) (6.0.1)\n",
            "Requirement already satisfied: aiosignal>=1.1.2 in /usr/local/lib/python3.10/dist-packages (from aiohttp->datasets) (1.3.1)\n",
            "Requirement already satisfied: attrs>=17.3.0 in /usr/local/lib/python3.10/dist-packages (from aiohttp->datasets) (23.2.0)\n",
            "Requirement already satisfied: frozenlist>=1.1.1 in /usr/local/lib/python3.10/dist-packages (from aiohttp->datasets) (1.4.1)\n",
            "Requirement already satisfied: multidict<7.0,>=4.5 in /usr/local/lib/python3.10/dist-packages (from aiohttp->datasets) (6.0.5)\n",
            "Requirement already satisfied: yarl<2.0,>=1.0 in /usr/local/lib/python3.10/dist-packages (from aiohttp->datasets) (1.9.4)\n",
            "Requirement already satisfied: async-timeout<5.0,>=4.0 in /usr/local/lib/python3.10/dist-packages (from aiohttp->datasets) (4.0.3)\n",
            "Requirement already satisfied: typing-extensions>=3.7.4.3 in /usr/local/lib/python3.10/dist-packages (from huggingface-hub>=0.19.4->datasets) (4.9.0)\n",
            "Requirement already satisfied: charset-normalizer<4,>=2 in /usr/local/lib/python3.10/dist-packages (from requests>=2.19.0->datasets) (3.3.2)\n",
            "Requirement already satisfied: idna<4,>=2.5 in /usr/local/lib/python3.10/dist-packages (from requests>=2.19.0->datasets) (3.6)\n",
            "Requirement already satisfied: urllib3<3,>=1.21.1 in /usr/local/lib/python3.10/dist-packages (from requests>=2.19.0->datasets) (2.0.7)\n",
            "Requirement already satisfied: certifi>=2017.4.17 in /usr/local/lib/python3.10/dist-packages (from requests>=2.19.0->datasets) (2024.2.2)\n",
            "Requirement already satisfied: python-dateutil>=2.8.1 in /usr/local/lib/python3.10/dist-packages (from pandas->datasets) (2.8.2)\n",
            "Requirement already satisfied: pytz>=2020.1 in /usr/local/lib/python3.10/dist-packages (from pandas->datasets) (2023.4)\n",
            "Requirement already satisfied: six>=1.5 in /usr/local/lib/python3.10/dist-packages (from python-dateutil>=2.8.1->pandas->datasets) (1.16.0)\n",
            "Installing collected packages: dill, multiprocess, datasets\n",
            "Successfully installed datasets-2.17.1 dill-0.3.8 multiprocess-0.70.16\n"
          ]
        }
      ],
      "source": [
        "!pip install datasets"
      ]
    },
    {
      "cell_type": "code",
      "execution_count": 8,
      "metadata": {
        "id": "zcLamSZweaWl"
      },
      "outputs": [],
      "source": [
        "from datasets import load_dataset\n",
        "\n",
        "original_dataset = load_dataset(\"valhalla/emoji-dataset\")[\"train\"].to_pandas()"
      ]
    },
    {
      "cell_type": "code",
      "execution_count": 9,
      "metadata": {
        "id": "YI3BHkcyeaWl"
      },
      "outputs": [],
      "source": [
        "filtered = []\n",
        "\n",
        "for id, row_text in enumerate(original_dataset[\"text\"]):\n",
        "\n",
        "    if \"man\" in row_text:\n",
        "      text = row_text.split(' ')\n",
        "      singular = {'man':0, 'woman':0, 'boy':0, 'girl':0}\n",
        "\n",
        "      for word in text:\n",
        "          if word in singular.keys():\n",
        "              singular[word] += 1\n",
        "\n",
        "      if sum(singular.values()) > 1 :\n",
        "          pass\n",
        "\n",
        "      elif singular['man'] == 1:\n",
        "          filtered.append({\"image\": original_dataset[\"image\"][id], 'class':0})\n",
        "\n",
        "      elif singular['woman'] == 1:\n",
        "          filtered.append({\"image\": original_dataset[\"image\"][id], 'class':1})"
      ]
    },
    {
      "cell_type": "code",
      "execution_count": 10,
      "metadata": {
        "id": "dMsDraBteaWl"
      },
      "outputs": [],
      "source": [
        "import pandas as pd\n",
        "\n",
        "df = pd.DataFrame(filtered)\n",
        "df = df.sample(frac=1)"
      ]
    },
    {
      "cell_type": "code",
      "execution_count": 11,
      "metadata": {
        "colab": {
          "base_uri": "https://localhost:8080/"
        },
        "id": "zo5jMaGCe3B4",
        "outputId": "f344be57-bcc4-4715-91cf-495dd63d3eb8"
      },
      "outputs": [
        {
          "name": "stderr",
          "output_type": "stream",
          "text": [
            "<ipython-input-4-b119e863a0ae>:10: DeprecationWarning: ANTIALIAS is deprecated and will be removed in Pillow 10 (2023-07-01). Use LANCZOS or Resampling.LANCZOS instead.\n",
            "  resized_image = image.resize(size, Image.ANTIALIAS)\n"
          ]
        }
      ],
      "source": [
        "augmented_dataset = []\n",
        "labels = []\n",
        "for id, image in enumerate(df[\"image\"]):\n",
        "  bytes_arr = image[\"bytes\"]\n",
        "  image_arr = process_image(bytes_arr)\n",
        "  augmented_dataset.append(image_arr)\n",
        "  augmented_dataset.append(augment_image(image_arr))\n",
        "  labels.append(df[\"class\"][id])\n",
        "  labels.append(df[\"class\"][id])\n",
        "final_dataset = np.array(augmented_dataset)\n",
        "final_labels = np.array(labels)"
      ]
    },
    {
      "cell_type": "code",
      "execution_count": 13,
      "metadata": {
        "id": "0BzQdCJXfX8U"
      },
      "outputs": [],
      "source": [
        "np.save(\"processed_data_classif.npy\", final_dataset) #save to npy to avoid reprocessing\n",
        "np.save(\"class_labels_classif.npy\",final_labels )"
      ]
    },
    {
      "cell_type": "code",
      "execution_count": 14,
      "metadata": {
        "id": "UDfmKv6QgRG0"
      },
      "outputs": [],
      "source": [
        "import numpy as np\n",
        "\n",
        "processed_data = np.load(\"processed_data_classif.npy\")\n",
        "processed_labels = np.load(\"class_labels_classif.npy\")\n",
        "\n",
        "X_train, X_valid, X_test = processed_data[:600], processed_data[600:800], processed_data[800:1000]\n",
        "Y_train, Y_valid, Y_test = processed_labels[:600], processed_labels[600:800], processed_labels[800:1000]"
      ]
    },
    {
      "cell_type": "code",
      "execution_count": 18,
      "metadata": {
        "id": "FHCYYzfrgu3u"
      },
      "outputs": [],
      "source": [
        "X_train_tensor = normalize_create_tensor(X_train)\n",
        "X_valid_tensor = normalize_create_tensor(X_valid)\n",
        "X_test_tensor = normalize_create_tensor(X_test)\n",
        "\n",
        "Y_train_tensor = torch.from_numpy(Y_train).long()\n",
        "Y_test_tensor = torch.from_numpy(Y_test).long()\n",
        "Y_valid_tensor = torch.from_numpy(Y_valid).long()"
      ]
    },
    {
      "cell_type": "markdown",
      "metadata": {
        "id": "6O18goZTeaWm"
      },
      "source": [
        "### Model Architecture with Classification"
      ]
    },
    {
      "cell_type": "code",
      "execution_count": 38,
      "metadata": {
        "id": "HfyFcTVAeaWm"
      },
      "outputs": [],
      "source": [
        "import torch\n",
        "import torch.nn as nn\n",
        "\n",
        "class ConvAutoEncoderWithClassifier(nn.Module):\n",
        "    def __init__(self):\n",
        "        super(ConvAutoEncoderWithClassifier, self).__init__()\n",
        "\n",
        "        # Encoder\n",
        "        self.encoder = nn.Sequential(\n",
        "            nn.Conv2d(3, 16, kernel_size=3, stride=1, padding=1),  # Output: (16, 64, 64)\n",
        "            nn.ReLU(),\n",
        "            nn.MaxPool2d(2, 2),  # Output: (16, 32, 32)\n",
        "            nn.Conv2d(16, 32, kernel_size=3, stride=1, padding=1),  # Output: (32, 32, 32)\n",
        "            nn.ReLU(),\n",
        "            nn.MaxPool2d(2, 2),  # Output: (32, 16, 16)\n",
        "        )\n",
        "\n",
        "        # Decoder\n",
        "        self.decoder = nn.Sequential(\n",
        "            nn.ConvTranspose2d(32, 16, kernel_size=2, stride=2),  # Output: (16, 32, 32)\n",
        "            nn.ReLU(),\n",
        "            nn.ConvTranspose2d(16, 3, kernel_size=2, stride=2),  # Output: (3, 64, 64)\n",
        "            nn.Sigmoid()  # Use sigmoid to scale the output to [0,1]\n",
        "        )\n",
        "\n",
        "        # Classifier\n",
        "        self.classifier = nn.Sequential(\n",
        "            nn.Linear(32 * 16 * 16, 128),  # Flatten the encoder output and feed into classifier\n",
        "            nn.ReLU(),\n",
        "            nn.Linear(128, 2)\n",
        "        )\n",
        "\n",
        "    def forward(self, x):\n",
        "        # Encode the input and flatten for the classifier\n",
        "        encoded = self.encoder(x)\n",
        "        encoded_flat = torch.flatten(encoded, start_dim=1)\n",
        "        decoded = self.decoder(encoded)\n",
        "\n",
        "        # Get class prediction\n",
        "        class_logits = self.classifier(encoded_flat)\n",
        "\n",
        "        return decoded, class_logits\n"
      ]
    },
    {
      "cell_type": "markdown",
      "metadata": {
        "id": "EaNYFdaieaWm"
      },
      "source": [
        "### Model Training"
      ]
    },
    {
      "cell_type": "code",
      "execution_count": 50,
      "metadata": {
        "colab": {
          "base_uri": "https://localhost:8080/",
          "height": 1000
        },
        "id": "qubD4tx2eaWm",
        "outputId": "b4f7ab20-8720-4dbd-99df-0bf33bed1faa"
      },
      "outputs": [
        {
          "name": "stdout",
          "output_type": "stream",
          "text": [
            "epoch: 0, train total loss: 0.3599887490272522, valid total loss: 0.3724163770675659\n",
            "epoch: 0, train reconstruction loss: 0.18701760470867157, valid reconstruction loss: 0.18731439113616943\n",
            "epoch: 10, train total loss: 0.35599327087402344, valid total loss: 0.359510600566864\n",
            "epoch: 10, train reconstruction loss: 0.18502134084701538, valid reconstruction loss: 0.1857001930475235\n",
            "epoch: 20, train total loss: 0.34469136595726013, valid total loss: 0.36157694458961487\n",
            "epoch: 20, train reconstruction loss: 0.18243221938610077, valid reconstruction loss: 0.18283891677856445\n",
            "epoch: 30, train total loss: 0.3288332223892212, valid total loss: 0.3651115596294403\n",
            "epoch: 30, train reconstruction loss: 0.17630784213542938, valid reconstruction loss: 0.17620140314102173\n",
            "epoch: 40, train total loss: 0.30705296993255615, valid total loss: 0.35535502433776855\n",
            "epoch: 40, train reconstruction loss: 0.16581761837005615, valid reconstruction loss: 0.16470377147197723\n",
            "epoch: 50, train total loss: 0.2753322124481201, valid total loss: 0.34164923429489136\n",
            "epoch: 50, train reconstruction loss: 0.14439842104911804, valid reconstruction loss: 0.1416766345500946\n",
            "epoch: 60, train total loss: 0.2452082335948944, valid total loss: 0.31388023495674133\n",
            "epoch: 60, train reconstruction loss: 0.11618064343929291, valid reconstruction loss: 0.11231681704521179\n",
            "epoch: 70, train total loss: 0.21223270893096924, valid total loss: 0.31502366065979004\n",
            "epoch: 70, train reconstruction loss: 0.09446721524000168, valid reconstruction loss: 0.0908147394657135\n",
            "epoch: 80, train total loss: 0.20387542247772217, valid total loss: 0.2986094355583191\n",
            "epoch: 80, train reconstruction loss: 0.08226962387561798, valid reconstruction loss: 0.0785093680024147\n",
            "epoch: 90, train total loss: 0.1800280660390854, valid total loss: 0.2870040535926819\n",
            "epoch: 90, train reconstruction loss: 0.07155635952949524, valid reconstruction loss: 0.06773703545331955\n",
            "epoch: 100, train total loss: 0.1640518307685852, valid total loss: 0.2989860475063324\n",
            "epoch: 100, train reconstruction loss: 0.0602860189974308, valid reconstruction loss: 0.056854669004678726\n",
            "epoch: 110, train total loss: 0.14707179367542267, valid total loss: 0.2971540689468384\n",
            "epoch: 110, train reconstruction loss: 0.05036616697907448, valid reconstruction loss: 0.04741327464580536\n",
            "epoch: 120, train total loss: 0.14534157514572144, valid total loss: 0.3019258677959442\n",
            "epoch: 120, train reconstruction loss: 0.044918518513441086, valid reconstruction loss: 0.04248974472284317\n",
            "epoch: 130, train total loss: 0.13163615763187408, valid total loss: 0.30636829137802124\n",
            "epoch: 130, train reconstruction loss: 0.04108154773712158, valid reconstruction loss: 0.038744911551475525\n",
            "epoch: 140, train total loss: 0.11591339111328125, valid total loss: 0.3113655149936676\n",
            "epoch: 140, train reconstruction loss: 0.037928588688373566, valid reconstruction loss: 0.03585327789187431\n",
            "epoch: 150, train total loss: 0.11493854224681854, valid total loss: 0.3419661819934845\n",
            "epoch: 150, train reconstruction loss: 0.035473741590976715, valid reconstruction loss: 0.03354166820645332\n",
            "epoch: 160, train total loss: 0.10186044871807098, valid total loss: 0.3399166762828827\n",
            "epoch: 160, train reconstruction loss: 0.033833082765340805, valid reconstruction loss: 0.031949732452631\n",
            "epoch: 170, train total loss: 0.09803793579339981, valid total loss: 0.3424060642719269\n",
            "epoch: 170, train reconstruction loss: 0.03220594674348831, valid reconstruction loss: 0.030429812148213387\n",
            "epoch: 180, train total loss: 0.10071108490228653, valid total loss: 0.3635493218898773\n",
            "epoch: 180, train reconstruction loss: 0.03073444962501526, valid reconstruction loss: 0.0290097426623106\n",
            "epoch: 190, train total loss: 0.08959577977657318, valid total loss: 0.38150912523269653\n",
            "epoch: 190, train reconstruction loss: 0.0295114703476429, valid reconstruction loss: 0.02787158638238907\n",
            "epoch: 200, train total loss: 0.08461529016494751, valid total loss: 0.38644325733184814\n",
            "epoch: 200, train reconstruction loss: 0.02817121148109436, valid reconstruction loss: 0.026549212634563446\n",
            "epoch: 210, train total loss: 0.08626393228769302, valid total loss: 0.43641284108161926\n",
            "epoch: 210, train reconstruction loss: 0.026889273896813393, valid reconstruction loss: 0.025360167026519775\n",
            "epoch: 220, train total loss: 0.0802864283323288, valid total loss: 0.3991612195968628\n",
            "epoch: 220, train reconstruction loss: 0.02632443606853485, valid reconstruction loss: 0.024691171944141388\n",
            "epoch: 230, train total loss: 0.07129858434200287, valid total loss: 0.4198943078517914\n",
            "epoch: 230, train reconstruction loss: 0.02512396313250065, valid reconstruction loss: 0.023667549714446068\n",
            "epoch: 240, train total loss: 0.06607189774513245, valid total loss: 0.4326217770576477\n",
            "epoch: 240, train reconstruction loss: 0.023899558931589127, valid reconstruction loss: 0.022501587867736816\n",
            "epoch: 250, train total loss: 0.06031443923711777, valid total loss: 0.45273029804229736\n",
            "epoch: 250, train reconstruction loss: 0.02282547764480114, valid reconstruction loss: 0.02146531268954277\n",
            "epoch: 260, train total loss: 0.057070642709732056, valid total loss: 0.46603381633758545\n",
            "epoch: 260, train reconstruction loss: 0.021975427865982056, valid reconstruction loss: 0.02064776048064232\n",
            "epoch: 270, train total loss: 0.0628051608800888, valid total loss: 0.502951443195343\n",
            "epoch: 270, train reconstruction loss: 0.02124410681426525, valid reconstruction loss: 0.019989175722002983\n",
            "epoch: 280, train total loss: 0.05270932614803314, valid total loss: 0.49576887488365173\n",
            "epoch: 280, train reconstruction loss: 0.020814629271626472, valid reconstruction loss: 0.019520370289683342\n",
            "epoch: 290, train total loss: 0.05148966610431671, valid total loss: 0.5036543011665344\n",
            "epoch: 290, train reconstruction loss: 0.02024056948721409, valid reconstruction loss: 0.01899946853518486\n",
            "epoch: 300, train total loss: 0.04746399074792862, valid total loss: 0.5206195116043091\n",
            "epoch: 300, train reconstruction loss: 0.01975974440574646, valid reconstruction loss: 0.01850597746670246\n",
            "epoch: 310, train total loss: 0.045841291546821594, valid total loss: 0.5393341779708862\n",
            "epoch: 310, train reconstruction loss: 0.019342344254255295, valid reconstruction loss: 0.018121866509318352\n",
            "epoch: 320, train total loss: 0.043620094656944275, valid total loss: 0.5548962950706482\n",
            "epoch: 320, train reconstruction loss: 0.01895645074546337, valid reconstruction loss: 0.01774279959499836\n",
            "epoch: 330, train total loss: 0.04286084324121475, valid total loss: 0.5732440948486328\n",
            "epoch: 330, train reconstruction loss: 0.01863696612417698, valid reconstruction loss: 0.017413228750228882\n",
            "epoch: 340, train total loss: 0.0772920548915863, valid total loss: 0.5092303156852722\n",
            "epoch: 340, train reconstruction loss: 0.02630629949271679, valid reconstruction loss: 0.02914058417081833\n",
            "epoch: 350, train total loss: 0.05748261138796806, valid total loss: 0.4414934515953064\n",
            "epoch: 350, train reconstruction loss: 0.021391909569501877, valid reconstruction loss: 0.020179064944386482\n",
            "epoch: 360, train total loss: 0.05210353061556816, valid total loss: 0.4705527424812317\n",
            "epoch: 360, train reconstruction loss: 0.019615069031715393, valid reconstruction loss: 0.018119828775525093\n",
            "epoch: 370, train total loss: 0.04580378159880638, valid total loss: 0.5026578307151794\n",
            "epoch: 370, train reconstruction loss: 0.01872076280415058, valid reconstruction loss: 0.0174882635474205\n",
            "epoch: 380, train total loss: 0.04194403439760208, valid total loss: 0.539474606513977\n",
            "epoch: 380, train reconstruction loss: 0.018211642280220985, valid reconstruction loss: 0.01701250486075878\n",
            "epoch: 390, train total loss: 0.039526961743831635, valid total loss: 0.5564456582069397\n",
            "epoch: 390, train reconstruction loss: 0.017730731517076492, valid reconstruction loss: 0.01654246635735035\n",
            "epoch: 400, train total loss: 0.037975650280714035, valid total loss: 0.5726759433746338\n",
            "epoch: 400, train reconstruction loss: 0.017339956015348434, valid reconstruction loss: 0.016157032921910286\n",
            "epoch: 410, train total loss: 0.036718495190143585, valid total loss: 0.5896624326705933\n",
            "epoch: 410, train reconstruction loss: 0.017035016790032387, valid reconstruction loss: 0.01586533524096012\n",
            "epoch: 420, train total loss: 0.03568553924560547, valid total loss: 0.6048884987831116\n",
            "epoch: 420, train reconstruction loss: 0.01684057153761387, valid reconstruction loss: 0.01567912846803665\n",
            "epoch: 430, train total loss: 0.03474453464150429, valid total loss: 0.6181290149688721\n",
            "epoch: 430, train reconstruction loss: 0.016660209745168686, valid reconstruction loss: 0.015503937378525734\n",
            "epoch: 440, train total loss: 0.033872127532958984, valid total loss: 0.6303444504737854\n",
            "epoch: 440, train reconstruction loss: 0.016496526077389717, valid reconstruction loss: 0.015346461907029152\n",
            "epoch: 450, train total loss: 0.03306236490607262, valid total loss: 0.6428505182266235\n",
            "epoch: 450, train reconstruction loss: 0.016335032880306244, valid reconstruction loss: 0.015189288184046745\n",
            "epoch: 460, train total loss: 0.03229163587093353, valid total loss: 0.6556630730628967\n",
            "epoch: 460, train reconstruction loss: 0.016177494078874588, valid reconstruction loss: 0.015040518715977669\n",
            "epoch: 470, train total loss: 0.03156270086765289, valid total loss: 0.6683259606361389\n",
            "epoch: 470, train reconstruction loss: 0.0160218495875597, valid reconstruction loss: 0.014889518730342388\n",
            "epoch: 480, train total loss: 0.030866874381899834, valid total loss: 0.6809607744216919\n",
            "epoch: 480, train reconstruction loss: 0.015878083184361458, valid reconstruction loss: 0.01474793627858162\n",
            "epoch: 490, train total loss: 0.0302068330347538, valid total loss: 0.6928607225418091\n",
            "epoch: 490, train reconstruction loss: 0.015731699764728546, valid reconstruction loss: 0.014616172760725021\n",
            "epoch: 500, train total loss: 0.02957272157073021, valid total loss: 0.704949676990509\n",
            "epoch: 500, train reconstruction loss: 0.015591376461088657, valid reconstruction loss: 0.014479103498160839\n",
            "epoch: 510, train total loss: 0.028963670134544373, valid total loss: 0.7175078988075256\n",
            "epoch: 510, train reconstruction loss: 0.015453100204467773, valid reconstruction loss: 0.014349923469126225\n",
            "epoch: 520, train total loss: 0.02838156558573246, valid total loss: 0.7294462323188782\n",
            "epoch: 520, train reconstruction loss: 0.015315176919102669, valid reconstruction loss: 0.014215340837836266\n",
            "epoch: 530, train total loss: 0.027822235599160194, valid total loss: 0.7409548163414001\n",
            "epoch: 530, train reconstruction loss: 0.01517489179968834, valid reconstruction loss: 0.014087163843214512\n",
            "epoch: 540, train total loss: 0.02727528288960457, valid total loss: 0.7526960968971252\n",
            "epoch: 540, train reconstruction loss: 0.015045195817947388, valid reconstruction loss: 0.01396159827709198\n",
            "epoch: 550, train total loss: 0.026749294251203537, valid total loss: 0.765049934387207\n",
            "epoch: 550, train reconstruction loss: 0.014910823665559292, valid reconstruction loss: 0.01383766159415245\n",
            "epoch: 560, train total loss: 0.026245243847370148, valid total loss: 0.7765131592750549\n",
            "epoch: 560, train reconstruction loss: 0.01477664802223444, valid reconstruction loss: 0.013713960535824299\n",
            "epoch: 570, train total loss: 0.02575276419520378, valid total loss: 0.788336455821991\n",
            "epoch: 570, train reconstruction loss: 0.014650781638920307, valid reconstruction loss: 0.013593784533441067\n",
            "epoch: 580, train total loss: 0.025280842557549477, valid total loss: 0.8002283573150635\n",
            "epoch: 580, train reconstruction loss: 0.014522396959364414, valid reconstruction loss: 0.013474106788635254\n",
            "epoch: 590, train total loss: 0.02482789009809494, valid total loss: 0.8114751577377319\n",
            "epoch: 590, train reconstruction loss: 0.014395204372704029, valid reconstruction loss: 0.013353770598769188\n",
            "epoch: 600, train total loss: 0.024387693032622337, valid total loss: 0.8227041363716125\n",
            "epoch: 600, train reconstruction loss: 0.014268884435296059, valid reconstruction loss: 0.013238469138741493\n",
            "epoch: 610, train total loss: 0.023964421823620796, valid total loss: 0.8346749544143677\n",
            "epoch: 610, train reconstruction loss: 0.014145675115287304, valid reconstruction loss: 0.013121630996465683\n",
            "epoch: 620, train total loss: 0.023552529513835907, valid total loss: 0.8449102640151978\n",
            "epoch: 620, train reconstruction loss: 0.014025209471583366, valid reconstruction loss: 0.013008899986743927\n",
            "epoch: 630, train total loss: 0.023150738328695297, valid total loss: 0.8565161824226379\n",
            "epoch: 630, train reconstruction loss: 0.01390357781201601, valid reconstruction loss: 0.012900883331894875\n",
            "epoch: 640, train total loss: 0.02276390790939331, valid total loss: 0.8668601512908936\n",
            "epoch: 640, train reconstruction loss: 0.01378527283668518, valid reconstruction loss: 0.012786717154085636\n",
            "epoch: 650, train total loss: 0.02238725684583187, valid total loss: 0.8785752654075623\n",
            "epoch: 650, train reconstruction loss: 0.013664758764207363, valid reconstruction loss: 0.012683880515396595\n",
            "epoch: 660, train total loss: 0.022022794932127, valid total loss: 0.8892354965209961\n",
            "epoch: 660, train reconstruction loss: 0.013551774434745312, valid reconstruction loss: 0.012576154433190823\n",
            "epoch: 670, train total loss: 0.021666906774044037, valid total loss: 0.9004451632499695\n",
            "epoch: 670, train reconstruction loss: 0.013439972884953022, valid reconstruction loss: 0.012469188310205936\n",
            "epoch: 680, train total loss: 0.02132224850356579, valid total loss: 0.9109575152397156\n",
            "epoch: 680, train reconstruction loss: 0.013328470289707184, valid reconstruction loss: 0.012372025288641453\n",
            "epoch: 690, train total loss: 0.020986441522836685, valid total loss: 0.9205372333526611\n",
            "epoch: 690, train reconstruction loss: 0.013222351670265198, valid reconstruction loss: 0.012276516295969486\n",
            "epoch: 700, train total loss: 0.02066163346171379, valid total loss: 0.9310238361358643\n",
            "epoch: 700, train reconstruction loss: 0.013111445121467113, valid reconstruction loss: 0.012179258279502392\n",
            "epoch: 710, train total loss: 0.020346440374851227, valid total loss: 0.9412932395935059\n",
            "epoch: 710, train reconstruction loss: 0.013004464097321033, valid reconstruction loss: 0.012080580927431583\n",
            "epoch: 720, train total loss: 0.020036786794662476, valid total loss: 0.9519249200820923\n",
            "epoch: 720, train reconstruction loss: 0.01290103793144226, valid reconstruction loss: 0.011986946687102318\n",
            "epoch: 730, train total loss: 0.01973731443285942, valid total loss: 0.9627266526222229\n",
            "epoch: 730, train reconstruction loss: 0.012796460650861263, valid reconstruction loss: 0.011892994865775108\n",
            "epoch: 740, train total loss: 0.01944911852478981, valid total loss: 0.972976803779602\n",
            "epoch: 740, train reconstruction loss: 0.012693011201918125, valid reconstruction loss: 0.011800071224570274\n",
            "epoch: 750, train total loss: 0.01916901022195816, valid total loss: 0.9831653833389282\n",
            "epoch: 750, train reconstruction loss: 0.012592882849276066, valid reconstruction loss: 0.011707719415426254\n",
            "epoch: 760, train total loss: 0.01889433152973652, valid total loss: 0.9935438632965088\n",
            "epoch: 760, train reconstruction loss: 0.01249309629201889, valid reconstruction loss: 0.011617876589298248\n",
            "epoch: 770, train total loss: 0.018627434968948364, valid total loss: 1.0033308267593384\n",
            "epoch: 770, train reconstruction loss: 0.012394803576171398, valid reconstruction loss: 0.011529765091836452\n",
            "epoch: 780, train total loss: 0.018368752673268318, valid total loss: 1.0134612321853638\n",
            "epoch: 780, train reconstruction loss: 0.012298804707825184, valid reconstruction loss: 0.011443667113780975\n",
            "epoch: 790, train total loss: 0.018116027116775513, valid total loss: 1.0234763622283936\n",
            "epoch: 790, train reconstruction loss: 0.012205100618302822, valid reconstruction loss: 0.01136030163615942\n",
            "epoch: 800, train total loss: 0.017869507893919945, valid total loss: 1.0326024293899536\n",
            "epoch: 800, train reconstruction loss: 0.012106719426810741, valid reconstruction loss: 0.011268336325883865\n",
            "epoch: 810, train total loss: 0.017627831548452377, valid total loss: 1.0428435802459717\n",
            "epoch: 810, train reconstruction loss: 0.012014028616249561, valid reconstruction loss: 0.011186976917088032\n",
            "epoch: 820, train total loss: 0.017392391338944435, valid total loss: 1.0531538724899292\n",
            "epoch: 820, train reconstruction loss: 0.011923336423933506, valid reconstruction loss: 0.011106873862445354\n",
            "epoch: 830, train total loss: 0.017166176810860634, valid total loss: 1.0630446672439575\n",
            "epoch: 830, train reconstruction loss: 0.011838181875646114, valid reconstruction loss: 0.01102843414992094\n",
            "epoch: 840, train total loss: 0.016943609341979027, valid total loss: 1.0728249549865723\n",
            "epoch: 840, train reconstruction loss: 0.011753265745937824, valid reconstruction loss: 0.010954577475786209\n"
          ]
        },
        {
          "data": {
            "image/png": "[encoded data removed]",
            "text/plain": [
              "<Figure size 1000x500 with 1 Axes>"
            ]
          },
          "metadata": {},
          "output_type": "display_data"
        },
        {
          "name": "stdout",
          "output_type": "stream",
          "text": [
            "\n"
          ]
        },
        {
          "data": {
            "image/png": "[encoded data removed]",
            "text/plain": [
              "<Figure size 1000x500 with 1 Axes>"
            ]
          },
          "metadata": {},
          "output_type": "display_data"
        }
      ],
      "source": [
        "import torch\n",
        "from torch import nn, optim\n",
        "\n",
        "cae_classif = ConvAutoEncoderWithClassifier()\n",
        "\n",
        "def train_cae_classif(X_train, Y_train, X_valid, Y_valid, lambda_val):\n",
        "\n",
        "    reconstruction_loss_fn = nn.MSELoss()\n",
        "    classification_loss_fn = nn.CrossEntropyLoss()\n",
        "\n",
        "    # Define the optimizer\n",
        "    lr = 0.001\n",
        "    epochs = 850\n",
        "    optimizer = optim.Adam(cae_classif.parameters(), lr)\n",
        "\n",
        "\n",
        "    train_losses = []\n",
        "    valid_losses = []\n",
        "\n",
        "    train_reconstruction_losses = []\n",
        "    valid_reconstruction_losses = []\n",
        "\n",
        "    for epoch in range(epochs):\n",
        "        cae_classif.train()\n",
        "\n",
        "        outputs, class_outputs = cae_classif(X_train)\n",
        "        reconstruction_loss = reconstruction_loss_fn(outputs, X_train)\n",
        "        classification_loss = classification_loss_fn(class_outputs, Y_train)\n",
        "        total_loss = reconstruction_loss + lambda_val * classification_loss\n",
        "\n",
        "        optimizer.zero_grad()\n",
        "        total_loss.backward()\n",
        "        optimizer.step()\n",
        "\n",
        "        cae_classif.eval()\n",
        "        with torch.no_grad():\n",
        "            valid_outputs, valid_class_outputs = cae_classif(X_valid)\n",
        "            valid_reconstruction_loss = reconstruction_loss_fn(valid_outputs, X_valid)\n",
        "            valid_classification_loss = classification_loss_fn(valid_class_outputs, Y_valid)\n",
        "            valid_total_loss = valid_reconstruction_loss + lambda_val * valid_classification_loss\n",
        "\n",
        "        train_losses.append(total_loss.detach().item())\n",
        "        valid_losses.append(valid_total_loss.item())\n",
        "        train_reconstruction_losses.append(reconstruction_loss.detach().item())\n",
        "        valid_reconstruction_losses.append(valid_reconstruction_loss.detach().item())\n",
        "\n",
        "        if not epoch % 10:\n",
        "            print(f\"epoch: {epoch}, train total loss: {total_loss}, valid total loss: {valid_total_loss}\")\n",
        "            print(f\"epoch: {epoch}, train reconstruction loss: {reconstruction_loss}, valid reconstruction loss: {valid_reconstruction_loss}\")\n",
        "\n",
        "    return train_losses, valid_losses, train_reconstruction_losses, valid_reconstruction_losses\n",
        "\n",
        "train_losses, valid_losses, train_reconstruction_losses, valid_reconstruction_losses = train_cae_classif(X_train_tensor, Y_train_tensor, X_valid_tensor, Y_valid_tensor, lambda_val = 0.25)\n",
        "plot_loss_curves(train_losses, valid_losses, \"CAE Total Loss (Reconstruction + Classification)\")\n",
        "print()\n",
        "plot_loss_curves(train_reconstruction_losses, valid_reconstruction_losses, \"CAE Reconstruction Loss (with Classification)\")\n"
      ]
    },
    {
      "cell_type": "code",
      "execution_count": 53,
      "metadata": {
        "colab": {
          "base_uri": "https://localhost:8080/",
          "height": 34
        },
        "id": "pFXd3EpID08-",
        "outputId": "46914aeb-159d-4bd8-d481-4266efbba4a5"
      },
      "outputs": [
        {
          "name": "stdout",
          "output_type": "stream",
          "text": [
            "Model saved to cae_classif.pth\n"
          ]
        },
        {
          "data": {
            "application/javascript": "\n    async function download(id, filename, size) {\n      if (!google.colab.kernel.accessAllowed) {\n        return;\n      }\n      const div = document.createElement('div');\n      const label = document.createElement('label');\n      label.textContent = `Downloading \"${filename}\": `;\n      div.appendChild(label);\n      const progress = document.createElement('progress');\n      progress.max = size;\n      div.appendChild(progress);\n      document.body.appendChild(div);\n\n      const buffers = [];\n      let downloaded = 0;\n\n      const channel = await google.colab.kernel.comms.open(id);\n      // Send a message to notify the kernel that we're ready.\n      channel.send({})\n\n      for await (const message of channel.messages) {\n        // Send a message to notify the kernel that we're ready.\n        channel.send({})\n        if (message.buffers) {\n          for (const buffer of message.buffers) {\n            buffers.push(buffer);\n            downloaded += buffer.byteLength;\n            progress.value = downloaded;\n          }\n        }\n      }\n      const blob = new Blob(buffers, {type: 'application/binary'});\n      const a = document.createElement('a');\n      a.href = window.URL.createObjectURL(blob);\n      a.download = filename;\n      div.appendChild(a);\n      a.click();\n      div.remove();\n    }\n  ",
            "text/plain": [
              "<IPython.core.display.Javascript object>"
            ]
          },
          "metadata": {},
          "output_type": "display_data"
        },
        {
          "data": {
            "application/javascript": "download(\"download_7f3b387a-0d64-4299-9c8f-9a5e4d8f9f1b\", \"cae_classif.pth\", 4234226)",
            "text/plain": [
              "<IPython.core.display.Javascript object>"
            ]
          },
          "metadata": {},
          "output_type": "display_data"
        }
      ],
      "source": [
        "from google.colab import files\n",
        "import torch\n",
        "\n",
        "save_model(cae_classif, \"cae_classif.pth\")\n",
        "files.download(\"cae_classif.pth\")"
      ]
    },
    {
      "cell_type": "code",
      "execution_count": 56,
      "metadata": {
        "colab": {
          "base_uri": "https://localhost:8080/"
        },
        "id": "QfTYVn34Ebnb",
        "outputId": "54e1078d-44f4-432c-ed0b-11c2ff4a3537"
      },
      "outputs": [
        {
          "data": {
            "text/plain": [
              "ConvAutoEncoderWithClassifier(\n",
              "  (encoder): Sequential(\n",
              "    (0): Conv2d(3, 16, kernel_size=(3, 3), stride=(1, 1), padding=(1, 1))\n",
              "    (1): ReLU()\n",
              "    (2): MaxPool2d(kernel_size=2, stride=2, padding=0, dilation=1, ceil_mode=False)\n",
              "    (3): Conv2d(16, 32, kernel_size=(3, 3), stride=(1, 1), padding=(1, 1))\n",
              "    (4): ReLU()\n",
              "    (5): MaxPool2d(kernel_size=2, stride=2, padding=0, dilation=1, ceil_mode=False)\n",
              "  )\n",
              "  (decoder): Sequential(\n",
              "    (0): ConvTranspose2d(32, 16, kernel_size=(2, 2), stride=(2, 2))\n",
              "    (1): ReLU()\n",
              "    (2): ConvTranspose2d(16, 3, kernel_size=(2, 2), stride=(2, 2))\n",
              "    (3): Sigmoid()\n",
              "  )\n",
              "  (classifier): Sequential(\n",
              "    (0): Linear(in_features=8192, out_features=128, bias=True)\n",
              "    (1): ReLU()\n",
              "    (2): Linear(in_features=128, out_features=2, bias=True)\n",
              "  )\n",
              ")"
            ]
          },
          "execution_count": 56,
          "metadata": {},
          "output_type": "execute_result"
        }
      ],
      "source": [
        "import torch\n",
        "\n",
        "cae_classif = torch.load('cae_classif.pth')\n",
        "cae_classif.eval()"
      ]
    },
    {
      "cell_type": "code",
      "execution_count": 59,
      "metadata": {
        "colab": {
          "base_uri": "https://localhost:8080/"
        },
        "id": "xftzZdTXRoTM",
        "outputId": "a3a044ba-297e-4008-c4ad-81ba0b7266f3"
      },
      "outputs": [
        {
          "name": "stdout",
          "output_type": "stream",
          "text": [
            "Average test loss: 0.012359038926661015\n"
          ]
        }
      ],
      "source": [
        "make_preds_and_eval(cae_classif, X_test_tensor, True)"
      ]
    },
    {
      "cell_type": "code",
      "execution_count": 49,
      "metadata": {
        "colab": {
          "base_uri": "https://localhost:8080/",
          "height": 529
        },
        "id": "KSvefB_encce",
        "outputId": "a80ed6b2-553a-45cc-c6d3-1cf0cc38ba25"
      },
      "outputs": [
        {
          "data": {
            "image/png": "[encoded data removed]",
            "text/plain": [
              "<PIL.Image.Image image mode=RGB size=64x64>"
            ]
          },
          "metadata": {},
          "output_type": "display_data"
        },
        {
          "data": {
            "image/png": "[encoded data removed]",
            "text/plain": [
              "<PIL.Image.Image image mode=RGB size=64x64>"
            ]
          },
          "metadata": {},
          "output_type": "display_data"
        },
        {
          "data": {
            "image/png": "[encoded data removed]",
            "text/plain": [
              "<PIL.Image.Image image mode=RGB size=64x64>"
            ]
          },
          "metadata": {},
          "output_type": "display_data"
        },
        {
          "data": {
            "image/png": "[encoded data removed]",
            "text/plain": [
              "<PIL.Image.Image image mode=RGB size=64x64>"
            ]
          },
          "metadata": {},
          "output_type": "display_data"
        },
        {
          "data": {
            "image/png": "[encoded data removed]",
            "text/plain": [
              "<PIL.Image.Image image mode=RGB size=64x64>"
            ]
          },
          "metadata": {},
          "output_type": "display_data"
        },
        {
          "data": {
            "image/png": "[encoded data removed]",
            "text/plain": [
              "<PIL.Image.Image image mode=RGB size=64x64>"
            ]
          },
          "metadata": {},
          "output_type": "display_data"
        },
        {
          "data": {
            "image/png": "[encoded data removed]",
            "text/plain": [
              "<PIL.Image.Image image mode=RGB size=64x64>"
            ]
          },
          "metadata": {},
          "output_type": "display_data"
        },
        {
          "data": {
            "image/png": "[encoded data removed]",
            "text/plain": [
              "<PIL.Image.Image image mode=RGB size=64x64>"
            ]
          },
          "metadata": {},
          "output_type": "display_data"
        }
      ],
      "source": [
        "predict_and_display_image(cae_classif,0, classif=True)\n",
        "predict_and_display_image(cae_classif,10, classif=True)\n",
        "predict_and_display_image(cae_classif,20, classif=True)\n",
        "predict_and_display_image(cae_classif,30, classif=True)"
      ]
    },
    {
      "cell_type": "markdown",
      "metadata": {
        "id": "kmdeaFXkeaWn"
      },
      "source": [
        "## Question 3"
      ]
    },
    {
      "cell_type": "code",
      "execution_count": 3,
      "metadata": {
        "colab": {
          "base_uri": "https://localhost:8080/",
          "height": 339
        },
        "id": "cppCtVEgio2A",
        "outputId": "d2c825b5-86c9-43c2-ca41-10647f31d124"
      },
      "outputs": [
        {
          "data": {
            "text/plain": [
              "ConvAutoEncoder(\n",
              "  (encoder): Sequential(\n",
              "    (0): Conv2d(3, 16, kernel_size=(3, 3), stride=(1, 1), padding=(1, 1))\n",
              "    (1): ReLU()\n",
              "    (2): MaxPool2d(kernel_size=2, stride=2, padding=0, dilation=1, ceil_mode=False)\n",
              "    (3): Conv2d(16, 32, kernel_size=(3, 3), stride=(1, 1), padding=(1, 1))\n",
              "    (4): ReLU()\n",
              "    (5): MaxPool2d(kernel_size=2, stride=2, padding=0, dilation=1, ceil_mode=False)\n",
              "  )\n",
              "  (decoder): Sequential(\n",
              "    (0): ConvTranspose2d(32, 16, kernel_size=(2, 2), stride=(2, 2))\n",
              "    (1): ReLU()\n",
              "    (2): ConvTranspose2d(16, 3, kernel_size=(2, 2), stride=(2, 2))\n",
              "    (3): Sigmoid()\n",
              "  )\n",
              ")"
            ]
          },
          "execution_count": 3,
          "metadata": {},
          "output_type": "execute_result"
        }
      ],
      "source": [
        "import torch\n",
        "\n",
        "cae = torch.load('cae_basic.pth')\n",
        "cae.eval()"
      ]
    },
    {
      "cell_type": "code",
      "execution_count": 4,
      "metadata": {
        "id": "j-BIOuiDeaWn"
      },
      "outputs": [
        {
          "ename": "NameError",
          "evalue": "name 'load_dataset' is not defined",
          "output_type": "error",
          "traceback": [
            "\u001b[1;31m---------------------------------------------------------------------------\u001b[0m",
            "\u001b[1;31mNameError\u001b[0m                                 Traceback (most recent call last)",
            "Cell \u001b[1;32mIn[4], line 1\u001b[0m\n\u001b[1;32m----> 1\u001b[0m original_dataset \u001b[38;5;241m=\u001b[39m \u001b[43mload_dataset\u001b[49m(\u001b[38;5;124m\"\u001b[39m\u001b[38;5;124mvalhalla/emoji-dataset\u001b[39m\u001b[38;5;124m\"\u001b[39m)[\u001b[38;5;124m\"\u001b[39m\u001b[38;5;124mtrain\u001b[39m\u001b[38;5;124m\"\u001b[39m]\u001b[38;5;241m.\u001b[39mto_pandas()\n",
            "\u001b[1;31mNameError\u001b[0m: name 'load_dataset' is not defined"
          ]
        }
      ],
      "source": [
        "original_dataset = load_dataset(\"valhalla/emoji-dataset\")[\"train\"].to_pandas()"
      ]
    },
    {
      "cell_type": "code",
      "execution_count": 21,
      "metadata": {
        "id": "kIx7knj_eaWn"
      },
      "outputs": [],
      "source": [
        "\n",
        "def get_emoji_by_label(label):\n",
        "    \"\"\"\n",
        "    Given a label, get the associated normalized image array and show the emoji\n",
        "    \"\"\"\n",
        "    for id, text in enumerate(original_dataset[\"text\"]):\n",
        "        if text == label:\n",
        "            image_bytes = original_dataset[\"image\"][id][\"bytes\"]\n",
        "            image_arr = process_image(image_bytes)\n",
        "            show_image(image_arr)\n",
        "            return image_arr\n",
        "\n",
        "\n",
        "def normalize_encode(model, image_arr):\n",
        "    \"\"\"\n",
        "    Normalize the image and encode it\n",
        "    \"\"\"\n",
        "    X = np.array([image_arr])\n",
        "    norm_X = normalize_create_tensor(X)\n",
        "    encoded_arr = model.encoder(norm_X)\n",
        "    return encoded_arr\n",
        "\n",
        "def decode_denormalize(model, encoded_arr):\n",
        "    \"\"\"\n",
        "    Decode the latent space representation and then denormalize\n",
        "    \"\"\"\n",
        "    output = model.decoder(encoded_arr)\n",
        "    output = output.detach().cpu()\n",
        "    output_array = (output.numpy()*255).astype(np.uint8) #convert to numpy\n",
        "    image_arr = np.transpose(output_array[0], (1, 2, 0))\n",
        "    return image_arr"
      ]
    },
    {
      "cell_type": "code",
      "execution_count": null,
      "metadata": {
        "id": "3VcxPLRheaWn",
        "outputId": "364bd13d-2752-4a5d-d755-119f4d3552d7"
      },
      "outputs": [
        {
          "name": "stderr",
          "output_type": "stream",
          "text": [
            "C:\\Users\\akush\\AppData\\Local\\Temp\\ipykernel_4668\\3336235181.py:10: DeprecationWarning: ANTIALIAS is deprecated and will be removed in Pillow 10 (2023-07-01). Use LANCZOS or Resampling.LANCZOS instead.\n",
            "  resized_image = image.resize(size, Image.ANTIALIAS)\n"
          ]
        },
        {
          "data": {
            "image/png": "[encoded data removed]",
            "text/plain": [
              "<PIL.Image.Image image mode=RGB size=64x64>"
            ]
          },
          "metadata": {},
          "output_type": "display_data"
        },
        {
          "data": {
            "image/png": "[encoded data removed]",
            "text/plain": [
              "<PIL.Image.Image image mode=RGB size=64x64>"
            ]
          },
          "metadata": {},
          "output_type": "display_data"
        },
        {
          "data": {
            "image/png": "[encoded data removed]",
            "text/plain": [
              "<PIL.Image.Image image mode=RGB size=64x64>"
            ]
          },
          "metadata": {},
          "output_type": "display_data"
        }
      ],
      "source": [
        "def arithmetic(label1, label2, label3):\n",
        "  emoji1 = get_emoji_by_label(label1)\n",
        "  emoji2 = get_emoji_by_label(label2)\n",
        "  emoji3 = get_emoji_by_label(label3)\n",
        "\n",
        "  emoji1_enc = normalize_encode(cae, emoji1)\n",
        "  emoji2_enc = normalize_encode(cae, emoji2)\n",
        "  emoji3_enc = normalize_encode(cae, emoji3)\n",
        "\n",
        "  result_enc = emoji1_enc + emoji2_enc - emoji3_enc\n",
        "  result = decode_denormalize(cae, result_enc)\n",
        "\n",
        "  show_image(result)\n",
        "\n",
        "arithmetic(\"man with ball\", \"woman running\", \"man running\")"
      ]
    }
  ],
  "metadata": {
    "accelerator": "GPU",
    "colab": {
      "gpuType": "A100",
      "machine_shape": "hm",
      "provenance": []
    },
    "kernelspec": {
      "display_name": "Python 3",
      "name": "python3"
    },
    "language_info": {
      "codemirror_mode": {
        "name": "ipython",
        "version": 3
      },
      "file_extension": ".py",
      "mimetype": "text/x-python",
      "name": "python",
      "nbconvert_exporter": "python",
      "pygments_lexer": "ipython3",
      "version": "3.11.2"
    },
    "widgets": {
      "application/vnd.jupyter.widget-state+json": {
        "0486de1ba93c4036b9f6fa47874f686d": {
          "model_module": "@jupyter-widgets/controls",
          "model_module_version": "1.5.0",
          "model_name": "DescriptionStyleModel",
          "state": {
            "_model_module": "@jupyter-widgets/controls",
            "_model_module_version": "1.5.0",
            "_model_name": "DescriptionStyleModel",
            "_view_count": null,
            "_view_module": "@jupyter-widgets/base",
            "_view_module_version": "1.2.0",
            "_view_name": "StyleView",
            "description_width": ""
          }
        },
        "05e8d32d43eb49c08a8aba6be9665d71": {
          "model_module": "@jupyter-widgets/base",
          "model_module_version": "1.2.0",
          "model_name": "LayoutModel",
          "state": {
            "_model_module": "@jupyter-widgets/base",
            "_model_module_version": "1.2.0",
            "_model_name": "LayoutModel",
            "_view_count": null,
            "_view_module": "@jupyter-widgets/base",
            "_view_module_version": "1.2.0",
            "_view_name": "LayoutView",
            "align_content": null,
            "align_items": null,
            "align_self": null,
            "border": null,
            "bottom": null,
            "display": null,
            "flex": null,
            "flex_flow": null,
            "grid_area": null,
            "grid_auto_columns": null,
            "grid_auto_flow": null,
            "grid_auto_rows": null,
            "grid_column": null,
            "grid_gap": null,
            "grid_row": null,
            "grid_template_areas": null,
            "grid_template_columns": null,
            "grid_template_rows": null,
            "height": null,
            "justify_content": null,
            "justify_items": null,
            "left": null,
            "margin": null,
            "max_height": null,
            "max_width": null,
            "min_height": null,
            "min_width": null,
            "object_fit": null,
            "object_position": null,
            "order": null,
            "overflow": null,
            "overflow_x": null,
            "overflow_y": null,
            "padding": null,
            "right": null,
            "top": null,
            "visibility": null,
            "width": null
          }
        },
        "11efee095c65453ea0ee18bfcb0b9b93": {
          "model_module": "@jupyter-widgets/controls",
          "model_module_version": "1.5.0",
          "model_name": "DescriptionStyleModel",
          "state": {
            "_model_module": "@jupyter-widgets/controls",
            "_model_module_version": "1.5.0",
            "_model_name": "DescriptionStyleModel",
            "_view_count": null,
            "_view_module": "@jupyter-widgets/base",
            "_view_module_version": "1.2.0",
            "_view_name": "StyleView",
            "description_width": ""
          }
        },
        "14a7fc03587f48a1a382bc11310773ff": {
          "model_module": "@jupyter-widgets/controls",
          "model_module_version": "1.5.0",
          "model_name": "HBoxModel",
          "state": {
            "_dom_classes": [],
            "_model_module": "@jupyter-widgets/controls",
            "_model_module_version": "1.5.0",
            "_model_name": "HBoxModel",
            "_view_count": null,
            "_view_module": "@jupyter-widgets/controls",
            "_view_module_version": "1.5.0",
            "_view_name": "HBoxView",
            "box_style": "",
            "children": [
              "IPY_MODEL_29c82be8f753452a8df456b8b98fe7b2",
              "IPY_MODEL_fbb918646adc472993357b7579302085",
              "IPY_MODEL_43db56dcf0344498ada4f40d71f3300f"
            ],
            "layout": "IPY_MODEL_a79a91ff500842cda7655d35befa27a1"
          }
        },
        "1599d9e4f27b4c22a54ca7fa8350b882": {
          "model_module": "@jupyter-widgets/controls",
          "model_module_version": "1.5.0",
          "model_name": "HTMLModel",
          "state": {
            "_dom_classes": [],
            "_model_module": "@jupyter-widgets/controls",
            "_model_module_version": "1.5.0",
            "_model_name": "HTMLModel",
            "_view_count": null,
            "_view_module": "@jupyter-widgets/controls",
            "_view_module_version": "1.5.0",
            "_view_name": "HTMLView",
            "description": "",
            "description_tooltip": null,
            "layout": "IPY_MODEL_6ce9ba0516244fe59240cd6b675485c7",
            "placeholder": "​",
            "style": "IPY_MODEL_abfadbc219a6464ca890b5af884360b9",
            "value": "Generating train split: 100%"
          }
        },
        "18befc049b93417cb5546f3b0ce20e3e": {
          "model_module": "@jupyter-widgets/base",
          "model_module_version": "1.2.0",
          "model_name": "LayoutModel",
          "state": {
            "_model_module": "@jupyter-widgets/base",
            "_model_module_version": "1.2.0",
            "_model_name": "LayoutModel",
            "_view_count": null,
            "_view_module": "@jupyter-widgets/base",
            "_view_module_version": "1.2.0",
            "_view_name": "LayoutView",
            "align_content": null,
            "align_items": null,
            "align_self": null,
            "border": null,
            "bottom": null,
            "display": null,
            "flex": null,
            "flex_flow": null,
            "grid_area": null,
            "grid_auto_columns": null,
            "grid_auto_flow": null,
            "grid_auto_rows": null,
            "grid_column": null,
            "grid_gap": null,
            "grid_row": null,
            "grid_template_areas": null,
            "grid_template_columns": null,
            "grid_template_rows": null,
            "height": null,
            "justify_content": null,
            "justify_items": null,
            "left": null,
            "margin": null,
            "max_height": null,
            "max_width": null,
            "min_height": null,
            "min_width": null,
            "object_fit": null,
            "object_position": null,
            "order": null,
            "overflow": null,
            "overflow_x": null,
            "overflow_y": null,
            "padding": null,
            "right": null,
            "top": null,
            "visibility": null,
            "width": null
          }
        },
        "1dd55fd3e20941a386ba1f1e96c6f3c2": {
          "model_module": "@jupyter-widgets/base",
          "model_module_version": "1.2.0",
          "model_name": "LayoutModel",
          "state": {
            "_model_module": "@jupyter-widgets/base",
            "_model_module_version": "1.2.0",
            "_model_name": "LayoutModel",
            "_view_count": null,
            "_view_module": "@jupyter-widgets/base",
            "_view_module_version": "1.2.0",
            "_view_name": "LayoutView",
            "align_content": null,
            "align_items": null,
            "align_self": null,
            "border": null,
            "bottom": null,
            "display": null,
            "flex": null,
            "flex_flow": null,
            "grid_area": null,
            "grid_auto_columns": null,
            "grid_auto_flow": null,
            "grid_auto_rows": null,
            "grid_column": null,
            "grid_gap": null,
            "grid_row": null,
            "grid_template_areas": null,
            "grid_template_columns": null,
            "grid_template_rows": null,
            "height": null,
            "justify_content": null,
            "justify_items": null,
            "left": null,
            "margin": null,
            "max_height": null,
            "max_width": null,
            "min_height": null,
            "min_width": null,
            "object_fit": null,
            "object_position": null,
            "order": null,
            "overflow": null,
            "overflow_x": null,
            "overflow_y": null,
            "padding": null,
            "right": null,
            "top": null,
            "visibility": null,
            "width": null
          }
        },
        "29c82be8f753452a8df456b8b98fe7b2": {
          "model_module": "@jupyter-widgets/controls",
          "model_module_version": "1.5.0",
          "model_name": "HTMLModel",
          "state": {
            "_dom_classes": [],
            "_model_module": "@jupyter-widgets/controls",
            "_model_module_version": "1.5.0",
            "_model_name": "HTMLModel",
            "_view_count": null,
            "_view_module": "@jupyter-widgets/controls",
            "_view_module_version": "1.5.0",
            "_view_name": "HTMLView",
            "description": "",
            "description_tooltip": null,
            "layout": "IPY_MODEL_a4409e9d798547778409d242d8bf78d5",
            "placeholder": "​",
            "style": "IPY_MODEL_0486de1ba93c4036b9f6fa47874f686d",
            "value": "Downloading data: 100%"
          }
        },
        "2cbcdfa522d34c3e9006c8516d1916c7": {
          "model_module": "@jupyter-widgets/controls",
          "model_module_version": "1.5.0",
          "model_name": "DescriptionStyleModel",
          "state": {
            "_model_module": "@jupyter-widgets/controls",
            "_model_module_version": "1.5.0",
            "_model_name": "DescriptionStyleModel",
            "_view_count": null,
            "_view_module": "@jupyter-widgets/base",
            "_view_module_version": "1.2.0",
            "_view_name": "StyleView",
            "description_width": ""
          }
        },
        "351b377f384e46409a4ea8377824afdd": {
          "model_module": "@jupyter-widgets/base",
          "model_module_version": "1.2.0",
          "model_name": "LayoutModel",
          "state": {
            "_model_module": "@jupyter-widgets/base",
            "_model_module_version": "1.2.0",
            "_model_name": "LayoutModel",
            "_view_count": null,
            "_view_module": "@jupyter-widgets/base",
            "_view_module_version": "1.2.0",
            "_view_name": "LayoutView",
            "align_content": null,
            "align_items": null,
            "align_self": null,
            "border": null,
            "bottom": null,
            "display": null,
            "flex": null,
            "flex_flow": null,
            "grid_area": null,
            "grid_auto_columns": null,
            "grid_auto_flow": null,
            "grid_auto_rows": null,
            "grid_column": null,
            "grid_gap": null,
            "grid_row": null,
            "grid_template_areas": null,
            "grid_template_columns": null,
            "grid_template_rows": null,
            "height": null,
            "justify_content": null,
            "justify_items": null,
            "left": null,
            "margin": null,
            "max_height": null,
            "max_width": null,
            "min_height": null,
            "min_width": null,
            "object_fit": null,
            "object_position": null,
            "order": null,
            "overflow": null,
            "overflow_x": null,
            "overflow_y": null,
            "padding": null,
            "right": null,
            "top": null,
            "visibility": null,
            "width": null
          }
        },
        "396a95cfa48c40a4be1e6bb77577528d": {
          "model_module": "@jupyter-widgets/controls",
          "model_module_version": "1.5.0",
          "model_name": "HTMLModel",
          "state": {
            "_dom_classes": [],
            "_model_module": "@jupyter-widgets/controls",
            "_model_module_version": "1.5.0",
            "_model_name": "HTMLModel",
            "_view_count": null,
            "_view_module": "@jupyter-widgets/controls",
            "_view_module_version": "1.5.0",
            "_view_name": "HTMLView",
            "description": "",
            "description_tooltip": null,
            "layout": "IPY_MODEL_57a59b003f7c455080e608165525d595",
            "placeholder": "​",
            "style": "IPY_MODEL_6e7a6bae556e4e0fa0bd22c1c5d6e2c3",
            "value": "Downloading metadata: 100%"
          }
        },
        "43db56dcf0344498ada4f40d71f3300f": {
          "model_module": "@jupyter-widgets/controls",
          "model_module_version": "1.5.0",
          "model_name": "HTMLModel",
          "state": {
            "_dom_classes": [],
            "_model_module": "@jupyter-widgets/controls",
            "_model_module_version": "1.5.0",
            "_model_name": "HTMLModel",
            "_view_count": null,
            "_view_module": "@jupyter-widgets/controls",
            "_view_module_version": "1.5.0",
            "_view_name": "HTMLView",
            "description": "",
            "description_tooltip": null,
            "layout": "IPY_MODEL_c79c44b9a36a460796705255eb85d44d",
            "placeholder": "​",
            "style": "IPY_MODEL_f1a655a13b9243bfb390cc321bc73719",
            "value": " 139M/139M [00:06&lt;00:00, 24.4MB/s]"
          }
        },
        "4b85f565761240f29374ce22bb6ed279": {
          "model_module": "@jupyter-widgets/controls",
          "model_module_version": "1.5.0",
          "model_name": "HTMLModel",
          "state": {
            "_dom_classes": [],
            "_model_module": "@jupyter-widgets/controls",
            "_model_module_version": "1.5.0",
            "_model_name": "HTMLModel",
            "_view_count": null,
            "_view_module": "@jupyter-widgets/controls",
            "_view_module_version": "1.5.0",
            "_view_name": "HTMLView",
            "description": "",
            "description_tooltip": null,
            "layout": "IPY_MODEL_58a69ef1d29540f1a9b2742e2e3977c8",
            "placeholder": "​",
            "style": "IPY_MODEL_c587d3ecea284d359581e49c8e357653",
            "value": "Filter: 100%"
          }
        },
        "524035aa43c149c5a931b8e0f41f8b6b": {
          "model_module": "@jupyter-widgets/controls",
          "model_module_version": "1.5.0",
          "model_name": "ProgressStyleModel",
          "state": {
            "_model_module": "@jupyter-widgets/controls",
            "_model_module_version": "1.5.0",
            "_model_name": "ProgressStyleModel",
            "_view_count": null,
            "_view_module": "@jupyter-widgets/base",
            "_view_module_version": "1.2.0",
            "_view_name": "StyleView",
            "bar_color": null,
            "description_width": ""
          }
        },
        "57a59b003f7c455080e608165525d595": {
          "model_module": "@jupyter-widgets/base",
          "model_module_version": "1.2.0",
          "model_name": "LayoutModel",
          "state": {
            "_model_module": "@jupyter-widgets/base",
            "_model_module_version": "1.2.0",
            "_model_name": "LayoutModel",
            "_view_count": null,
            "_view_module": "@jupyter-widgets/base",
            "_view_module_version": "1.2.0",
            "_view_name": "LayoutView",
            "align_content": null,
            "align_items": null,
            "align_self": null,
            "border": null,
            "bottom": null,
            "display": null,
            "flex": null,
            "flex_flow": null,
            "grid_area": null,
            "grid_auto_columns": null,
            "grid_auto_flow": null,
            "grid_auto_rows": null,
            "grid_column": null,
            "grid_gap": null,
            "grid_row": null,
            "grid_template_areas": null,
            "grid_template_columns": null,
            "grid_template_rows": null,
            "height": null,
            "justify_content": null,
            "justify_items": null,
            "left": null,
            "margin": null,
            "max_height": null,
            "max_width": null,
            "min_height": null,
            "min_width": null,
            "object_fit": null,
            "object_position": null,
            "order": null,
            "overflow": null,
            "overflow_x": null,
            "overflow_y": null,
            "padding": null,
            "right": null,
            "top": null,
            "visibility": null,
            "width": null
          }
        },
        "586de4e8803c483db90ea62cbde2248e": {
          "model_module": "@jupyter-widgets/controls",
          "model_module_version": "1.5.0",
          "model_name": "FloatProgressModel",
          "state": {
            "_dom_classes": [],
            "_model_module": "@jupyter-widgets/controls",
            "_model_module_version": "1.5.0",
            "_model_name": "FloatProgressModel",
            "_view_count": null,
            "_view_module": "@jupyter-widgets/controls",
            "_view_module_version": "1.5.0",
            "_view_name": "ProgressView",
            "bar_style": "success",
            "description": "",
            "description_tooltip": null,
            "layout": "IPY_MODEL_1dd55fd3e20941a386ba1f1e96c6f3c2",
            "max": 2749,
            "min": 0,
            "orientation": "horizontal",
            "style": "IPY_MODEL_7216306b399345f8b0ac97bded1c40d8",
            "value": 2749
          }
        },
        "58a69ef1d29540f1a9b2742e2e3977c8": {
          "model_module": "@jupyter-widgets/base",
          "model_module_version": "1.2.0",
          "model_name": "LayoutModel",
          "state": {
            "_model_module": "@jupyter-widgets/base",
            "_model_module_version": "1.2.0",
            "_model_name": "LayoutModel",
            "_view_count": null,
            "_view_module": "@jupyter-widgets/base",
            "_view_module_version": "1.2.0",
            "_view_name": "LayoutView",
            "align_content": null,
            "align_items": null,
            "align_self": null,
            "border": null,
            "bottom": null,
            "display": null,
            "flex": null,
            "flex_flow": null,
            "grid_area": null,
            "grid_auto_columns": null,
            "grid_auto_flow": null,
            "grid_auto_rows": null,
            "grid_column": null,
            "grid_gap": null,
            "grid_row": null,
            "grid_template_areas": null,
            "grid_template_columns": null,
            "grid_template_rows": null,
            "height": null,
            "justify_content": null,
            "justify_items": null,
            "left": null,
            "margin": null,
            "max_height": null,
            "max_width": null,
            "min_height": null,
            "min_width": null,
            "object_fit": null,
            "object_position": null,
            "order": null,
            "overflow": null,
            "overflow_x": null,
            "overflow_y": null,
            "padding": null,
            "right": null,
            "top": null,
            "visibility": null,
            "width": null
          }
        },
        "5b726802b1df4262ab8c8c73eb797f5b": {
          "model_module": "@jupyter-widgets/base",
          "model_module_version": "1.2.0",
          "model_name": "LayoutModel",
          "state": {
            "_model_module": "@jupyter-widgets/base",
            "_model_module_version": "1.2.0",
            "_model_name": "LayoutModel",
            "_view_count": null,
            "_view_module": "@jupyter-widgets/base",
            "_view_module_version": "1.2.0",
            "_view_name": "LayoutView",
            "align_content": null,
            "align_items": null,
            "align_self": null,
            "border": null,
            "bottom": null,
            "display": null,
            "flex": null,
            "flex_flow": null,
            "grid_area": null,
            "grid_auto_columns": null,
            "grid_auto_flow": null,
            "grid_auto_rows": null,
            "grid_column": null,
            "grid_gap": null,
            "grid_row": null,
            "grid_template_areas": null,
            "grid_template_columns": null,
            "grid_template_rows": null,
            "height": null,
            "justify_content": null,
            "justify_items": null,
            "left": null,
            "margin": null,
            "max_height": null,
            "max_width": null,
            "min_height": null,
            "min_width": null,
            "object_fit": null,
            "object_position": null,
            "order": null,
            "overflow": null,
            "overflow_x": null,
            "overflow_y": null,
            "padding": null,
            "right": null,
            "top": null,
            "visibility": null,
            "width": null
          }
        },
        "618846f7993c4e31a21809d2f07e83c2": {
          "model_module": "@jupyter-widgets/controls",
          "model_module_version": "1.5.0",
          "model_name": "FloatProgressModel",
          "state": {
            "_dom_classes": [],
            "_model_module": "@jupyter-widgets/controls",
            "_model_module_version": "1.5.0",
            "_model_name": "FloatProgressModel",
            "_view_count": null,
            "_view_module": "@jupyter-widgets/controls",
            "_view_module_version": "1.5.0",
            "_view_name": "ProgressView",
            "bar_style": "success",
            "description": "",
            "description_tooltip": null,
            "layout": "IPY_MODEL_18befc049b93417cb5546f3b0ce20e3e",
            "max": 2749,
            "min": 0,
            "orientation": "horizontal",
            "style": "IPY_MODEL_524035aa43c149c5a931b8e0f41f8b6b",
            "value": 2749
          }
        },
        "6ce9ba0516244fe59240cd6b675485c7": {
          "model_module": "@jupyter-widgets/base",
          "model_module_version": "1.2.0",
          "model_name": "LayoutModel",
          "state": {
            "_model_module": "@jupyter-widgets/base",
            "_model_module_version": "1.2.0",
            "_model_name": "LayoutModel",
            "_view_count": null,
            "_view_module": "@jupyter-widgets/base",
            "_view_module_version": "1.2.0",
            "_view_name": "LayoutView",
            "align_content": null,
            "align_items": null,
            "align_self": null,
            "border": null,
            "bottom": null,
            "display": null,
            "flex": null,
            "flex_flow": null,
            "grid_area": null,
            "grid_auto_columns": null,
            "grid_auto_flow": null,
            "grid_auto_rows": null,
            "grid_column": null,
            "grid_gap": null,
            "grid_row": null,
            "grid_template_areas": null,
            "grid_template_columns": null,
            "grid_template_rows": null,
            "height": null,
            "justify_content": null,
            "justify_items": null,
            "left": null,
            "margin": null,
            "max_height": null,
            "max_width": null,
            "min_height": null,
            "min_width": null,
            "object_fit": null,
            "object_position": null,
            "order": null,
            "overflow": null,
            "overflow_x": null,
            "overflow_y": null,
            "padding": null,
            "right": null,
            "top": null,
            "visibility": null,
            "width": null
          }
        },
        "6e7a6bae556e4e0fa0bd22c1c5d6e2c3": {
          "model_module": "@jupyter-widgets/controls",
          "model_module_version": "1.5.0",
          "model_name": "DescriptionStyleModel",
          "state": {
            "_model_module": "@jupyter-widgets/controls",
            "_model_module_version": "1.5.0",
            "_model_name": "DescriptionStyleModel",
            "_view_count": null,
            "_view_module": "@jupyter-widgets/base",
            "_view_module_version": "1.2.0",
            "_view_name": "StyleView",
            "description_width": ""
          }
        },
        "6f9ef99cfcc440b3ad1740ba3870e9e4": {
          "model_module": "@jupyter-widgets/controls",
          "model_module_version": "1.5.0",
          "model_name": "ProgressStyleModel",
          "state": {
            "_model_module": "@jupyter-widgets/controls",
            "_model_module_version": "1.5.0",
            "_model_name": "ProgressStyleModel",
            "_view_count": null,
            "_view_module": "@jupyter-widgets/base",
            "_view_module_version": "1.2.0",
            "_view_name": "StyleView",
            "bar_color": null,
            "description_width": ""
          }
        },
        "7216306b399345f8b0ac97bded1c40d8": {
          "model_module": "@jupyter-widgets/controls",
          "model_module_version": "1.5.0",
          "model_name": "ProgressStyleModel",
          "state": {
            "_model_module": "@jupyter-widgets/controls",
            "_model_module_version": "1.5.0",
            "_model_name": "ProgressStyleModel",
            "_view_count": null,
            "_view_module": "@jupyter-widgets/base",
            "_view_module_version": "1.2.0",
            "_view_name": "StyleView",
            "bar_color": null,
            "description_width": ""
          }
        },
        "7cc58ef935724afd927d9ff251f6ce4f": {
          "model_module": "@jupyter-widgets/controls",
          "model_module_version": "1.5.0",
          "model_name": "HTMLModel",
          "state": {
            "_dom_classes": [],
            "_model_module": "@jupyter-widgets/controls",
            "_model_module_version": "1.5.0",
            "_model_name": "HTMLModel",
            "_view_count": null,
            "_view_module": "@jupyter-widgets/controls",
            "_view_module_version": "1.5.0",
            "_view_name": "HTMLView",
            "description": "",
            "description_tooltip": null,
            "layout": "IPY_MODEL_e7f76c5634a34823b1c0180a27b0c91b",
            "placeholder": "​",
            "style": "IPY_MODEL_11efee095c65453ea0ee18bfcb0b9b93",
            "value": " 2749/2749 [00:06&lt;00:00, 394.31 examples/s]"
          }
        },
        "8602a38cd122421a9290ec0fdc5dc35f": {
          "model_module": "@jupyter-widgets/controls",
          "model_module_version": "1.5.0",
          "model_name": "DescriptionStyleModel",
          "state": {
            "_model_module": "@jupyter-widgets/controls",
            "_model_module_version": "1.5.0",
            "_model_name": "DescriptionStyleModel",
            "_view_count": null,
            "_view_module": "@jupyter-widgets/base",
            "_view_module_version": "1.2.0",
            "_view_name": "StyleView",
            "description_width": ""
          }
        },
        "90ddaae0993a4fd18e4d8a84275a8f89": {
          "model_module": "@jupyter-widgets/base",
          "model_module_version": "1.2.0",
          "model_name": "LayoutModel",
          "state": {
            "_model_module": "@jupyter-widgets/base",
            "_model_module_version": "1.2.0",
            "_model_name": "LayoutModel",
            "_view_count": null,
            "_view_module": "@jupyter-widgets/base",
            "_view_module_version": "1.2.0",
            "_view_name": "LayoutView",
            "align_content": null,
            "align_items": null,
            "align_self": null,
            "border": null,
            "bottom": null,
            "display": null,
            "flex": null,
            "flex_flow": null,
            "grid_area": null,
            "grid_auto_columns": null,
            "grid_auto_flow": null,
            "grid_auto_rows": null,
            "grid_column": null,
            "grid_gap": null,
            "grid_row": null,
            "grid_template_areas": null,
            "grid_template_columns": null,
            "grid_template_rows": null,
            "height": null,
            "justify_content": null,
            "justify_items": null,
            "left": null,
            "margin": null,
            "max_height": null,
            "max_width": null,
            "min_height": null,
            "min_width": null,
            "object_fit": null,
            "object_position": null,
            "order": null,
            "overflow": null,
            "overflow_x": null,
            "overflow_y": null,
            "padding": null,
            "right": null,
            "top": null,
            "visibility": null,
            "width": null
          }
        },
        "9609a9e9d6ea4920aeeff4e72e7955a2": {
          "model_module": "@jupyter-widgets/controls",
          "model_module_version": "1.5.0",
          "model_name": "HBoxModel",
          "state": {
            "_dom_classes": [],
            "_model_module": "@jupyter-widgets/controls",
            "_model_module_version": "1.5.0",
            "_model_name": "HBoxModel",
            "_view_count": null,
            "_view_module": "@jupyter-widgets/controls",
            "_view_module_version": "1.5.0",
            "_view_name": "HBoxView",
            "box_style": "",
            "children": [
              "IPY_MODEL_396a95cfa48c40a4be1e6bb77577528d",
              "IPY_MODEL_f4b6655067074cdba0ecc8ee909c6284",
              "IPY_MODEL_a1be3a68643b4243b3a914fad0a05d3b"
            ],
            "layout": "IPY_MODEL_5b726802b1df4262ab8c8c73eb797f5b"
          }
        },
        "9c192ce3684d45a8858728ff850a07d2": {
          "model_module": "@jupyter-widgets/base",
          "model_module_version": "1.2.0",
          "model_name": "LayoutModel",
          "state": {
            "_model_module": "@jupyter-widgets/base",
            "_model_module_version": "1.2.0",
            "_model_name": "LayoutModel",
            "_view_count": null,
            "_view_module": "@jupyter-widgets/base",
            "_view_module_version": "1.2.0",
            "_view_name": "LayoutView",
            "align_content": null,
            "align_items": null,
            "align_self": null,
            "border": null,
            "bottom": null,
            "display": null,
            "flex": null,
            "flex_flow": null,
            "grid_area": null,
            "grid_auto_columns": null,
            "grid_auto_flow": null,
            "grid_auto_rows": null,
            "grid_column": null,
            "grid_gap": null,
            "grid_row": null,
            "grid_template_areas": null,
            "grid_template_columns": null,
            "grid_template_rows": null,
            "height": null,
            "justify_content": null,
            "justify_items": null,
            "left": null,
            "margin": null,
            "max_height": null,
            "max_width": null,
            "min_height": null,
            "min_width": null,
            "object_fit": null,
            "object_position": null,
            "order": null,
            "overflow": null,
            "overflow_x": null,
            "overflow_y": null,
            "padding": null,
            "right": null,
            "top": null,
            "visibility": null,
            "width": null
          }
        },
        "9f11181db47e4411b4d8016f0651d9eb": {
          "model_module": "@jupyter-widgets/base",
          "model_module_version": "1.2.0",
          "model_name": "LayoutModel",
          "state": {
            "_model_module": "@jupyter-widgets/base",
            "_model_module_version": "1.2.0",
            "_model_name": "LayoutModel",
            "_view_count": null,
            "_view_module": "@jupyter-widgets/base",
            "_view_module_version": "1.2.0",
            "_view_name": "LayoutView",
            "align_content": null,
            "align_items": null,
            "align_self": null,
            "border": null,
            "bottom": null,
            "display": null,
            "flex": null,
            "flex_flow": null,
            "grid_area": null,
            "grid_auto_columns": null,
            "grid_auto_flow": null,
            "grid_auto_rows": null,
            "grid_column": null,
            "grid_gap": null,
            "grid_row": null,
            "grid_template_areas": null,
            "grid_template_columns": null,
            "grid_template_rows": null,
            "height": null,
            "justify_content": null,
            "justify_items": null,
            "left": null,
            "margin": null,
            "max_height": null,
            "max_width": null,
            "min_height": null,
            "min_width": null,
            "object_fit": null,
            "object_position": null,
            "order": null,
            "overflow": null,
            "overflow_x": null,
            "overflow_y": null,
            "padding": null,
            "right": null,
            "top": null,
            "visibility": null,
            "width": null
          }
        },
        "a065c143e0b24a1faa7a753df1fda19f": {
          "model_module": "@jupyter-widgets/controls",
          "model_module_version": "1.5.0",
          "model_name": "ProgressStyleModel",
          "state": {
            "_model_module": "@jupyter-widgets/controls",
            "_model_module_version": "1.5.0",
            "_model_name": "ProgressStyleModel",
            "_view_count": null,
            "_view_module": "@jupyter-widgets/base",
            "_view_module_version": "1.2.0",
            "_view_name": "StyleView",
            "bar_color": null,
            "description_width": ""
          }
        },
        "a1be3a68643b4243b3a914fad0a05d3b": {
          "model_module": "@jupyter-widgets/controls",
          "model_module_version": "1.5.0",
          "model_name": "HTMLModel",
          "state": {
            "_dom_classes": [],
            "_model_module": "@jupyter-widgets/controls",
            "_model_module_version": "1.5.0",
            "_model_name": "HTMLModel",
            "_view_count": null,
            "_view_module": "@jupyter-widgets/controls",
            "_view_module_version": "1.5.0",
            "_view_name": "HTMLView",
            "description": "",
            "description_tooltip": null,
            "layout": "IPY_MODEL_9c192ce3684d45a8858728ff850a07d2",
            "placeholder": "​",
            "style": "IPY_MODEL_2cbcdfa522d34c3e9006c8516d1916c7",
            "value": " 720/720 [00:00&lt;00:00, 55.7kB/s]"
          }
        },
        "a4409e9d798547778409d242d8bf78d5": {
          "model_module": "@jupyter-widgets/base",
          "model_module_version": "1.2.0",
          "model_name": "LayoutModel",
          "state": {
            "_model_module": "@jupyter-widgets/base",
            "_model_module_version": "1.2.0",
            "_model_name": "LayoutModel",
            "_view_count": null,
            "_view_module": "@jupyter-widgets/base",
            "_view_module_version": "1.2.0",
            "_view_name": "LayoutView",
            "align_content": null,
            "align_items": null,
            "align_self": null,
            "border": null,
            "bottom": null,
            "display": null,
            "flex": null,
            "flex_flow": null,
            "grid_area": null,
            "grid_auto_columns": null,
            "grid_auto_flow": null,
            "grid_auto_rows": null,
            "grid_column": null,
            "grid_gap": null,
            "grid_row": null,
            "grid_template_areas": null,
            "grid_template_columns": null,
            "grid_template_rows": null,
            "height": null,
            "justify_content": null,
            "justify_items": null,
            "left": null,
            "margin": null,
            "max_height": null,
            "max_width": null,
            "min_height": null,
            "min_width": null,
            "object_fit": null,
            "object_position": null,
            "order": null,
            "overflow": null,
            "overflow_x": null,
            "overflow_y": null,
            "padding": null,
            "right": null,
            "top": null,
            "visibility": null,
            "width": null
          }
        },
        "a79a91ff500842cda7655d35befa27a1": {
          "model_module": "@jupyter-widgets/base",
          "model_module_version": "1.2.0",
          "model_name": "LayoutModel",
          "state": {
            "_model_module": "@jupyter-widgets/base",
            "_model_module_version": "1.2.0",
            "_model_name": "LayoutModel",
            "_view_count": null,
            "_view_module": "@jupyter-widgets/base",
            "_view_module_version": "1.2.0",
            "_view_name": "LayoutView",
            "align_content": null,
            "align_items": null,
            "align_self": null,
            "border": null,
            "bottom": null,
            "display": null,
            "flex": null,
            "flex_flow": null,
            "grid_area": null,
            "grid_auto_columns": null,
            "grid_auto_flow": null,
            "grid_auto_rows": null,
            "grid_column": null,
            "grid_gap": null,
            "grid_row": null,
            "grid_template_areas": null,
            "grid_template_columns": null,
            "grid_template_rows": null,
            "height": null,
            "justify_content": null,
            "justify_items": null,
            "left": null,
            "margin": null,
            "max_height": null,
            "max_width": null,
            "min_height": null,
            "min_width": null,
            "object_fit": null,
            "object_position": null,
            "order": null,
            "overflow": null,
            "overflow_x": null,
            "overflow_y": null,
            "padding": null,
            "right": null,
            "top": null,
            "visibility": null,
            "width": null
          }
        },
        "abfadbc219a6464ca890b5af884360b9": {
          "model_module": "@jupyter-widgets/controls",
          "model_module_version": "1.5.0",
          "model_name": "DescriptionStyleModel",
          "state": {
            "_model_module": "@jupyter-widgets/controls",
            "_model_module_version": "1.5.0",
            "_model_name": "DescriptionStyleModel",
            "_view_count": null,
            "_view_module": "@jupyter-widgets/base",
            "_view_module_version": "1.2.0",
            "_view_name": "StyleView",
            "description_width": ""
          }
        },
        "aca2241a899f4361a81f6d82ba74ad7a": {
          "model_module": "@jupyter-widgets/base",
          "model_module_version": "1.2.0",
          "model_name": "LayoutModel",
          "state": {
            "_model_module": "@jupyter-widgets/base",
            "_model_module_version": "1.2.0",
            "_model_name": "LayoutModel",
            "_view_count": null,
            "_view_module": "@jupyter-widgets/base",
            "_view_module_version": "1.2.0",
            "_view_name": "LayoutView",
            "align_content": null,
            "align_items": null,
            "align_self": null,
            "border": null,
            "bottom": null,
            "display": null,
            "flex": null,
            "flex_flow": null,
            "grid_area": null,
            "grid_auto_columns": null,
            "grid_auto_flow": null,
            "grid_auto_rows": null,
            "grid_column": null,
            "grid_gap": null,
            "grid_row": null,
            "grid_template_areas": null,
            "grid_template_columns": null,
            "grid_template_rows": null,
            "height": null,
            "justify_content": null,
            "justify_items": null,
            "left": null,
            "margin": null,
            "max_height": null,
            "max_width": null,
            "min_height": null,
            "min_width": null,
            "object_fit": null,
            "object_position": null,
            "order": null,
            "overflow": null,
            "overflow_x": null,
            "overflow_y": null,
            "padding": null,
            "right": null,
            "top": null,
            "visibility": null,
            "width": null
          }
        },
        "b36ca6210f4c4ac0b5b70ed0308488ba": {
          "model_module": "@jupyter-widgets/controls",
          "model_module_version": "1.5.0",
          "model_name": "HTMLModel",
          "state": {
            "_dom_classes": [],
            "_model_module": "@jupyter-widgets/controls",
            "_model_module_version": "1.5.0",
            "_model_name": "HTMLModel",
            "_view_count": null,
            "_view_module": "@jupyter-widgets/controls",
            "_view_module_version": "1.5.0",
            "_view_name": "HTMLView",
            "description": "",
            "description_tooltip": null,
            "layout": "IPY_MODEL_aca2241a899f4361a81f6d82ba74ad7a",
            "placeholder": "​",
            "style": "IPY_MODEL_8602a38cd122421a9290ec0fdc5dc35f",
            "value": " 2749/2749 [00:00&lt;00:00, 5127.08 examples/s]"
          }
        },
        "c587d3ecea284d359581e49c8e357653": {
          "model_module": "@jupyter-widgets/controls",
          "model_module_version": "1.5.0",
          "model_name": "DescriptionStyleModel",
          "state": {
            "_model_module": "@jupyter-widgets/controls",
            "_model_module_version": "1.5.0",
            "_model_name": "DescriptionStyleModel",
            "_view_count": null,
            "_view_module": "@jupyter-widgets/base",
            "_view_module_version": "1.2.0",
            "_view_name": "StyleView",
            "description_width": ""
          }
        },
        "c79c44b9a36a460796705255eb85d44d": {
          "model_module": "@jupyter-widgets/base",
          "model_module_version": "1.2.0",
          "model_name": "LayoutModel",
          "state": {
            "_model_module": "@jupyter-widgets/base",
            "_model_module_version": "1.2.0",
            "_model_name": "LayoutModel",
            "_view_count": null,
            "_view_module": "@jupyter-widgets/base",
            "_view_module_version": "1.2.0",
            "_view_name": "LayoutView",
            "align_content": null,
            "align_items": null,
            "align_self": null,
            "border": null,
            "bottom": null,
            "display": null,
            "flex": null,
            "flex_flow": null,
            "grid_area": null,
            "grid_auto_columns": null,
            "grid_auto_flow": null,
            "grid_auto_rows": null,
            "grid_column": null,
            "grid_gap": null,
            "grid_row": null,
            "grid_template_areas": null,
            "grid_template_columns": null,
            "grid_template_rows": null,
            "height": null,
            "justify_content": null,
            "justify_items": null,
            "left": null,
            "margin": null,
            "max_height": null,
            "max_width": null,
            "min_height": null,
            "min_width": null,
            "object_fit": null,
            "object_position": null,
            "order": null,
            "overflow": null,
            "overflow_x": null,
            "overflow_y": null,
            "padding": null,
            "right": null,
            "top": null,
            "visibility": null,
            "width": null
          }
        },
        "ce1563df5952433097e00deca263287f": {
          "model_module": "@jupyter-widgets/controls",
          "model_module_version": "1.5.0",
          "model_name": "HBoxModel",
          "state": {
            "_dom_classes": [],
            "_model_module": "@jupyter-widgets/controls",
            "_model_module_version": "1.5.0",
            "_model_name": "HBoxModel",
            "_view_count": null,
            "_view_module": "@jupyter-widgets/controls",
            "_view_module_version": "1.5.0",
            "_view_name": "HBoxView",
            "box_style": "",
            "children": [
              "IPY_MODEL_1599d9e4f27b4c22a54ca7fa8350b882",
              "IPY_MODEL_586de4e8803c483db90ea62cbde2248e",
              "IPY_MODEL_b36ca6210f4c4ac0b5b70ed0308488ba"
            ],
            "layout": "IPY_MODEL_351b377f384e46409a4ea8377824afdd"
          }
        },
        "d1a8d59050d14016b35ba75aff726be5": {
          "model_module": "@jupyter-widgets/controls",
          "model_module_version": "1.5.0",
          "model_name": "HBoxModel",
          "state": {
            "_dom_classes": [],
            "_model_module": "@jupyter-widgets/controls",
            "_model_module_version": "1.5.0",
            "_model_name": "HBoxModel",
            "_view_count": null,
            "_view_module": "@jupyter-widgets/controls",
            "_view_module_version": "1.5.0",
            "_view_name": "HBoxView",
            "box_style": "",
            "children": [
              "IPY_MODEL_4b85f565761240f29374ce22bb6ed279",
              "IPY_MODEL_618846f7993c4e31a21809d2f07e83c2",
              "IPY_MODEL_7cc58ef935724afd927d9ff251f6ce4f"
            ],
            "layout": "IPY_MODEL_9f11181db47e4411b4d8016f0651d9eb"
          }
        },
        "e7f76c5634a34823b1c0180a27b0c91b": {
          "model_module": "@jupyter-widgets/base",
          "model_module_version": "1.2.0",
          "model_name": "LayoutModel",
          "state": {
            "_model_module": "@jupyter-widgets/base",
            "_model_module_version": "1.2.0",
            "_model_name": "LayoutModel",
            "_view_count": null,
            "_view_module": "@jupyter-widgets/base",
            "_view_module_version": "1.2.0",
            "_view_name": "LayoutView",
            "align_content": null,
            "align_items": null,
            "align_self": null,
            "border": null,
            "bottom": null,
            "display": null,
            "flex": null,
            "flex_flow": null,
            "grid_area": null,
            "grid_auto_columns": null,
            "grid_auto_flow": null,
            "grid_auto_rows": null,
            "grid_column": null,
            "grid_gap": null,
            "grid_row": null,
            "grid_template_areas": null,
            "grid_template_columns": null,
            "grid_template_rows": null,
            "height": null,
            "justify_content": null,
            "justify_items": null,
            "left": null,
            "margin": null,
            "max_height": null,
            "max_width": null,
            "min_height": null,
            "min_width": null,
            "object_fit": null,
            "object_position": null,
            "order": null,
            "overflow": null,
            "overflow_x": null,
            "overflow_y": null,
            "padding": null,
            "right": null,
            "top": null,
            "visibility": null,
            "width": null
          }
        },
        "f1a655a13b9243bfb390cc321bc73719": {
          "model_module": "@jupyter-widgets/controls",
          "model_module_version": "1.5.0",
          "model_name": "DescriptionStyleModel",
          "state": {
            "_model_module": "@jupyter-widgets/controls",
            "_model_module_version": "1.5.0",
            "_model_name": "DescriptionStyleModel",
            "_view_count": null,
            "_view_module": "@jupyter-widgets/base",
            "_view_module_version": "1.2.0",
            "_view_name": "StyleView",
            "description_width": ""
          }
        },
        "f4b6655067074cdba0ecc8ee909c6284": {
          "model_module": "@jupyter-widgets/controls",
          "model_module_version": "1.5.0",
          "model_name": "FloatProgressModel",
          "state": {
            "_dom_classes": [],
            "_model_module": "@jupyter-widgets/controls",
            "_model_module_version": "1.5.0",
            "_model_name": "FloatProgressModel",
            "_view_count": null,
            "_view_module": "@jupyter-widgets/controls",
            "_view_module_version": "1.5.0",
            "_view_name": "ProgressView",
            "bar_style": "success",
            "description": "",
            "description_tooltip": null,
            "layout": "IPY_MODEL_90ddaae0993a4fd18e4d8a84275a8f89",
            "max": 720,
            "min": 0,
            "orientation": "horizontal",
            "style": "IPY_MODEL_a065c143e0b24a1faa7a753df1fda19f",
            "value": 720
          }
        },
        "fbb918646adc472993357b7579302085": {
          "model_module": "@jupyter-widgets/controls",
          "model_module_version": "1.5.0",
          "model_name": "FloatProgressModel",
          "state": {
            "_dom_classes": [],
            "_model_module": "@jupyter-widgets/controls",
            "_model_module_version": "1.5.0",
            "_model_name": "FloatProgressModel",
            "_view_count": null,
            "_view_module": "@jupyter-widgets/controls",
            "_view_module_version": "1.5.0",
            "_view_name": "ProgressView",
            "bar_style": "success",
            "description": "",
            "description_tooltip": null,
            "layout": "IPY_MODEL_05e8d32d43eb49c08a8aba6be9665d71",
            "max": 138595810,
            "min": 0,
            "orientation": "horizontal",
            "style": "IPY_MODEL_6f9ef99cfcc440b3ad1740ba3870e9e4",
            "value": 138595810
          }
        }
      }
    }
  },
  "nbformat": 4,
  "nbformat_minor": 0
}
