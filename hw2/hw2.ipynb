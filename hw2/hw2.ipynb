{
  "nbformat": 4,
  "nbformat_minor": 0,
  "metadata": {
    "colab": {
      "provenance": []
    },
    "kernelspec": {
      "name": "python3",
      "display_name": "Python 3"
    },
    "language_info": {
      "name": "python"
    },
    "widgets": {
      "application/vnd.jupyter.widget-state+json": {
        "d1a8d59050d14016b35ba75aff726be5": {
          "model_module": "@jupyter-widgets/controls",
          "model_name": "HBoxModel",
          "model_module_version": "1.5.0",
          "state": {
            "_dom_classes": [],
            "_model_module": "@jupyter-widgets/controls",
            "_model_module_version": "1.5.0",
            "_model_name": "HBoxModel",
            "_view_count": null,
            "_view_module": "@jupyter-widgets/controls",
            "_view_module_version": "1.5.0",
            "_view_name": "HBoxView",
            "box_style": "",
            "children": [
              "IPY_MODEL_4b85f565761240f29374ce22bb6ed279",
              "IPY_MODEL_618846f7993c4e31a21809d2f07e83c2",
              "IPY_MODEL_7cc58ef935724afd927d9ff251f6ce4f"
            ],
            "layout": "IPY_MODEL_9f11181db47e4411b4d8016f0651d9eb"
          }
        },
        "4b85f565761240f29374ce22bb6ed279": {
          "model_module": "@jupyter-widgets/controls",
          "model_name": "HTMLModel",
          "model_module_version": "1.5.0",
          "state": {
            "_dom_classes": [],
            "_model_module": "@jupyter-widgets/controls",
            "_model_module_version": "1.5.0",
            "_model_name": "HTMLModel",
            "_view_count": null,
            "_view_module": "@jupyter-widgets/controls",
            "_view_module_version": "1.5.0",
            "_view_name": "HTMLView",
            "description": "",
            "description_tooltip": null,
            "layout": "IPY_MODEL_58a69ef1d29540f1a9b2742e2e3977c8",
            "placeholder": "​",
            "style": "IPY_MODEL_c587d3ecea284d359581e49c8e357653",
            "value": "Filter: 100%"
          }
        },
        "618846f7993c4e31a21809d2f07e83c2": {
          "model_module": "@jupyter-widgets/controls",
          "model_name": "FloatProgressModel",
          "model_module_version": "1.5.0",
          "state": {
            "_dom_classes": [],
            "_model_module": "@jupyter-widgets/controls",
            "_model_module_version": "1.5.0",
            "_model_name": "FloatProgressModel",
            "_view_count": null,
            "_view_module": "@jupyter-widgets/controls",
            "_view_module_version": "1.5.0",
            "_view_name": "ProgressView",
            "bar_style": "success",
            "description": "",
            "description_tooltip": null,
            "layout": "IPY_MODEL_18befc049b93417cb5546f3b0ce20e3e",
            "max": 2749,
            "min": 0,
            "orientation": "horizontal",
            "style": "IPY_MODEL_524035aa43c149c5a931b8e0f41f8b6b",
            "value": 2749
          }
        },
        "7cc58ef935724afd927d9ff251f6ce4f": {
          "model_module": "@jupyter-widgets/controls",
          "model_name": "HTMLModel",
          "model_module_version": "1.5.0",
          "state": {
            "_dom_classes": [],
            "_model_module": "@jupyter-widgets/controls",
            "_model_module_version": "1.5.0",
            "_model_name": "HTMLModel",
            "_view_count": null,
            "_view_module": "@jupyter-widgets/controls",
            "_view_module_version": "1.5.0",
            "_view_name": "HTMLView",
            "description": "",
            "description_tooltip": null,
            "layout": "IPY_MODEL_e7f76c5634a34823b1c0180a27b0c91b",
            "placeholder": "​",
            "style": "IPY_MODEL_11efee095c65453ea0ee18bfcb0b9b93",
            "value": " 2749/2749 [00:06&lt;00:00, 394.31 examples/s]"
          }
        },
        "9f11181db47e4411b4d8016f0651d9eb": {
          "model_module": "@jupyter-widgets/base",
          "model_name": "LayoutModel",
          "model_module_version": "1.2.0",
          "state": {
            "_model_module": "@jupyter-widgets/base",
            "_model_module_version": "1.2.0",
            "_model_name": "LayoutModel",
            "_view_count": null,
            "_view_module": "@jupyter-widgets/base",
            "_view_module_version": "1.2.0",
            "_view_name": "LayoutView",
            "align_content": null,
            "align_items": null,
            "align_self": null,
            "border": null,
            "bottom": null,
            "display": null,
            "flex": null,
            "flex_flow": null,
            "grid_area": null,
            "grid_auto_columns": null,
            "grid_auto_flow": null,
            "grid_auto_rows": null,
            "grid_column": null,
            "grid_gap": null,
            "grid_row": null,
            "grid_template_areas": null,
            "grid_template_columns": null,
            "grid_template_rows": null,
            "height": null,
            "justify_content": null,
            "justify_items": null,
            "left": null,
            "margin": null,
            "max_height": null,
            "max_width": null,
            "min_height": null,
            "min_width": null,
            "object_fit": null,
            "object_position": null,
            "order": null,
            "overflow": null,
            "overflow_x": null,
            "overflow_y": null,
            "padding": null,
            "right": null,
            "top": null,
            "visibility": null,
            "width": null
          }
        },
        "58a69ef1d29540f1a9b2742e2e3977c8": {
          "model_module": "@jupyter-widgets/base",
          "model_name": "LayoutModel",
          "model_module_version": "1.2.0",
          "state": {
            "_model_module": "@jupyter-widgets/base",
            "_model_module_version": "1.2.0",
            "_model_name": "LayoutModel",
            "_view_count": null,
            "_view_module": "@jupyter-widgets/base",
            "_view_module_version": "1.2.0",
            "_view_name": "LayoutView",
            "align_content": null,
            "align_items": null,
            "align_self": null,
            "border": null,
            "bottom": null,
            "display": null,
            "flex": null,
            "flex_flow": null,
            "grid_area": null,
            "grid_auto_columns": null,
            "grid_auto_flow": null,
            "grid_auto_rows": null,
            "grid_column": null,
            "grid_gap": null,
            "grid_row": null,
            "grid_template_areas": null,
            "grid_template_columns": null,
            "grid_template_rows": null,
            "height": null,
            "justify_content": null,
            "justify_items": null,
            "left": null,
            "margin": null,
            "max_height": null,
            "max_width": null,
            "min_height": null,
            "min_width": null,
            "object_fit": null,
            "object_position": null,
            "order": null,
            "overflow": null,
            "overflow_x": null,
            "overflow_y": null,
            "padding": null,
            "right": null,
            "top": null,
            "visibility": null,
            "width": null
          }
        },
        "c587d3ecea284d359581e49c8e357653": {
          "model_module": "@jupyter-widgets/controls",
          "model_name": "DescriptionStyleModel",
          "model_module_version": "1.5.0",
          "state": {
            "_model_module": "@jupyter-widgets/controls",
            "_model_module_version": "1.5.0",
            "_model_name": "DescriptionStyleModel",
            "_view_count": null,
            "_view_module": "@jupyter-widgets/base",
            "_view_module_version": "1.2.0",
            "_view_name": "StyleView",
            "description_width": ""
          }
        },
        "18befc049b93417cb5546f3b0ce20e3e": {
          "model_module": "@jupyter-widgets/base",
          "model_name": "LayoutModel",
          "model_module_version": "1.2.0",
          "state": {
            "_model_module": "@jupyter-widgets/base",
            "_model_module_version": "1.2.0",
            "_model_name": "LayoutModel",
            "_view_count": null,
            "_view_module": "@jupyter-widgets/base",
            "_view_module_version": "1.2.0",
            "_view_name": "LayoutView",
            "align_content": null,
            "align_items": null,
            "align_self": null,
            "border": null,
            "bottom": null,
            "display": null,
            "flex": null,
            "flex_flow": null,
            "grid_area": null,
            "grid_auto_columns": null,
            "grid_auto_flow": null,
            "grid_auto_rows": null,
            "grid_column": null,
            "grid_gap": null,
            "grid_row": null,
            "grid_template_areas": null,
            "grid_template_columns": null,
            "grid_template_rows": null,
            "height": null,
            "justify_content": null,
            "justify_items": null,
            "left": null,
            "margin": null,
            "max_height": null,
            "max_width": null,
            "min_height": null,
            "min_width": null,
            "object_fit": null,
            "object_position": null,
            "order": null,
            "overflow": null,
            "overflow_x": null,
            "overflow_y": null,
            "padding": null,
            "right": null,
            "top": null,
            "visibility": null,
            "width": null
          }
        },
        "524035aa43c149c5a931b8e0f41f8b6b": {
          "model_module": "@jupyter-widgets/controls",
          "model_name": "ProgressStyleModel",
          "model_module_version": "1.5.0",
          "state": {
            "_model_module": "@jupyter-widgets/controls",
            "_model_module_version": "1.5.0",
            "_model_name": "ProgressStyleModel",
            "_view_count": null,
            "_view_module": "@jupyter-widgets/base",
            "_view_module_version": "1.2.0",
            "_view_name": "StyleView",
            "bar_color": null,
            "description_width": ""
          }
        },
        "e7f76c5634a34823b1c0180a27b0c91b": {
          "model_module": "@jupyter-widgets/base",
          "model_name": "LayoutModel",
          "model_module_version": "1.2.0",
          "state": {
            "_model_module": "@jupyter-widgets/base",
            "_model_module_version": "1.2.0",
            "_model_name": "LayoutModel",
            "_view_count": null,
            "_view_module": "@jupyter-widgets/base",
            "_view_module_version": "1.2.0",
            "_view_name": "LayoutView",
            "align_content": null,
            "align_items": null,
            "align_self": null,
            "border": null,
            "bottom": null,
            "display": null,
            "flex": null,
            "flex_flow": null,
            "grid_area": null,
            "grid_auto_columns": null,
            "grid_auto_flow": null,
            "grid_auto_rows": null,
            "grid_column": null,
            "grid_gap": null,
            "grid_row": null,
            "grid_template_areas": null,
            "grid_template_columns": null,
            "grid_template_rows": null,
            "height": null,
            "justify_content": null,
            "justify_items": null,
            "left": null,
            "margin": null,
            "max_height": null,
            "max_width": null,
            "min_height": null,
            "min_width": null,
            "object_fit": null,
            "object_position": null,
            "order": null,
            "overflow": null,
            "overflow_x": null,
            "overflow_y": null,
            "padding": null,
            "right": null,
            "top": null,
            "visibility": null,
            "width": null
          }
        },
        "11efee095c65453ea0ee18bfcb0b9b93": {
          "model_module": "@jupyter-widgets/controls",
          "model_name": "DescriptionStyleModel",
          "model_module_version": "1.5.0",
          "state": {
            "_model_module": "@jupyter-widgets/controls",
            "_model_module_version": "1.5.0",
            "_model_name": "DescriptionStyleModel",
            "_view_count": null,
            "_view_module": "@jupyter-widgets/base",
            "_view_module_version": "1.2.0",
            "_view_name": "StyleView",
            "description_width": ""
          }
        }
      }
    }
  },
  "cells": [
    {
      "cell_type": "code",
      "source": [
        "!pip install datasets"
      ],
      "metadata": {
        "colab": {
          "base_uri": "https://localhost:8080/"
        },
        "id": "xioQ7bwzZr9G",
        "outputId": "fc236a7a-aa76-4b2e-df41-bcce16adf44d"
      },
      "execution_count": null,
      "outputs": [
        {
          "output_type": "stream",
          "name": "stdout",
          "text": [
            "Collecting datasets\n",
            "  Downloading datasets-2.17.1-py3-none-any.whl (536 kB)\n",
            "\u001b[2K     \u001b[90m━━━━━━━━━━━━━━━━━━━━━━━━━━━━━━━━━━━━━━━━\u001b[0m \u001b[32m536.7/536.7 kB\u001b[0m \u001b[31m9.4 MB/s\u001b[0m eta \u001b[36m0:00:00\u001b[0m\n",
            "\u001b[?25hRequirement already satisfied: filelock in /usr/local/lib/python3.10/dist-packages (from datasets) (3.13.1)\n",
            "Requirement already satisfied: numpy>=1.17 in /usr/local/lib/python3.10/dist-packages (from datasets) (1.25.2)\n",
            "Requirement already satisfied: pyarrow>=12.0.0 in /usr/local/lib/python3.10/dist-packages (from datasets) (14.0.2)\n",
            "Requirement already satisfied: pyarrow-hotfix in /usr/local/lib/python3.10/dist-packages (from datasets) (0.6)\n",
            "Collecting dill<0.3.9,>=0.3.0 (from datasets)\n",
            "  Downloading dill-0.3.8-py3-none-any.whl (116 kB)\n",
            "\u001b[2K     \u001b[90m━━━━━━━━━━━━━━━━━━━━━━━━━━━━━━━━━━━━━━━━\u001b[0m \u001b[32m116.3/116.3 kB\u001b[0m \u001b[31m8.6 MB/s\u001b[0m eta \u001b[36m0:00:00\u001b[0m\n",
            "\u001b[?25hRequirement already satisfied: pandas in /usr/local/lib/python3.10/dist-packages (from datasets) (1.5.3)\n",
            "Requirement already satisfied: requests>=2.19.0 in /usr/local/lib/python3.10/dist-packages (from datasets) (2.31.0)\n",
            "Requirement already satisfied: tqdm>=4.62.1 in /usr/local/lib/python3.10/dist-packages (from datasets) (4.66.2)\n",
            "Requirement already satisfied: xxhash in /usr/local/lib/python3.10/dist-packages (from datasets) (3.4.1)\n",
            "Collecting multiprocess (from datasets)\n",
            "  Downloading multiprocess-0.70.16-py310-none-any.whl (134 kB)\n",
            "\u001b[2K     \u001b[90m━━━━━━━━━━━━━━━━━━━━━━━━━━━━━━━━━━━━━━━━\u001b[0m \u001b[32m134.8/134.8 kB\u001b[0m \u001b[31m17.3 MB/s\u001b[0m eta \u001b[36m0:00:00\u001b[0m\n",
            "\u001b[?25hRequirement already satisfied: fsspec[http]<=2023.10.0,>=2023.1.0 in /usr/local/lib/python3.10/dist-packages (from datasets) (2023.6.0)\n",
            "Requirement already satisfied: aiohttp in /usr/local/lib/python3.10/dist-packages (from datasets) (3.9.3)\n",
            "Requirement already satisfied: huggingface-hub>=0.19.4 in /usr/local/lib/python3.10/dist-packages (from datasets) (0.20.3)\n",
            "Requirement already satisfied: packaging in /usr/local/lib/python3.10/dist-packages (from datasets) (23.2)\n",
            "Requirement already satisfied: pyyaml>=5.1 in /usr/local/lib/python3.10/dist-packages (from datasets) (6.0.1)\n",
            "Requirement already satisfied: aiosignal>=1.1.2 in /usr/local/lib/python3.10/dist-packages (from aiohttp->datasets) (1.3.1)\n",
            "Requirement already satisfied: attrs>=17.3.0 in /usr/local/lib/python3.10/dist-packages (from aiohttp->datasets) (23.2.0)\n",
            "Requirement already satisfied: frozenlist>=1.1.1 in /usr/local/lib/python3.10/dist-packages (from aiohttp->datasets) (1.4.1)\n",
            "Requirement already satisfied: multidict<7.0,>=4.5 in /usr/local/lib/python3.10/dist-packages (from aiohttp->datasets) (6.0.5)\n",
            "Requirement already satisfied: yarl<2.0,>=1.0 in /usr/local/lib/python3.10/dist-packages (from aiohttp->datasets) (1.9.4)\n",
            "Requirement already satisfied: async-timeout<5.0,>=4.0 in /usr/local/lib/python3.10/dist-packages (from aiohttp->datasets) (4.0.3)\n",
            "Requirement already satisfied: typing-extensions>=3.7.4.3 in /usr/local/lib/python3.10/dist-packages (from huggingface-hub>=0.19.4->datasets) (4.9.0)\n",
            "Requirement already satisfied: charset-normalizer<4,>=2 in /usr/local/lib/python3.10/dist-packages (from requests>=2.19.0->datasets) (3.3.2)\n",
            "Requirement already satisfied: idna<4,>=2.5 in /usr/local/lib/python3.10/dist-packages (from requests>=2.19.0->datasets) (3.6)\n",
            "Requirement already satisfied: urllib3<3,>=1.21.1 in /usr/local/lib/python3.10/dist-packages (from requests>=2.19.0->datasets) (2.0.7)\n",
            "Requirement already satisfied: certifi>=2017.4.17 in /usr/local/lib/python3.10/dist-packages (from requests>=2.19.0->datasets) (2024.2.2)\n",
            "Requirement already satisfied: python-dateutil>=2.8.1 in /usr/local/lib/python3.10/dist-packages (from pandas->datasets) (2.8.2)\n",
            "Requirement already satisfied: pytz>=2020.1 in /usr/local/lib/python3.10/dist-packages (from pandas->datasets) (2023.4)\n",
            "Requirement already satisfied: six>=1.5 in /usr/local/lib/python3.10/dist-packages (from python-dateutil>=2.8.1->pandas->datasets) (1.16.0)\n",
            "Installing collected packages: dill, multiprocess, datasets\n",
            "Successfully installed datasets-2.17.1 dill-0.3.8 multiprocess-0.70.16\n"
          ]
        }
      ]
    },
    {
      "cell_type": "code",
      "execution_count": null,
      "metadata": {
        "id": "ZslMWKMlZRiJ"
      },
      "outputs": [],
      "source": [
        "from datasets import load_dataset"
      ]
    },
    {
      "cell_type": "code",
      "source": [
        "data = load_dataset(\"valhalla/emoji-dataset\")[\"train\"]"
      ],
      "metadata": {
        "id": "sQw731vFZ9z6"
      },
      "execution_count": null,
      "outputs": []
    },
    {
      "cell_type": "code",
      "source": [
        "count = 0\n",
        "for row in data:\n",
        "  if \"man\" in row[\"text\"]: #all emojis with the term man or woman\n",
        "    count += 1\n",
        "count"
      ],
      "metadata": {
        "colab": {
          "base_uri": "https://localhost:8080/"
        },
        "id": "3S_1tRSYZ9Qd",
        "outputId": "a701f2d8-f611-40fd-9df6-75ef2d4a3bf4"
      },
      "execution_count": null,
      "outputs": [
        {
          "output_type": "execute_result",
          "data": {
            "text/plain": [
              "610"
            ]
          },
          "metadata": {},
          "execution_count": 16
        }
      ]
    },
    {
      "cell_type": "code",
      "source": [
        "def contains_man(row):\n",
        "  return \"man\" in row[\"text\"]\n",
        "\n",
        "filtered = data.filter(contains_man)"
      ],
      "metadata": {
        "colab": {
          "base_uri": "https://localhost:8080/",
          "height": 49,
          "referenced_widgets": [
            "d1a8d59050d14016b35ba75aff726be5",
            "4b85f565761240f29374ce22bb6ed279",
            "618846f7993c4e31a21809d2f07e83c2",
            "7cc58ef935724afd927d9ff251f6ce4f",
            "9f11181db47e4411b4d8016f0651d9eb",
            "58a69ef1d29540f1a9b2742e2e3977c8",
            "c587d3ecea284d359581e49c8e357653",
            "18befc049b93417cb5546f3b0ce20e3e",
            "524035aa43c149c5a931b8e0f41f8b6b",
            "e7f76c5634a34823b1c0180a27b0c91b",
            "11efee095c65453ea0ee18bfcb0b9b93"
          ]
        },
        "id": "s-Sh6sP3cP4P",
        "outputId": "7e3c3a3c-920a-442d-8192-523ae046f597"
      },
      "execution_count": null,
      "outputs": [
        {
          "output_type": "display_data",
          "data": {
            "text/plain": [
              "Filter:   0%|          | 0/2749 [00:00<?, ? examples/s]"
            ],
            "application/vnd.jupyter.widget-view+json": {
              "version_major": 2,
              "version_minor": 0,
              "model_id": "d1a8d59050d14016b35ba75aff726be5"
            }
          },
          "metadata": {}
        }
      ]
    },
    {
      "cell_type": "code",
      "source": [
        "df = filtered.to_pandas()"
      ],
      "metadata": {
        "id": "ae9YW2qjc7mo"
      },
      "execution_count": null,
      "outputs": []
    },
    {
      "cell_type": "code",
      "source": [
        "!pip install pillow"
      ],
      "metadata": {
        "colab": {
          "base_uri": "https://localhost:8080/"
        },
        "id": "oNIN5Eh7dS28",
        "outputId": "c55f1a2a-c5fb-4f44-9a21-df2385d5288d"
      },
      "execution_count": null,
      "outputs": [
        {
          "output_type": "stream",
          "name": "stdout",
          "text": [
            "Requirement already satisfied: pillow in /usr/local/lib/python3.10/dist-packages (9.4.0)\n"
          ]
        }
      ]
    },
    {
      "cell_type": "code",
      "source": [
        "import pandas as pd\n",
        "import PIL"
      ],
      "metadata": {
        "id": "N643I-hgdnZo"
      },
      "execution_count": null,
      "outputs": []
    },
    {
      "cell_type": "code",
      "source": [
        "from PIL import Image, ImageOps\n",
        "import numpy as np\n",
        "import io\n",
        "import random\n",
        "from IPython.display import display\n",
        "\n",
        "def process_image(bytes_arr):\n",
        "  image = Image.open(io.BytesIO(bytes_arr))\n",
        "  size = (64,64)\n",
        "  resized_image = image.resize(size, Image.ANTIALIAS)\n",
        "  image_array = np.array(resized_image)\n",
        "  return image_array\n",
        "\n",
        "def augment_image(og_array):\n",
        "  og = Image.fromarray(og_array)\n",
        "  augmentations = [\"h\", \"v\", \"r\"] #horizontal flip, vertical_flip, rotate\n",
        "  augmentation = random.choice(augmentations)\n",
        "  aug = None\n",
        "  if augmentation == \"h\":\n",
        "    aug = ImageOps.mirror(og)\n",
        "  elif augmentation == \"v\":\n",
        "    aug = ImageOps.flip(og)\n",
        "  else:\n",
        "    d = random.choice([90,180,270])\n",
        "    aug = og.rotate(d)\n",
        "  aug_array = np.array(aug)\n",
        "  return aug_array\n",
        "\n",
        "def show_image(image_array):\n",
        "  image = Image.fromarray(image_array)\n",
        "  display(image)\n"
      ],
      "metadata": {
        "id": "UUIdy821do9L"
      },
      "execution_count": 17,
      "outputs": []
    },
    {
      "cell_type": "code",
      "source": [
        "augmented_dataset = []\n",
        "for image in df[\"image\"]:\n",
        "  bytes_arr = image[\"bytes\"]\n",
        "  image_arr = process_image(bytes_arr)\n",
        "  augmented_dataset.append(image_arr)\n",
        "  augmented_dataset.append(augment_image(image_arr))\n",
        "final_dataset = np.array(augmented_dataset)\n",
        "\n",
        "\n",
        "\n"
      ],
      "metadata": {
        "colab": {
          "base_uri": "https://localhost:8080/"
        },
        "id": "unNYfQdpe-AP",
        "outputId": "0f6ca3ca-a9e8-4f4e-bee7-bf30dcf0731f"
      },
      "execution_count": null,
      "outputs": [
        {
          "output_type": "stream",
          "name": "stderr",
          "text": [
            "<ipython-input-35-cc9e2b5cb8e4>:9: DeprecationWarning: ANTIALIAS is deprecated and will be removed in Pillow 10 (2023-07-01). Use LANCZOS or Resampling.LANCZOS instead.\n",
            "  resized_image = image.resize(size, Image.ANTIALIAS)\n"
          ]
        }
      ]
    },
    {
      "cell_type": "code",
      "source": [
        "np.save(\"processed_data.npy\", final_dataset)"
      ],
      "metadata": {
        "id": "_4I3ABmjhphA"
      },
      "execution_count": null,
      "outputs": []
    },
    {
      "cell_type": "code",
      "source": [
        "import torch\n",
        "import torch.nn as nn\n",
        "import torch.nn.functional as F\n",
        "\n",
        "class ConvAutoEncoder(nn.Module):\n",
        "    def __init__(self):\n",
        "        super(ConvAutoEncoder, self).__init__()\n",
        "\n",
        "        # Encoder\n",
        "        self.encoder = nn.Sequential(\n",
        "            nn.Conv2d(3, 16, kernel_size=3, stride=1, padding=1),  # Output: (16, 64, 64)\n",
        "            nn.ReLU(),\n",
        "            nn.MaxPool2d(2, 2),  # Output: (16, 32, 32)\n",
        "            nn.Conv2d(16, 32, kernel_size=3, stride=1, padding=1),  # Output: (32, 32, 32)\n",
        "            nn.ReLU(),\n",
        "            nn.MaxPool2d(2, 2),  # Output: (32, 16, 16)\n",
        "        )\n",
        "\n",
        "        # Decoder\n",
        "        self.decoder = nn.Sequential(\n",
        "            nn.ConvTranspose2d(32, 16, kernel_size=2, stride=2),  # Output: (16, 32, 32)\n",
        "            nn.ReLU(),\n",
        "            nn.ConvTranspose2d(16, 3, kernel_size=2, stride=2),  # Output: (3, 64, 64)\n",
        "            nn.Sigmoid()  # Use sigmoid to scale the output to [0,1]\n",
        "        )\n",
        "\n",
        "    def forward(self, x):\n",
        "        x = self.encoder(x)\n",
        "        x = self.decoder(x)\n",
        "        return x"
      ],
      "metadata": {
        "id": "oPPOXRVlvcIz"
      },
      "execution_count": 59,
      "outputs": []
    },
    {
      "cell_type": "code",
      "source": [
        "import numpy as np\n",
        "\n",
        "processed_data = np.load(\"processed_data.npy\")\n",
        "np.random.shuffle(processed_data)\n",
        "\n",
        "X_train, X_valid, X_test = processed_data[:600], processed_data[600:800], processed_data[800:1000]"
      ],
      "metadata": {
        "id": "Y4RkLtgVvd32"
      },
      "execution_count": 52,
      "outputs": []
    },
    {
      "cell_type": "code",
      "source": [
        "def normalize_create_tensor(data):\n",
        "  \"\"\"\n",
        "  Normalize data and create a tensor\n",
        "  \"\"\"\n",
        "  n = len(data)\n",
        "  data_scaled = data.astype(np.float32)/255.0\n",
        "  data_reshaped = np.transpose(data_scaled, (0,3,1,2))\n",
        "  data_tensor = torch.tensor(data_reshaped)\n",
        "  print(f'Shape: {data_tensor.shape}')  # Expected shape: (N, 3, 64, 64)\n",
        "  print(f'Type: {data_tensor.dtype}')   # Should be torch.float32\n",
        "  return data_tensor\n"
      ],
      "metadata": {
        "id": "XB640LRbwQwf"
      },
      "execution_count": 53,
      "outputs": []
    },
    {
      "cell_type": "code",
      "source": [
        "X_train_tensor = normalize_create_tensor(X_train)\n",
        "X_valid_tensor = normalize_create_tensor(X_valid)\n",
        "X_test_tensor = normalize_create_tensor(X_test)"
      ],
      "metadata": {
        "colab": {
          "base_uri": "https://localhost:8080/"
        },
        "id": "kQ5kJ_SjyV7M",
        "outputId": "cb43daa5-efe6-476e-c0e2-f03c8c633739"
      },
      "execution_count": 54,
      "outputs": [
        {
          "output_type": "stream",
          "name": "stdout",
          "text": [
            "Shape: torch.Size([600, 3, 64, 64])\n",
            "Type: torch.float32\n",
            "Shape: torch.Size([200, 3, 64, 64])\n",
            "Type: torch.float32\n",
            "Shape: torch.Size([200, 3, 64, 64])\n",
            "Type: torch.float32\n"
          ]
        }
      ]
    },
    {
      "cell_type": "code",
      "source": [
        "import torch\n",
        "import torch.optim as optim\n",
        "import torch.nn as nn\n",
        "\n",
        "cae = ConvAutoEncoder()\n",
        "\n",
        "def train_CAE():\n",
        "  loss_fn = nn.MSELoss()\n",
        "  lr = 0.005\n",
        "  optimizer = optim.Adam(cae.parameters(), lr)\n",
        "  epochs = 250\n",
        "  losses = []\n",
        "  for epoch in range(epochs):\n",
        "    cae.train()\n",
        "    output = cae.forward(X_train_tensor)\n",
        "    loss = loss_fn(output, X_train_tensor)\n",
        "    optimizer.zero_grad()\n",
        "    loss.backward()\n",
        "    optimizer.step()\n",
        "    cae.eval()\n",
        "    with torch.no_grad():\n",
        "      valid_output = cae.forward(X_valid_tensor)\n",
        "      valid_loss = loss_fn(valid_output, X_valid_tensor)\n",
        "    print(f\"epoch: {epoch}, train loss: {loss}, valid loss: {valid_loss}\")\n",
        "\n",
        "\n",
        "train_CAE()\n",
        "\n"
      ],
      "metadata": {
        "colab": {
          "base_uri": "https://localhost:8080/"
        },
        "id": "m0UV7VmWwrbk",
        "outputId": "5d2625f2-99c7-4fde-cd89-bf401442b99b"
      },
      "execution_count": 57,
      "outputs": [
        {
          "output_type": "stream",
          "name": "stdout",
          "text": [
            "epoch: 0, train loss: 0.1431254744529724, valid loss: 0.14162150025367737\n",
            "epoch: 1, train loss: 0.14221838116645813, valid loss: 0.14053842425346375\n",
            "epoch: 2, train loss: 0.1411355584859848, valid loss: 0.13910064101219177\n",
            "epoch: 3, train loss: 0.13970044255256653, valid loss: 0.1367037147283554\n",
            "epoch: 4, train loss: 0.13730977475643158, valid loss: 0.13357695937156677\n",
            "epoch: 5, train loss: 0.13419854640960693, valid loss: 0.13146650791168213\n",
            "epoch: 6, train loss: 0.13211555778980255, valid loss: 0.12700335681438446\n",
            "epoch: 7, train loss: 0.1276257038116455, valid loss: 0.12367718666791916\n",
            "epoch: 8, train loss: 0.12427490204572678, valid loss: 0.11948894709348679\n",
            "epoch: 9, train loss: 0.12006770074367523, valid loss: 0.11476440727710724\n",
            "epoch: 10, train loss: 0.11533190310001373, valid loss: 0.11082042753696442\n",
            "epoch: 11, train loss: 0.11137489229440689, valid loss: 0.10575494170188904\n",
            "epoch: 12, train loss: 0.10628475248813629, valid loss: 0.10113020241260529\n",
            "epoch: 13, train loss: 0.10162404179573059, valid loss: 0.09628044813871384\n",
            "epoch: 14, train loss: 0.09671954810619354, valid loss: 0.09102130681276321\n",
            "epoch: 15, train loss: 0.0914149284362793, valid loss: 0.08630851656198502\n",
            "epoch: 16, train loss: 0.08660826832056046, valid loss: 0.08236336708068848\n",
            "epoch: 17, train loss: 0.08245597779750824, valid loss: 0.07837822288274765\n",
            "epoch: 18, train loss: 0.07839778810739517, valid loss: 0.0742165669798851\n",
            "epoch: 19, train loss: 0.07410518825054169, valid loss: 0.07141844928264618\n",
            "epoch: 20, train loss: 0.07123208045959473, valid loss: 0.07125938683748245\n",
            "epoch: 21, train loss: 0.07096350193023682, valid loss: 0.0740789920091629\n",
            "epoch: 22, train loss: 0.07371021807193756, valid loss: 0.07369016110897064\n",
            "epoch: 23, train loss: 0.0732426643371582, valid loss: 0.07469253987073898\n",
            "epoch: 24, train loss: 0.07420114427804947, valid loss: 0.0651264488697052\n",
            "epoch: 25, train loss: 0.06484517455101013, valid loss: 0.08178113400936127\n",
            "epoch: 26, train loss: 0.08130443096160889, valid loss: 0.06675644218921661\n",
            "epoch: 27, train loss: 0.0664919763803482, valid loss: 0.0774945542216301\n",
            "epoch: 28, train loss: 0.07688941061496735, valid loss: 0.07733204215765\n",
            "epoch: 29, train loss: 0.07673658430576324, valid loss: 0.06744296848773956\n",
            "epoch: 30, train loss: 0.06716616451740265, valid loss: 0.06391879171133041\n",
            "epoch: 31, train loss: 0.06368649005889893, valid loss: 0.07436660677194595\n",
            "epoch: 32, train loss: 0.07392679899930954, valid loss: 0.06376402825117111\n",
            "epoch: 33, train loss: 0.06354569643735886, valid loss: 0.06312332302331924\n",
            "epoch: 34, train loss: 0.06309167295694351, valid loss: 0.06725148856639862\n",
            "epoch: 35, train loss: 0.06700191646814346, valid loss: 0.06678048521280289\n",
            "epoch: 36, train loss: 0.06655620783567429, valid loss: 0.062444057315588\n",
            "epoch: 37, train loss: 0.06242918595671654, valid loss: 0.06037994846701622\n",
            "epoch: 38, train loss: 0.060381390154361725, valid loss: 0.06350813060998917\n",
            "epoch: 39, train loss: 0.06329703330993652, valid loss: 0.06270155310630798\n",
            "epoch: 40, train loss: 0.06251667439937592, valid loss: 0.059160251170396805\n",
            "epoch: 41, train loss: 0.05917277932167053, valid loss: 0.05880969390273094\n",
            "epoch: 42, train loss: 0.058901384472846985, valid loss: 0.05990155041217804\n",
            "epoch: 43, train loss: 0.0599612221121788, valid loss: 0.0590653158724308\n",
            "epoch: 44, train loss: 0.05913998931646347, valid loss: 0.05671760067343712\n",
            "epoch: 45, train loss: 0.05682407692074776, valid loss: 0.05585287883877754\n",
            "epoch: 46, train loss: 0.055916592478752136, valid loss: 0.056603748351335526\n",
            "epoch: 47, train loss: 0.056608058512210846, valid loss: 0.05532544478774071\n",
            "epoch: 48, train loss: 0.05536719039082527, valid loss: 0.05317441001534462\n",
            "epoch: 49, train loss: 0.05330107733607292, valid loss: 0.0527820959687233\n",
            "epoch: 50, train loss: 0.05294647067785263, valid loss: 0.052503034472465515\n",
            "epoch: 51, train loss: 0.05268266052007675, valid loss: 0.050907645374536514\n",
            "epoch: 52, train loss: 0.05110269412398338, valid loss: 0.04956214129924774\n",
            "epoch: 53, train loss: 0.04976031556725502, valid loss: 0.04952240362763405\n",
            "epoch: 54, train loss: 0.049699559807777405, valid loss: 0.048579927533864975\n",
            "epoch: 55, train loss: 0.0487804040312767, valid loss: 0.04712215065956116\n",
            "epoch: 56, train loss: 0.047350481152534485, valid loss: 0.04684701934456825\n",
            "epoch: 57, train loss: 0.04705216735601425, valid loss: 0.04627314209938049\n",
            "epoch: 58, train loss: 0.04645657166838646, valid loss: 0.04504154622554779\n",
            "epoch: 59, train loss: 0.04523845389485359, valid loss: 0.044537048786878586\n",
            "epoch: 60, train loss: 0.04473597928881645, valid loss: 0.0440906323492527\n",
            "epoch: 61, train loss: 0.04426885396242142, valid loss: 0.04306039959192276\n",
            "epoch: 62, train loss: 0.043190088123083115, valid loss: 0.04258548468351364\n",
            "epoch: 63, train loss: 0.04263268783688545, valid loss: 0.04216356202960014\n",
            "epoch: 64, train loss: 0.042153000831604004, valid loss: 0.04124514013528824\n",
            "epoch: 65, train loss: 0.04121699929237366, valid loss: 0.040722571313381195\n",
            "epoch: 66, train loss: 0.040680836886167526, valid loss: 0.04024066403508186\n",
            "epoch: 67, train loss: 0.0401587076485157, valid loss: 0.03947357088327408\n",
            "epoch: 68, train loss: 0.03933180496096611, valid loss: 0.03909347206354141\n",
            "epoch: 69, train loss: 0.038901980966329575, valid loss: 0.03849547728896141\n",
            "epoch: 70, train loss: 0.038285937160253525, valid loss: 0.037909284234046936\n",
            "epoch: 71, train loss: 0.037692565470933914, valid loss: 0.03756250441074371\n",
            "epoch: 72, train loss: 0.03731921687722206, valid loss: 0.03694840520620346\n",
            "epoch: 73, train loss: 0.03666343167424202, valid loss: 0.03667399659752846\n",
            "epoch: 74, train loss: 0.036341603845357895, valid loss: 0.036158617585897446\n",
            "epoch: 75, train loss: 0.03580824285745621, valid loss: 0.03586290404200554\n",
            "epoch: 76, train loss: 0.035502027720212936, valid loss: 0.03540525585412979\n",
            "epoch: 77, train loss: 0.03502190113067627, valid loss: 0.03515349328517914\n",
            "epoch: 78, train loss: 0.03474237024784088, valid loss: 0.03470805659890175\n",
            "epoch: 79, train loss: 0.03428269550204277, valid loss: 0.034424979239702225\n",
            "epoch: 80, train loss: 0.0339849591255188, valid loss: 0.034140560775995255\n",
            "epoch: 81, train loss: 0.033685535192489624, valid loss: 0.033763375133275986\n",
            "epoch: 82, train loss: 0.03329652175307274, valid loss: 0.0335884727537632\n",
            "epoch: 83, train loss: 0.033111631870269775, valid loss: 0.03325415402650833\n",
            "epoch: 84, train loss: 0.032767195254564285, valid loss: 0.03299601376056671\n",
            "epoch: 85, train loss: 0.03249690309166908, valid loss: 0.03281356766819954\n",
            "epoch: 86, train loss: 0.03230439871549606, valid loss: 0.03251064941287041\n",
            "epoch: 87, train loss: 0.03199877217411995, valid loss: 0.032347969710826874\n",
            "epoch: 88, train loss: 0.03183017298579216, valid loss: 0.03214780613780022\n",
            "epoch: 89, train loss: 0.03162084519863129, valid loss: 0.03192289546132088\n",
            "epoch: 90, train loss: 0.031384170055389404, valid loss: 0.0317530632019043\n",
            "epoch: 91, train loss: 0.031202977523207664, valid loss: 0.03155132383108139\n",
            "epoch: 92, train loss: 0.03100474551320076, valid loss: 0.031326670199632645\n",
            "epoch: 93, train loss: 0.03077174723148346, valid loss: 0.031181465834379196\n",
            "epoch: 94, train loss: 0.03061630204319954, valid loss: 0.030985265970230103\n",
            "epoch: 95, train loss: 0.03041899763047695, valid loss: 0.030802542343735695\n",
            "epoch: 96, train loss: 0.03022681176662445, valid loss: 0.03064623847603798\n",
            "epoch: 97, train loss: 0.03006846085190773, valid loss: 0.03049515374004841\n",
            "epoch: 98, train loss: 0.02991745062172413, valid loss: 0.030317820608615875\n",
            "epoch: 99, train loss: 0.029748620465397835, valid loss: 0.030219482257962227\n",
            "epoch: 100, train loss: 0.029633473604917526, valid loss: 0.030212843790650368\n",
            "epoch: 101, train loss: 0.02965237945318222, valid loss: 0.030244989320635796\n",
            "epoch: 102, train loss: 0.029629549011588097, valid loss: 0.03024359419941902\n",
            "epoch: 103, train loss: 0.029674863442778587, valid loss: 0.029935792088508606\n",
            "epoch: 104, train loss: 0.0293292049318552, valid loss: 0.02952646277844906\n",
            "epoch: 105, train loss: 0.02892611175775528, valid loss: 0.02944197691977024\n",
            "epoch: 106, train loss: 0.028850218281149864, valid loss: 0.02955075353384018\n",
            "epoch: 107, train loss: 0.02893807739019394, valid loss: 0.02930826134979725\n",
            "epoch: 108, train loss: 0.028723055496811867, valid loss: 0.029065245762467384\n",
            "epoch: 109, train loss: 0.02844645269215107, valid loss: 0.02900243178009987\n",
            "epoch: 110, train loss: 0.028387565165758133, valid loss: 0.028978843241930008\n",
            "epoch: 111, train loss: 0.028387149795889854, valid loss: 0.02886628545820713\n",
            "epoch: 112, train loss: 0.028222793713212013, valid loss: 0.028590360656380653\n",
            "epoch: 113, train loss: 0.027975456789135933, valid loss: 0.02851351723074913\n",
            "epoch: 114, train loss: 0.027904458343982697, valid loss: 0.02853531576693058\n",
            "epoch: 115, train loss: 0.027893127873539925, valid loss: 0.028402306139469147\n",
            "epoch: 116, train loss: 0.027789436280727386, valid loss: 0.028273900970816612\n",
            "epoch: 117, train loss: 0.027649784460663795, valid loss: 0.028102029114961624\n",
            "epoch: 118, train loss: 0.027479583397507668, valid loss: 0.02802237495779991\n",
            "epoch: 119, train loss: 0.02740650624036789, valid loss: 0.027987327426671982\n",
            "epoch: 120, train loss: 0.027369175106287003, valid loss: 0.02791927568614483\n",
            "epoch: 121, train loss: 0.027307745069265366, valid loss: 0.02783799171447754\n",
            "epoch: 122, train loss: 0.027211587876081467, valid loss: 0.027693720534443855\n",
            "epoch: 123, train loss: 0.027090132236480713, valid loss: 0.027566177770495415\n",
            "epoch: 124, train loss: 0.026945454999804497, valid loss: 0.027449652552604675\n",
            "epoch: 125, train loss: 0.026831112802028656, valid loss: 0.027351731434464455\n",
            "epoch: 126, train loss: 0.026742538437247276, valid loss: 0.027281418442726135\n",
            "epoch: 127, train loss: 0.02666141465306282, valid loss: 0.02722787857055664\n",
            "epoch: 128, train loss: 0.026607472449541092, valid loss: 0.027181053534150124\n",
            "epoch: 129, train loss: 0.026564830914139748, valid loss: 0.027152204886078835\n",
            "epoch: 130, train loss: 0.02653907798230648, valid loss: 0.027146587148308754\n",
            "epoch: 131, train loss: 0.026527730748057365, valid loss: 0.027188651263713837\n",
            "epoch: 132, train loss: 0.026590628549456596, valid loss: 0.02711852639913559\n",
            "epoch: 133, train loss: 0.0265041533857584, valid loss: 0.027047498151659966\n",
            "epoch: 134, train loss: 0.026442555710673332, valid loss: 0.0267458688467741\n",
            "epoch: 135, train loss: 0.02614595927298069, valid loss: 0.02647942490875721\n",
            "epoch: 136, train loss: 0.02588702365756035, valid loss: 0.026329031214118004\n",
            "epoch: 137, train loss: 0.02573731169104576, valid loss: 0.026298286393284798\n",
            "epoch: 138, train loss: 0.02571134641766548, valid loss: 0.026326650753617287\n",
            "epoch: 139, train loss: 0.025740129873156548, valid loss: 0.026261920109391212\n",
            "epoch: 140, train loss: 0.025676460936665535, valid loss: 0.026142600923776627\n",
            "epoch: 141, train loss: 0.025565367192029953, valid loss: 0.02591235190629959\n",
            "epoch: 142, train loss: 0.025337623432278633, valid loss: 0.025707414373755455\n",
            "epoch: 143, train loss: 0.02514086849987507, valid loss: 0.025576313957571983\n",
            "epoch: 144, train loss: 0.025019679218530655, valid loss: 0.02550402283668518\n",
            "epoch: 145, train loss: 0.024950409308075905, valid loss: 0.025457628071308136\n",
            "epoch: 146, train loss: 0.02490849792957306, valid loss: 0.025378454476594925\n",
            "epoch: 147, train loss: 0.0248443353921175, valid loss: 0.025310678407549858\n",
            "epoch: 148, train loss: 0.024771982803940773, valid loss: 0.025115102529525757\n",
            "epoch: 149, train loss: 0.024602673947811127, valid loss: 0.02493835985660553\n",
            "epoch: 150, train loss: 0.024424362927675247, valid loss: 0.02469177544116974\n",
            "epoch: 151, train loss: 0.02419663965702057, valid loss: 0.024477137252688408\n",
            "epoch: 152, train loss: 0.023990243673324585, valid loss: 0.024279629811644554\n",
            "epoch: 153, train loss: 0.023801252245903015, valid loss: 0.024104995653033257\n",
            "epoch: 154, train loss: 0.023639297112822533, valid loss: 0.023963728919625282\n",
            "epoch: 155, train loss: 0.02350250817835331, valid loss: 0.02381805144250393\n",
            "epoch: 156, train loss: 0.02337667904794216, valid loss: 0.023730337619781494\n",
            "epoch: 157, train loss: 0.02327953837811947, valid loss: 0.02361193671822548\n",
            "epoch: 158, train loss: 0.02319699339568615, valid loss: 0.02366524375975132\n",
            "epoch: 159, train loss: 0.023217298090457916, valid loss: 0.023524314165115356\n",
            "epoch: 160, train loss: 0.02313428744673729, valid loss: 0.023555180057883263\n",
            "epoch: 161, train loss: 0.023112116381525993, valid loss: 0.023056836798787117\n",
            "epoch: 162, train loss: 0.022679509595036507, valid loss: 0.022656172513961792\n",
            "epoch: 163, train loss: 0.022251415997743607, valid loss: 0.02230945974588394\n",
            "epoch: 164, train loss: 0.02192435786128044, valid loss: 0.02222357504069805\n",
            "epoch: 165, train loss: 0.021858295425772667, valid loss: 0.022325526922941208\n",
            "epoch: 166, train loss: 0.021923886612057686, valid loss: 0.02219080552458763\n",
            "epoch: 167, train loss: 0.021844368427991867, valid loss: 0.022080935537815094\n",
            "epoch: 168, train loss: 0.02168632112443447, valid loss: 0.021709179505705833\n",
            "epoch: 169, train loss: 0.021369628608226776, valid loss: 0.02149503491818905\n",
            "epoch: 170, train loss: 0.02113420143723488, valid loss: 0.021366748958826065\n",
            "epoch: 171, train loss: 0.021018363535404205, valid loss: 0.02133057452738285\n",
            "epoch: 172, train loss: 0.0210092905908823, valid loss: 0.021419338881969452\n",
            "epoch: 173, train loss: 0.021052232012152672, valid loss: 0.021272988989949226\n",
            "epoch: 174, train loss: 0.020976314321160316, valid loss: 0.021295327693223953\n",
            "epoch: 175, train loss: 0.020932994782924652, valid loss: 0.02105007693171501\n",
            "epoch: 176, train loss: 0.02076071687042713, valid loss: 0.020932413637638092\n",
            "epoch: 177, train loss: 0.020596502348780632, valid loss: 0.020687855780124664\n",
            "epoch: 178, train loss: 0.0203979704529047, valid loss: 0.020575372502207756\n",
            "epoch: 179, train loss: 0.020266421139240265, valid loss: 0.020498724654316902\n",
            "epoch: 180, train loss: 0.020198529586195946, valid loss: 0.020441316068172455\n",
            "epoch: 181, train loss: 0.020159076899290085, valid loss: 0.020477261394262314\n",
            "epoch: 182, train loss: 0.02015981636941433, valid loss: 0.020463772118091583\n",
            "epoch: 183, train loss: 0.02021028660237789, valid loss: 0.020767997950315475\n",
            "epoch: 184, train loss: 0.020429691299796104, valid loss: 0.02076324075460434\n",
            "epoch: 185, train loss: 0.020512809976935387, valid loss: 0.021285654976963997\n",
            "epoch: 186, train loss: 0.020955491811037064, valid loss: 0.021099725738167763\n",
            "epoch: 187, train loss: 0.02082197740674019, valid loss: 0.020943885669112206\n",
            "epoch: 188, train loss: 0.0206487774848938, valid loss: 0.020093252882361412\n",
            "epoch: 189, train loss: 0.01981564424932003, valid loss: 0.019953187555074692\n",
            "epoch: 190, train loss: 0.019656842574477196, valid loss: 0.020259574055671692\n",
            "epoch: 191, train loss: 0.019978027790784836, valid loss: 0.020179634913802147\n",
            "epoch: 192, train loss: 0.019908854737877846, valid loss: 0.02020418457686901\n",
            "epoch: 193, train loss: 0.019872574135661125, valid loss: 0.019846804440021515\n",
            "epoch: 194, train loss: 0.01960626058280468, valid loss: 0.0196748785674572\n",
            "epoch: 195, train loss: 0.01939352974295616, valid loss: 0.019805975258350372\n",
            "epoch: 196, train loss: 0.01949678361415863, valid loss: 0.019792594015598297\n",
            "epoch: 197, train loss: 0.019551662728190422, valid loss: 0.019717076793313026\n",
            "epoch: 198, train loss: 0.019413096830248833, valid loss: 0.019518019631505013\n",
            "epoch: 199, train loss: 0.01923450082540512, valid loss: 0.01947561465203762\n",
            "epoch: 200, train loss: 0.019222188740968704, valid loss: 0.01950789988040924\n",
            "epoch: 201, train loss: 0.01921255514025688, valid loss: 0.01951492391526699\n",
            "epoch: 202, train loss: 0.019239934161305428, valid loss: 0.019492989405989647\n",
            "epoch: 203, train loss: 0.019224029034376144, valid loss: 0.019303329288959503\n",
            "epoch: 204, train loss: 0.019036225974559784, valid loss: 0.019251782447099686\n",
            "epoch: 205, train loss: 0.018970642238855362, valid loss: 0.01922476850450039\n",
            "epoch: 206, train loss: 0.018971657380461693, valid loss: 0.01920911855995655\n",
            "epoch: 207, train loss: 0.018948253244161606, valid loss: 0.019261932000517845\n",
            "epoch: 208, train loss: 0.018974537029862404, valid loss: 0.01916675828397274\n",
            "epoch: 209, train loss: 0.01892857626080513, valid loss: 0.019130630418658257\n",
            "epoch: 210, train loss: 0.01885300502181053, valid loss: 0.019027573987841606\n",
            "epoch: 211, train loss: 0.018768658861517906, valid loss: 0.018972214311361313\n",
            "epoch: 212, train loss: 0.01872500777244568, valid loss: 0.018950080499053\n",
            "epoch: 213, train loss: 0.018682466819882393, valid loss: 0.018912652507424355\n",
            "epoch: 214, train loss: 0.01865890622138977, valid loss: 0.01892574317753315\n",
            "epoch: 215, train loss: 0.018671903759241104, valid loss: 0.018926365301012993\n",
            "epoch: 216, train loss: 0.01867474801838398, valid loss: 0.01894436590373516\n",
            "epoch: 217, train loss: 0.018679846078157425, valid loss: 0.018900137394666672\n",
            "epoch: 218, train loss: 0.018666207790374756, valid loss: 0.018963877111673355\n",
            "epoch: 219, train loss: 0.01868852600455284, valid loss: 0.01885942555963993\n",
            "epoch: 220, train loss: 0.018625760450959206, valid loss: 0.0188638586550951\n",
            "epoch: 221, train loss: 0.018603282049298286, valid loss: 0.018798699602484703\n",
            "epoch: 222, train loss: 0.01855483464896679, valid loss: 0.01876823976635933\n",
            "epoch: 223, train loss: 0.018515700474381447, valid loss: 0.01867937482893467\n",
            "epoch: 224, train loss: 0.01844188943505287, valid loss: 0.018666377291083336\n",
            "epoch: 225, train loss: 0.018406974151730537, valid loss: 0.01858167164027691\n",
            "epoch: 226, train loss: 0.018349913880228996, valid loss: 0.018552135676145554\n",
            "epoch: 227, train loss: 0.018297698348760605, valid loss: 0.018489981070160866\n",
            "epoch: 228, train loss: 0.018251389265060425, valid loss: 0.018465681001544\n",
            "epoch: 229, train loss: 0.018223142251372337, valid loss: 0.018432894721627235\n",
            "epoch: 230, train loss: 0.01819228008389473, valid loss: 0.018410146236419678\n",
            "epoch: 231, train loss: 0.018166545778512955, valid loss: 0.01838800311088562\n",
            "epoch: 232, train loss: 0.01815616339445114, valid loss: 0.018421083688735962\n",
            "epoch: 233, train loss: 0.01816931739449501, valid loss: 0.018420357257127762\n",
            "epoch: 234, train loss: 0.01819373108446598, valid loss: 0.018564637750387192\n",
            "epoch: 235, train loss: 0.018309179693460464, valid loss: 0.018716877326369286\n",
            "epoch: 236, train loss: 0.018489817157387733, valid loss: 0.019287917762994766\n",
            "epoch: 237, train loss: 0.019021514803171158, valid loss: 0.019596485421061516\n",
            "epoch: 238, train loss: 0.01936236210167408, valid loss: 0.02044917270541191\n",
            "epoch: 239, train loss: 0.020164093002676964, valid loss: 0.01929011382162571\n",
            "epoch: 240, train loss: 0.019045885652303696, valid loss: 0.018427006900310516\n",
            "epoch: 241, train loss: 0.018184538930654526, valid loss: 0.01821250095963478\n",
            "epoch: 242, train loss: 0.017971541732549667, valid loss: 0.018736286088824272\n",
            "epoch: 243, train loss: 0.01849531941115856, valid loss: 0.019114207476377487\n",
            "epoch: 244, train loss: 0.018855063244700432, valid loss: 0.018338674679398537\n",
            "epoch: 245, train loss: 0.018102526664733887, valid loss: 0.018105177208781242\n",
            "epoch: 246, train loss: 0.017874006181955338, valid loss: 0.01853642798960209\n",
            "epoch: 247, train loss: 0.018292110413312912, valid loss: 0.018477628007531166\n",
            "epoch: 248, train loss: 0.01824764534831047, valid loss: 0.018136270344257355\n",
            "epoch: 249, train loss: 0.01789928786456585, valid loss: 0.018002884462475777\n"
          ]
        }
      ]
    },
    {
      "cell_type": "code",
      "source": [
        "def predict_and_display_image(i):\n",
        "  image_arr = X_test[i] #np array of image\n",
        "  show_image(image_arr)\n",
        "  X = np.array([image_arr])\n",
        "  norm_X = normalize_create_tensor(X)\n",
        "  output = cae.forward(norm_X)\n",
        "  output = output.detach().cpu()\n",
        "  output_array = (output.numpy()*255).astype(np.uint8) #convert to numpy\n",
        "  output_array = np.transpose(output_array[0], (1, 2, 0))\n",
        "  show_image(output_array)\n",
        "\n",
        "\n",
        "predict_and_display_image(0)\n",
        "predict_and_display_image(10)\n",
        "predict_and_display_image(20)\n",
        "predict_and_display_image(30)\n"
      ],
      "metadata": {
        "colab": {
          "base_uri": "https://localhost:8080/",
          "height": 668
        },
        "id": "lPK32GUQzsd0",
        "outputId": "3f18fba1-01e2-477e-de67-c0bb32002f1e"
      },
      "execution_count": 58,
      "outputs": [
        {
          "output_type": "display_data",
          "data": {
            "text/plain": [
              "<PIL.Image.Image image mode=RGB size=64x64>"
            ],
            "image/png": "[encoded data removed]"
          },
          "metadata": {}
        },
        {
          "output_type": "stream",
          "name": "stdout",
          "text": [
            "Shape: torch.Size([1, 3, 64, 64])\n",
            "Type: torch.float32\n"
          ]
        },
        {
          "output_type": "display_data",
          "data": {
            "text/plain": [
              "<PIL.Image.Image image mode=RGB size=64x64>"
            ],
            "image/png": "[encoded data removed]"
          },
          "metadata": {}
        },
        {
          "output_type": "display_data",
          "data": {
            "text/plain": [
              "<PIL.Image.Image image mode=RGB size=64x64>"
            ],
            "image/png": "[encoded data removed]"
          },
          "metadata": {}
        },
        {
          "output_type": "stream",
          "name": "stdout",
          "text": [
            "Shape: torch.Size([1, 3, 64, 64])\n",
            "Type: torch.float32\n"
          ]
        },
        {
          "output_type": "display_data",
          "data": {
            "text/plain": [
              "<PIL.Image.Image image mode=RGB size=64x64>"
            ],
            "image/png": "[encoded data removed]"
          },
          "metadata": {}
        },
        {
          "output_type": "display_data",
          "data": {
            "text/plain": [
              "<PIL.Image.Image image mode=RGB size=64x64>"
            ],
            "image/png": "[encoded data removed]"
          },
          "metadata": {}
        },
        {
          "output_type": "stream",
          "name": "stdout",
          "text": [
            "Shape: torch.Size([1, 3, 64, 64])\n",
            "Type: torch.float32\n"
          ]
        },
        {
          "output_type": "display_data",
          "data": {
            "text/plain": [
              "<PIL.Image.Image image mode=RGB size=64x64>"
            ],
            "image/png": "[encoded data removed]"
          },
          "metadata": {}
        },
        {
          "output_type": "display_data",
          "data": {
            "text/plain": [
              "<PIL.Image.Image image mode=RGB size=64x64>"
            ],
            "image/png": "[encoded data removed]"
          },
          "metadata": {}
        },
        {
          "output_type": "stream",
          "name": "stdout",
          "text": [
            "Shape: torch.Size([1, 3, 64, 64])\n",
            "Type: torch.float32\n"
          ]
        },
        {
          "output_type": "display_data",
          "data": {
            "text/plain": [
              "<PIL.Image.Image image mode=RGB size=64x64>"
            ],
            "image/png": "[encoded data removed]"
          },
          "metadata": {}
        }
      ]
    }
  ]
}