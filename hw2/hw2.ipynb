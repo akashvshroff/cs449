{
  "cells": [
    {
      "cell_type": "code",
      "execution_count": null,
      "metadata": {
        "colab": {
          "base_uri": "https://localhost:8080/"
        },
        "id": "xioQ7bwzZr9G",
        "outputId": "fc236a7a-aa76-4b2e-df41-bcce16adf44d"
      },
      "outputs": [
        {
          "name": "stdout",
          "output_type": "stream",
          "text": [
            "Collecting datasets\n",
            "  Downloading datasets-2.17.1-py3-none-any.whl (536 kB)\n",
            "\u001b[2K     \u001b[90m━━━━━━━━━━━━━━━━━━━━━━━━━━━━━━━━━━━━━━━━\u001b[0m \u001b[32m536.7/536.7 kB\u001b[0m \u001b[31m9.4 MB/s\u001b[0m eta \u001b[36m0:00:00\u001b[0m\n",
            "\u001b[?25hRequirement already satisfied: filelock in /usr/local/lib/python3.10/dist-packages (from datasets) (3.13.1)\n",
            "Requirement already satisfied: numpy>=1.17 in /usr/local/lib/python3.10/dist-packages (from datasets) (1.25.2)\n",
            "Requirement already satisfied: pyarrow>=12.0.0 in /usr/local/lib/python3.10/dist-packages (from datasets) (14.0.2)\n",
            "Requirement already satisfied: pyarrow-hotfix in /usr/local/lib/python3.10/dist-packages (from datasets) (0.6)\n",
            "Collecting dill<0.3.9,>=0.3.0 (from datasets)\n",
            "  Downloading dill-0.3.8-py3-none-any.whl (116 kB)\n",
            "\u001b[2K     \u001b[90m━━━━━━━━━━━━━━━━━━━━━━━━━━━━━━━━━━━━━━━━\u001b[0m \u001b[32m116.3/116.3 kB\u001b[0m \u001b[31m8.6 MB/s\u001b[0m eta \u001b[36m0:00:00\u001b[0m\n",
            "\u001b[?25hRequirement already satisfied: pandas in /usr/local/lib/python3.10/dist-packages (from datasets) (1.5.3)\n",
            "Requirement already satisfied: requests>=2.19.0 in /usr/local/lib/python3.10/dist-packages (from datasets) (2.31.0)\n",
            "Requirement already satisfied: tqdm>=4.62.1 in /usr/local/lib/python3.10/dist-packages (from datasets) (4.66.2)\n",
            "Requirement already satisfied: xxhash in /usr/local/lib/python3.10/dist-packages (from datasets) (3.4.1)\n",
            "Collecting multiprocess (from datasets)\n",
            "  Downloading multiprocess-0.70.16-py310-none-any.whl (134 kB)\n",
            "\u001b[2K     \u001b[90m━━━━━━━━━━━━━━━━━━━━━━━━━━━━━━━━━━━━━━━━\u001b[0m \u001b[32m134.8/134.8 kB\u001b[0m \u001b[31m17.3 MB/s\u001b[0m eta \u001b[36m0:00:00\u001b[0m\n",
            "\u001b[?25hRequirement already satisfied: fsspec[http]<=2023.10.0,>=2023.1.0 in /usr/local/lib/python3.10/dist-packages (from datasets) (2023.6.0)\n",
            "Requirement already satisfied: aiohttp in /usr/local/lib/python3.10/dist-packages (from datasets) (3.9.3)\n",
            "Requirement already satisfied: huggingface-hub>=0.19.4 in /usr/local/lib/python3.10/dist-packages (from datasets) (0.20.3)\n",
            "Requirement already satisfied: packaging in /usr/local/lib/python3.10/dist-packages (from datasets) (23.2)\n",
            "Requirement already satisfied: pyyaml>=5.1 in /usr/local/lib/python3.10/dist-packages (from datasets) (6.0.1)\n",
            "Requirement already satisfied: aiosignal>=1.1.2 in /usr/local/lib/python3.10/dist-packages (from aiohttp->datasets) (1.3.1)\n",
            "Requirement already satisfied: attrs>=17.3.0 in /usr/local/lib/python3.10/dist-packages (from aiohttp->datasets) (23.2.0)\n",
            "Requirement already satisfied: frozenlist>=1.1.1 in /usr/local/lib/python3.10/dist-packages (from aiohttp->datasets) (1.4.1)\n",
            "Requirement already satisfied: multidict<7.0,>=4.5 in /usr/local/lib/python3.10/dist-packages (from aiohttp->datasets) (6.0.5)\n",
            "Requirement already satisfied: yarl<2.0,>=1.0 in /usr/local/lib/python3.10/dist-packages (from aiohttp->datasets) (1.9.4)\n",
            "Requirement already satisfied: async-timeout<5.0,>=4.0 in /usr/local/lib/python3.10/dist-packages (from aiohttp->datasets) (4.0.3)\n",
            "Requirement already satisfied: typing-extensions>=3.7.4.3 in /usr/local/lib/python3.10/dist-packages (from huggingface-hub>=0.19.4->datasets) (4.9.0)\n",
            "Requirement already satisfied: charset-normalizer<4,>=2 in /usr/local/lib/python3.10/dist-packages (from requests>=2.19.0->datasets) (3.3.2)\n",
            "Requirement already satisfied: idna<4,>=2.5 in /usr/local/lib/python3.10/dist-packages (from requests>=2.19.0->datasets) (3.6)\n",
            "Requirement already satisfied: urllib3<3,>=1.21.1 in /usr/local/lib/python3.10/dist-packages (from requests>=2.19.0->datasets) (2.0.7)\n",
            "Requirement already satisfied: certifi>=2017.4.17 in /usr/local/lib/python3.10/dist-packages (from requests>=2.19.0->datasets) (2024.2.2)\n",
            "Requirement already satisfied: python-dateutil>=2.8.1 in /usr/local/lib/python3.10/dist-packages (from pandas->datasets) (2.8.2)\n",
            "Requirement already satisfied: pytz>=2020.1 in /usr/local/lib/python3.10/dist-packages (from pandas->datasets) (2023.4)\n",
            "Requirement already satisfied: six>=1.5 in /usr/local/lib/python3.10/dist-packages (from python-dateutil>=2.8.1->pandas->datasets) (1.16.0)\n",
            "Installing collected packages: dill, multiprocess, datasets\n",
            "Successfully installed datasets-2.17.1 dill-0.3.8 multiprocess-0.70.16\n"
          ]
        }
      ],
      "source": [
        "!pip install datasets"
      ]
    },
    {
      "cell_type": "code",
      "execution_count": null,
      "metadata": {
        "id": "ZslMWKMlZRiJ"
      },
      "outputs": [],
      "source": [
        "from datasets import load_dataset"
      ]
    },
    {
      "cell_type": "code",
      "execution_count": null,
      "metadata": {
        "id": "sQw731vFZ9z6"
      },
      "outputs": [],
      "source": [
        "data = load_dataset(\"valhalla/emoji-dataset\")[\"train\"]"
      ]
    },
    {
      "cell_type": "code",
      "execution_count": null,
      "metadata": {
        "colab": {
          "base_uri": "https://localhost:8080/"
        },
        "id": "3S_1tRSYZ9Qd",
        "outputId": "a701f2d8-f611-40fd-9df6-75ef2d4a3bf4"
      },
      "outputs": [
        {
          "data": {
            "text/plain": [
              "610"
            ]
          },
          "execution_count": 16,
          "metadata": {},
          "output_type": "execute_result"
        }
      ],
      "source": [
        "count = 0\n",
        "for row in data:\n",
        "  if \"man\" in row[\"text\"]: #all emojis with the term man or woman\n",
        "    count += 1\n",
        "count"
      ]
    },
    {
      "cell_type": "code",
      "execution_count": null,
      "metadata": {
        "id": "Goceh62PYiuk"
      },
      "outputs": [],
      "source": [
        "man = 0\n",
        "woman = 0\n",
        "multiple = 0\n",
        "\n",
        "filtered = []\n",
        "\n",
        "for row in data:\n",
        "\n",
        "    text = row['text'].split(' ')\n",
        "    singular = {'man':0, 'woman':0, 'boy':0, 'girl':0}\n",
        "    plural = {'men':0, 'women':0, 'family':0}\n",
        "\n",
        "    for word in text:\n",
        "        if word in singular.keys():\n",
        "            singular[word] += 1\n",
        "\n",
        "        if word in plural.keys():\n",
        "            plural[word] +=1\n",
        "\n",
        "    if sum(singular.values()) > 1 or sum(plural.values()) >=1:\n",
        "        multiple += 1\n",
        "        filtered.append({**row, 'class':1})\n",
        "\n",
        "    elif singular['man'] == 1:\n",
        "        man +=1\n",
        "        filtered.append({**row, 'class':2})\n",
        "\n",
        "    elif singular['woman'] == 1:\n",
        "        filtered.append({**row, 'class':3})\n",
        "        woman += 1\n",
        "\n",
        "\n",
        "print(man, woman, multiple)"
      ]
    },
    {
      "cell_type": "code",
      "execution_count": null,
      "metadata": {
        "colab": {
          "base_uri": "https://localhost:8080/",
          "height": 49,
          "referenced_widgets": [
            "d1a8d59050d14016b35ba75aff726be5",
            "4b85f565761240f29374ce22bb6ed279",
            "618846f7993c4e31a21809d2f07e83c2",
            "7cc58ef935724afd927d9ff251f6ce4f",
            "9f11181db47e4411b4d8016f0651d9eb",
            "58a69ef1d29540f1a9b2742e2e3977c8",
            "c587d3ecea284d359581e49c8e357653",
            "18befc049b93417cb5546f3b0ce20e3e",
            "524035aa43c149c5a931b8e0f41f8b6b",
            "e7f76c5634a34823b1c0180a27b0c91b",
            "11efee095c65453ea0ee18bfcb0b9b93"
          ]
        },
        "id": "s-Sh6sP3cP4P",
        "outputId": "7e3c3a3c-920a-442d-8192-523ae046f597"
      },
      "outputs": [
        {
          "data": {
            "application/vnd.jupyter.widget-view+json": {
              "model_id": "d1a8d59050d14016b35ba75aff726be5",
              "version_major": 2,
              "version_minor": 0
            },
            "text/plain": [
              "Filter:   0%|          | 0/2749 [00:00<?, ? examples/s]"
            ]
          },
          "metadata": {},
          "output_type": "display_data"
        }
      ],
      "source": [
        "def contains_man(row):\n",
        "  return \"man\" in row[\"text\"]\n",
        "\n",
        "filtered = data.filter(contains_man)"
      ]
    },
    {
      "cell_type": "code",
      "execution_count": null,
      "metadata": {
        "id": "ae9YW2qjc7mo"
      },
      "outputs": [],
      "source": [
        "df = filtered.to_pandas()"
      ]
    },
    {
      "cell_type": "code",
      "execution_count": null,
      "metadata": {
        "colab": {
          "base_uri": "https://localhost:8080/"
        },
        "id": "oNIN5Eh7dS28",
        "outputId": "c55f1a2a-c5fb-4f44-9a21-df2385d5288d"
      },
      "outputs": [
        {
          "name": "stdout",
          "output_type": "stream",
          "text": [
            "Requirement already satisfied: pillow in /usr/local/lib/python3.10/dist-packages (9.4.0)\n"
          ]
        }
      ],
      "source": [
        "!pip install pillow"
      ]
    },
    {
      "cell_type": "code",
      "execution_count": 2,
      "metadata": {
        "id": "N643I-hgdnZo"
      },
      "outputs": [],
      "source": [
        "import pandas as pd\n",
        "import PIL"
      ]
    },
    {
      "cell_type": "code",
      "execution_count": 1,
      "metadata": {
        "id": "UUIdy821do9L"
      },
      "outputs": [],
      "source": [
        "from PIL import Image, ImageOps\n",
        "import numpy as np\n",
        "import io\n",
        "import random\n",
        "from IPython.display import display\n",
        "\n",
        "def process_image(bytes_arr):\n",
        "  image = Image.open(io.BytesIO(bytes_arr))\n",
        "  size = (64,64)\n",
        "  resized_image = image.resize(size, Image.ANTIALIAS)\n",
        "  image_array = np.array(resized_image)\n",
        "  return image_array\n",
        "\n",
        "def augment_image(og_array):\n",
        "  og = Image.fromarray(og_array)\n",
        "  augmentations = [\"h\", \"v\", \"r\"] #horizontal flip, vertical_flip, rotate\n",
        "  augmentation = random.choice(augmentations)\n",
        "  aug = None\n",
        "  if augmentation == \"h\":\n",
        "    aug = ImageOps.mirror(og)\n",
        "  elif augmentation == \"v\":\n",
        "    aug = ImageOps.flip(og)\n",
        "  else:\n",
        "    d = random.choice([90,180,270])\n",
        "    aug = og.rotate(d)\n",
        "  aug_array = np.array(aug)\n",
        "  return aug_array\n",
        "\n",
        "def show_image(image_array):\n",
        "  image = Image.fromarray(image_array)\n",
        "  display(image)\n"
      ]
    },
    {
      "cell_type": "code",
      "execution_count": 3,
      "metadata": {
        "colab": {
          "base_uri": "https://localhost:8080/",
          "height": 211
        },
        "id": "unNYfQdpe-AP",
        "outputId": "728d8d69-b154-4051-f83b-de6572de6eb4"
      },
      "outputs": [
        {
          "ename": "NameError",
          "evalue": "name 'df' is not defined",
          "output_type": "error",
          "traceback": [
            "\u001b[0;31m---------------------------------------------------------------------------\u001b[0m",
            "\u001b[0;31mNameError\u001b[0m                                 Traceback (most recent call last)",
            "\u001b[0;32m<ipython-input-3-18538378607b>\u001b[0m in \u001b[0;36m<cell line: 2>\u001b[0;34m()\u001b[0m\n\u001b[1;32m      1\u001b[0m \u001b[0maugmented_dataset\u001b[0m \u001b[0;34m=\u001b[0m \u001b[0;34m[\u001b[0m\u001b[0;34m]\u001b[0m\u001b[0;34m\u001b[0m\u001b[0;34m\u001b[0m\u001b[0m\n\u001b[0;32m----> 2\u001b[0;31m \u001b[0;32mfor\u001b[0m \u001b[0mimage\u001b[0m \u001b[0;32min\u001b[0m \u001b[0mdf\u001b[0m\u001b[0;34m[\u001b[0m\u001b[0;34m\"image\"\u001b[0m\u001b[0;34m]\u001b[0m\u001b[0;34m:\u001b[0m\u001b[0;34m\u001b[0m\u001b[0;34m\u001b[0m\u001b[0m\n\u001b[0m\u001b[1;32m      3\u001b[0m   \u001b[0mbytes_arr\u001b[0m \u001b[0;34m=\u001b[0m \u001b[0mimage\u001b[0m\u001b[0;34m[\u001b[0m\u001b[0;34m\"bytes\"\u001b[0m\u001b[0;34m]\u001b[0m\u001b[0;34m\u001b[0m\u001b[0;34m\u001b[0m\u001b[0m\n\u001b[1;32m      4\u001b[0m   \u001b[0mimage_arr\u001b[0m \u001b[0;34m=\u001b[0m \u001b[0mprocess_image\u001b[0m\u001b[0;34m(\u001b[0m\u001b[0mbytes_arr\u001b[0m\u001b[0;34m)\u001b[0m\u001b[0;34m\u001b[0m\u001b[0;34m\u001b[0m\u001b[0m\n\u001b[1;32m      5\u001b[0m   \u001b[0maugmented_dataset\u001b[0m\u001b[0;34m.\u001b[0m\u001b[0mappend\u001b[0m\u001b[0;34m(\u001b[0m\u001b[0mimage_arr\u001b[0m\u001b[0;34m)\u001b[0m\u001b[0;34m\u001b[0m\u001b[0;34m\u001b[0m\u001b[0m\n",
            "\u001b[0;31mNameError\u001b[0m: name 'df' is not defined"
          ]
        }
      ],
      "source": [
        "augmented_dataset = []\n",
        "for image in df[\"image\"]:\n",
        "  bytes_arr = image[\"bytes\"]\n",
        "  image_arr = process_image(bytes_arr)\n",
        "  augmented_dataset.append(image_arr)\n",
        "  augmented_dataset.append(augment_image(image_arr))\n",
        "final_dataset = np.array(augmented_dataset)"
      ]
    },
    {
      "cell_type": "code",
      "execution_count": null,
      "metadata": {
        "id": "_4I3ABmjhphA"
      },
      "outputs": [],
      "source": [
        "np.save(\"processed_data.npy\", final_dataset)"
      ]
    },
    {
      "cell_type": "code",
      "execution_count": 2,
      "metadata": {
        "id": "oPPOXRVlvcIz"
      },
      "outputs": [],
      "source": [
        "import torch\n",
        "import torch.nn as nn\n",
        "import torch.nn.functional as F\n",
        "\n",
        "class ConvAutoEncoder(nn.Module):\n",
        "    def __init__(self):\n",
        "        super(ConvAutoEncoder, self).__init__()\n",
        "\n",
        "        # Encoder\n",
        "        self.encoder = nn.Sequential(\n",
        "            nn.Conv2d(3, 16, kernel_size=3, stride=1, padding=1),  # Output: (16, 64, 64)\n",
        "            nn.ReLU(),\n",
        "            nn.MaxPool2d(2, 2),  # Output: (16, 32, 32)\n",
        "            nn.Conv2d(16, 32, kernel_size=3, stride=1, padding=1),  # Output: (32, 32, 32)\n",
        "            nn.ReLU(),\n",
        "            nn.MaxPool2d(2, 2),  # Output: (32, 16, 16)\n",
        "        )\n",
        "\n",
        "        # Decoder\n",
        "        self.decoder = nn.Sequential(\n",
        "            nn.ConvTranspose2d(32, 16, kernel_size=2, stride=2),  # Output: (16, 32, 32)\n",
        "            nn.ReLU(),\n",
        "            nn.ConvTranspose2d(16, 3, kernel_size=2, stride=2),  # Output: (3, 64, 64)\n",
        "            nn.Sigmoid()  # Use sigmoid to scale the output to [0,1]\n",
        "        )\n",
        "\n",
        "    def forward(self, x):\n",
        "        x = self.encoder(x)\n",
        "        x = self.decoder(x)\n",
        "        return x"
      ]
    },
    {
      "cell_type": "code",
      "execution_count": 3,
      "metadata": {
        "id": "Y4RkLtgVvd32"
      },
      "outputs": [],
      "source": [
        "import numpy as np\n",
        "\n",
        "processed_data = np.load(\"processed_data.npy\")\n",
        "np.random.shuffle(processed_data)\n",
        "\n",
        "X_train, X_valid, X_test = processed_data[:600], processed_data[600:800], processed_data[800:1000]"
      ]
    },
    {
      "cell_type": "code",
      "execution_count": 4,
      "metadata": {
        "id": "XB640LRbwQwf"
      },
      "outputs": [],
      "source": [
        "def normalize_create_tensor(data):\n",
        "  \"\"\"\n",
        "  Normalize data and create a tensor\n",
        "  \"\"\"\n",
        "  n = len(data)\n",
        "  data_scaled = data.astype(np.float32)/255.0\n",
        "  data_reshaped = np.transpose(data_scaled, (0,3,1,2))\n",
        "  data_tensor = torch.tensor(data_reshaped)\n",
        "  # print(f'Shape: {data_tensor.shape}')  # Expected shape: (N, 3, 64, 64)\n",
        "  # print(f'Type: {data_tensor.dtype}')   # Should be torch.float32\n",
        "  return data_tensor\n"
      ]
    },
    {
      "cell_type": "code",
      "execution_count": 5,
      "metadata": {
        "id": "kQ5kJ_SjyV7M"
      },
      "outputs": [],
      "source": [
        "X_train_tensor = normalize_create_tensor(X_train)\n",
        "X_valid_tensor = normalize_create_tensor(X_valid)\n",
        "X_test_tensor = normalize_create_tensor(X_test)"
      ]
    },
    {
      "cell_type": "code",
      "execution_count": 6,
      "metadata": {
        "id": "DV8ZDolmMWcV"
      },
      "outputs": [],
      "source": [
        "import matplotlib.pyplot as plt\n",
        "\n",
        "def plot_loss_curves(train_losses, valid_losses, title):\n",
        "    plt.figure(figsize=(10, 5))\n",
        "    plt.plot(train_losses, label=f'Training loss: {title}')\n",
        "    plt.plot(valid_losses, label=f'Validation loss: {title}')\n",
        "    plt.title('Loss Curves')\n",
        "    plt.xlabel('Epoch')\n",
        "    plt.ylabel('Loss')\n",
        "    plt.legend()\n",
        "    plt.grid(True)\n",
        "    plt.show()\n",
        "\n"
      ]
    },
    {
      "cell_type": "code",
      "execution_count": 10,
      "metadata": {
        "colab": {
          "base_uri": "https://localhost:8080/",
          "height": 1000
        },
        "id": "m0UV7VmWwrbk",
        "outputId": "af9c159c-03ad-4e47-8ded-45d6cca7ce14"
      },
      "outputs": [
        {
          "name": "stdout",
          "output_type": "stream",
          "text": [
            "epoch: 0, train loss: 0.14042402803897858, valid loss: 0.13907071948051453\n",
            "epoch: 10, train loss: 0.09130176156759262, valid loss: 0.08619074523448944\n",
            "epoch: 20, train loss: 0.06591933965682983, valid loss: 0.06185470521450043\n",
            "epoch: 30, train loss: 0.04410899430513382, valid loss: 0.04215383529663086\n",
            "epoch: 40, train loss: 0.0368146076798439, valid loss: 0.03589056059718132\n",
            "epoch: 50, train loss: 0.032737307250499725, valid loss: 0.03206993266940117\n",
            "epoch: 60, train loss: 0.02989153563976288, valid loss: 0.029309673234820366\n",
            "epoch: 70, train loss: 0.02724042534828186, valid loss: 0.02672923356294632\n",
            "epoch: 80, train loss: 0.025426054373383522, valid loss: 0.02515406906604767\n",
            "epoch: 90, train loss: 0.023852840065956116, valid loss: 0.02351667732000351\n",
            "epoch: 100, train loss: 0.02151935175061226, valid loss: 0.021111255511641502\n",
            "epoch: 110, train loss: 0.017281103879213333, valid loss: 0.016786493360996246\n",
            "epoch: 120, train loss: 0.015377838164567947, valid loss: 0.015021692961454391\n",
            "epoch: 130, train loss: 0.016902845352888107, valid loss: 0.015296191908419132\n",
            "epoch: 140, train loss: 0.015272581949830055, valid loss: 0.01451142504811287\n",
            "epoch: 150, train loss: 0.013923149555921555, valid loss: 0.013110746629536152\n",
            "epoch: 160, train loss: 0.012918838299810886, valid loss: 0.012861409224569798\n",
            "epoch: 170, train loss: 0.012552115134894848, valid loss: 0.012408925220370293\n",
            "epoch: 180, train loss: 0.012212125584483147, valid loss: 0.012051146477460861\n",
            "epoch: 190, train loss: 0.011913458816707134, valid loss: 0.011766503565013409\n",
            "epoch: 200, train loss: 0.011656357906758785, valid loss: 0.011512287892401218\n",
            "epoch: 210, train loss: 0.01141522079706192, valid loss: 0.011292725801467896\n",
            "epoch: 220, train loss: 0.011198367923498154, valid loss: 0.011085545644164085\n",
            "epoch: 230, train loss: 0.011010096408426762, valid loss: 0.010903584770858288\n",
            "epoch: 240, train loss: 0.01083905529230833, valid loss: 0.010735895484685898\n",
            "epoch: 250, train loss: 0.010681958869099617, valid loss: 0.010585944168269634\n",
            "epoch: 260, train loss: 0.010536635294556618, valid loss: 0.010446489788591862\n",
            "epoch: 270, train loss: 0.010400290600955486, valid loss: 0.010316607542335987\n",
            "epoch: 280, train loss: 0.010271167382597923, valid loss: 0.010195949114859104\n",
            "epoch: 290, train loss: 0.010388767346739769, valid loss: 0.010288526304066181\n",
            "epoch: 300, train loss: 0.010042737238109112, valid loss: 0.010000335052609444\n",
            "epoch: 310, train loss: 0.009980857372283936, valid loss: 0.009909382089972496\n",
            "epoch: 320, train loss: 0.009868411347270012, valid loss: 0.009812149219214916\n",
            "epoch: 330, train loss: 0.009751182980835438, valid loss: 0.009701075963675976\n",
            "epoch: 340, train loss: 0.010404360480606556, valid loss: 0.010680371895432472\n",
            "epoch: 350, train loss: 0.009877121075987816, valid loss: 0.009753440506756306\n",
            "epoch: 360, train loss: 0.00959698110818863, valid loss: 0.009481886401772499\n",
            "epoch: 370, train loss: 0.009473880752921104, valid loss: 0.009413870982825756\n",
            "epoch: 380, train loss: 0.009389308281242847, valid loss: 0.009351811371743679\n",
            "epoch: 390, train loss: 0.009307125583291054, valid loss: 0.009267392568290234\n",
            "epoch: 400, train loss: 0.009247853420674801, valid loss: 0.009219301864504814\n",
            "epoch: 410, train loss: 0.00951357651501894, valid loss: 0.009501813910901546\n",
            "epoch: 420, train loss: 0.0092463418841362, valid loss: 0.009105854667723179\n",
            "epoch: 430, train loss: 0.009101218543946743, valid loss: 0.009112030267715454\n",
            "epoch: 440, train loss: 0.009027760475873947, valid loss: 0.008989017456769943\n",
            "epoch: 450, train loss: 0.00893376674503088, valid loss: 0.008915631100535393\n",
            "epoch: 460, train loss: 0.009059389121830463, valid loss: 0.0088923629373312\n",
            "epoch: 470, train loss: 0.00901105161756277, valid loss: 0.00889198761433363\n",
            "epoch: 480, train loss: 0.008736515417695045, valid loss: 0.008665408939123154\n",
            "epoch: 490, train loss: 0.008651555515825748, valid loss: 0.008659830316901207\n",
            "epoch: 500, train loss: 0.008620958775281906, valid loss: 0.008758709765970707\n",
            "epoch: 510, train loss: 0.00869780220091343, valid loss: 0.00850011222064495\n",
            "epoch: 520, train loss: 0.008454130962491035, valid loss: 0.0084688700735569\n",
            "epoch: 530, train loss: 0.008453670889139175, valid loss: 0.00828634575009346\n",
            "epoch: 540, train loss: 0.008201124146580696, valid loss: 0.00811388622969389\n",
            "epoch: 550, train loss: 0.008045936934649944, valid loss: 0.007948883809149265\n",
            "epoch: 560, train loss: 0.00866584200412035, valid loss: 0.009233537130057812\n",
            "epoch: 570, train loss: 0.00836083386093378, valid loss: 0.007991455495357513\n",
            "epoch: 580, train loss: 0.007962151430547237, valid loss: 0.007724485360085964\n",
            "epoch: 590, train loss: 0.007812149822711945, valid loss: 0.007636782247573137\n",
            "epoch: 600, train loss: 0.007713115308433771, valid loss: 0.007564189378172159\n",
            "epoch: 610, train loss: 0.0076277838088572025, valid loss: 0.00749870203435421\n",
            "epoch: 620, train loss: 0.007806073408573866, valid loss: 0.007664026226848364\n",
            "epoch: 630, train loss: 0.007829937152564526, valid loss: 0.007853337563574314\n",
            "epoch: 640, train loss: 0.0075638205744326115, valid loss: 0.007328198757022619\n",
            "epoch: 650, train loss: 0.007371712941676378, valid loss: 0.007188161835074425\n",
            "epoch: 660, train loss: 0.007287643849849701, valid loss: 0.007108889985829592\n",
            "epoch: 670, train loss: 0.0072187879122793674, valid loss: 0.007077183574438095\n",
            "epoch: 680, train loss: 0.007211646065115929, valid loss: 0.0070117260329425335\n",
            "epoch: 690, train loss: 0.007392595522105694, valid loss: 0.007259039673954248\n",
            "epoch: 700, train loss: 0.007331873755902052, valid loss: 0.007189634721726179\n",
            "epoch: 710, train loss: 0.006997849326580763, valid loss: 0.006849773693829775\n",
            "epoch: 720, train loss: 0.006938599981367588, valid loss: 0.006788215599954128\n",
            "epoch: 730, train loss: 0.006917336955666542, valid loss: 0.006781069561839104\n",
            "epoch: 740, train loss: 0.006976391654461622, valid loss: 0.006729055196046829\n",
            "epoch: 750, train loss: 0.006915142294019461, valid loss: 0.006670921575278044\n",
            "epoch: 760, train loss: 0.0068934909068048, valid loss: 0.006658327765762806\n",
            "epoch: 770, train loss: 0.006782539654523134, valid loss: 0.0066213663667440414\n",
            "epoch: 780, train loss: 0.006705982610583305, valid loss: 0.0065717753022909164\n",
            "epoch: 790, train loss: 0.006840593181550503, valid loss: 0.006694267503917217\n",
            "epoch: 800, train loss: 0.006822616793215275, valid loss: 0.006725288927555084\n",
            "epoch: 810, train loss: 0.006706051528453827, valid loss: 0.0064677828922867775\n",
            "epoch: 820, train loss: 0.006852423772215843, valid loss: 0.006792156491428614\n",
            "epoch: 830, train loss: 0.006692491006106138, valid loss: 0.006556488107889891\n",
            "epoch: 840, train loss: 0.006542053073644638, valid loss: 0.006404292769730091\n",
            "epoch: 850, train loss: 0.006515205837786198, valid loss: 0.006356970407068729\n",
            "epoch: 860, train loss: 0.006485826801508665, valid loss: 0.006353116128593683\n",
            "epoch: 870, train loss: 0.0067647965624928474, valid loss: 0.006407144945114851\n",
            "epoch: 880, train loss: 0.006663430482149124, valid loss: 0.006413618568331003\n",
            "epoch: 890, train loss: 0.006457804702222347, valid loss: 0.0062888567335903645\n",
            "epoch: 900, train loss: 0.0063989232294261456, valid loss: 0.0062705399468541145\n",
            "epoch: 910, train loss: 0.006365759763866663, valid loss: 0.006227046716958284\n",
            "epoch: 920, train loss: 0.006355580873787403, valid loss: 0.006218068767338991\n",
            "epoch: 930, train loss: 0.006926786620169878, valid loss: 0.006266895215958357\n",
            "epoch: 940, train loss: 0.006756206508725882, valid loss: 0.0062433579005301\n",
            "epoch: 950, train loss: 0.006424312479794025, valid loss: 0.006198791787028313\n",
            "epoch: 960, train loss: 0.006310712546110153, valid loss: 0.006168523337692022\n",
            "epoch: 970, train loss: 0.006281075067818165, valid loss: 0.006133567541837692\n",
            "epoch: 980, train loss: 0.006262336391955614, valid loss: 0.006125932559370995\n",
            "epoch: 990, train loss: 0.006328218150883913, valid loss: 0.006203490775078535\n"
          ]
        },
        {
          "data": {
            "image/png": "[encoded data removed]",
            "text/plain": [
              "<Figure size 1000x500 with 1 Axes>"
            ]
          },
          "metadata": {},
          "output_type": "display_data"
        }
      ],
      "source": [
        "import torch\n",
        "import torch.optim as optim\n",
        "import torch.nn as nn\n",
        "\n",
        "cae = ConvAutoEncoder()\n",
        "train_losses = []\n",
        "valid_losses = []\n",
        "\n",
        "def train_CAE():\n",
        "  loss_fn = nn.MSELoss()\n",
        "  lr = 0.0075\n",
        "  optimizer = optim.Adam(cae.parameters(), lr)\n",
        "  scheduler = optim.lr_scheduler.StepLR(optimizer, step_size = 100, gamma=0.1)\n",
        "  epochs = 1000\n",
        "  for epoch in range(epochs):\n",
        "    cae.train()\n",
        "    output = cae.forward(X_train_tensor)\n",
        "    loss = loss_fn(output, X_train_tensor)\n",
        "    train_losses.append(loss.detach().item())\n",
        "    optimizer.zero_grad()\n",
        "    loss.backward()\n",
        "    optimizer.step()\n",
        "    cae.eval()\n",
        "    with torch.no_grad():\n",
        "      valid_output = cae.forward(X_valid_tensor)\n",
        "      valid_loss = loss_fn(valid_output, X_valid_tensor)\n",
        "      valid_losses.append(valid_loss.item())\n",
        "    if not epoch % 10:\n",
        "      print(f\"epoch: {epoch}, train loss: {loss}, valid loss: {valid_loss}\")\n",
        "\n",
        "\n",
        "train_CAE()\n",
        "plot_loss_curves(train_losses, valid_losses, \"CAE\")\n"
      ]
    },
    {
      "cell_type": "code",
      "execution_count": 11,
      "metadata": {
        "colab": {
          "base_uri": "https://localhost:8080/",
          "height": 529
        },
        "id": "lPK32GUQzsd0",
        "outputId": "4971e693-4f63-4dce-b2b4-2c42396e55aa"
      },
      "outputs": [
        {
          "data": {
            "image/png": "[encoded data removed]",
            "text/plain": [
              "<PIL.Image.Image image mode=RGB size=64x64>"
            ]
          },
          "metadata": {},
          "output_type": "display_data"
        },
        {
          "data": {
            "image/png": "[encoded data removed]",
            "text/plain": [
              "<PIL.Image.Image image mode=RGB size=64x64>"
            ]
          },
          "metadata": {},
          "output_type": "display_data"
        },
        {
          "data": {
            "image/png": "[encoded data removed]",
            "text/plain": [
              "<PIL.Image.Image image mode=RGB size=64x64>"
            ]
          },
          "metadata": {},
          "output_type": "display_data"
        },
        {
          "data": {
            "image/png": "[encoded data removed]",
            "text/plain": [
              "<PIL.Image.Image image mode=RGB size=64x64>"
            ]
          },
          "metadata": {},
          "output_type": "display_data"
        },
        {
          "data": {
            "image/png": "[encoded data removed]",
            "text/plain": [
              "<PIL.Image.Image image mode=RGB size=64x64>"
            ]
          },
          "metadata": {},
          "output_type": "display_data"
        },
        {
          "data": {
            "image/png": "[encoded data removed]",
            "text/plain": [
              "<PIL.Image.Image image mode=RGB size=64x64>"
            ]
          },
          "metadata": {},
          "output_type": "display_data"
        },
        {
          "data": {
            "image/png": "[encoded data removed]",
            "text/plain": [
              "<PIL.Image.Image image mode=RGB size=64x64>"
            ]
          },
          "metadata": {},
          "output_type": "display_data"
        },
        {
          "data": {
            "image/png": "[encoded data removed]",
            "text/plain": [
              "<PIL.Image.Image image mode=RGB size=64x64>"
            ]
          },
          "metadata": {},
          "output_type": "display_data"
        }
      ],
      "source": [
        "def predict_and_display_image(i):\n",
        "  image_arr = X_test[i] #np array of image\n",
        "  show_image(image_arr)\n",
        "  X = np.array([image_arr])\n",
        "  norm_X = normalize_create_tensor(X)\n",
        "  output = cae.forward(norm_X)\n",
        "  output = output.detach().cpu()\n",
        "  output_array = (output.numpy()*255).astype(np.uint8) #convert to numpy\n",
        "  output_array = np.transpose(output_array[0], (1, 2, 0))\n",
        "  show_image(output_array)\n",
        "\n",
        "\n",
        "predict_and_display_image(0)\n",
        "predict_and_display_image(10)\n",
        "predict_and_display_image(20)\n",
        "predict_and_display_image(30)\n"
      ]
    },
    {
      "cell_type": "code",
      "execution_count": 13,
      "metadata": {
        "colab": {
          "base_uri": "https://localhost:8080/",
          "height": 34
        },
        "id": "SfHzIlxbV9mM",
        "outputId": "94de21c8-d7aa-43b9-edac-e6d57dcb2282"
      },
      "outputs": [
        {
          "name": "stdout",
          "output_type": "stream",
          "text": [
            "Model saved to cae_basic.pth\n"
          ]
        },
        {
          "data": {
            "application/javascript": "\n    async function download(id, filename, size) {\n      if (!google.colab.kernel.accessAllowed) {\n        return;\n      }\n      const div = document.createElement('div');\n      const label = document.createElement('label');\n      label.textContent = `Downloading \"${filename}\": `;\n      div.appendChild(label);\n      const progress = document.createElement('progress');\n      progress.max = size;\n      div.appendChild(progress);\n      document.body.appendChild(div);\n\n      const buffers = [];\n      let downloaded = 0;\n\n      const channel = await google.colab.kernel.comms.open(id);\n      // Send a message to notify the kernel that we're ready.\n      channel.send({})\n\n      for await (const message of channel.messages) {\n        // Send a message to notify the kernel that we're ready.\n        channel.send({})\n        if (message.buffers) {\n          for (const buffer of message.buffers) {\n            buffers.push(buffer);\n            downloaded += buffer.byteLength;\n            progress.value = downloaded;\n          }\n        }\n      }\n      const blob = new Blob(buffers, {type: 'application/binary'});\n      const a = document.createElement('a');\n      a.href = window.URL.createObjectURL(blob);\n      a.download = filename;\n      div.appendChild(a);\n      a.click();\n      div.remove();\n    }\n  ",
            "text/plain": [
              "<IPython.core.display.Javascript object>"
            ]
          },
          "metadata": {},
          "output_type": "display_data"
        },
        {
          "data": {
            "application/javascript": "download(\"download_065692c6-6299-4af1-9db8-8882422ea0c0\", \"cae_basic.pth\", 36184)",
            "text/plain": [
              "<IPython.core.display.Javascript object>"
            ]
          },
          "metadata": {},
          "output_type": "display_data"
        }
      ],
      "source": [
        "from google.colab import files\n",
        "\n",
        "def save_model(model, filename=\"model.pth\"):\n",
        "    torch.save(model, filename)\n",
        "    print(f\"Model saved to {filename}\")\n",
        "\n",
        "save_model(cae, \"cae_basic.pth\")\n",
        "files.download(\"cae_basic.pth\")"
      ]
    }
  ],
  "metadata": {
    "accelerator": "GPU",
    "colab": {
      "gpuType": "A100",
      "machine_shape": "hm",
      "provenance": []
    },
    "kernelspec": {
      "display_name": "Python 3",
      "name": "python3"
    },
    "language_info": {
      "name": "python"
    },
    "widgets": {
      "application/vnd.jupyter.widget-state+json": {
        "11efee095c65453ea0ee18bfcb0b9b93": {
          "model_module": "@jupyter-widgets/controls",
          "model_module_version": "1.5.0",
          "model_name": "DescriptionStyleModel",
          "state": {
            "_model_module": "@jupyter-widgets/controls",
            "_model_module_version": "1.5.0",
            "_model_name": "DescriptionStyleModel",
            "_view_count": null,
            "_view_module": "@jupyter-widgets/base",
            "_view_module_version": "1.2.0",
            "_view_name": "StyleView",
            "description_width": ""
          }
        },
        "18befc049b93417cb5546f3b0ce20e3e": {
          "model_module": "@jupyter-widgets/base",
          "model_module_version": "1.2.0",
          "model_name": "LayoutModel",
          "state": {
            "_model_module": "@jupyter-widgets/base",
            "_model_module_version": "1.2.0",
            "_model_name": "LayoutModel",
            "_view_count": null,
            "_view_module": "@jupyter-widgets/base",
            "_view_module_version": "1.2.0",
            "_view_name": "LayoutView",
            "align_content": null,
            "align_items": null,
            "align_self": null,
            "border": null,
            "bottom": null,
            "display": null,
            "flex": null,
            "flex_flow": null,
            "grid_area": null,
            "grid_auto_columns": null,
            "grid_auto_flow": null,
            "grid_auto_rows": null,
            "grid_column": null,
            "grid_gap": null,
            "grid_row": null,
            "grid_template_areas": null,
            "grid_template_columns": null,
            "grid_template_rows": null,
            "height": null,
            "justify_content": null,
            "justify_items": null,
            "left": null,
            "margin": null,
            "max_height": null,
            "max_width": null,
            "min_height": null,
            "min_width": null,
            "object_fit": null,
            "object_position": null,
            "order": null,
            "overflow": null,
            "overflow_x": null,
            "overflow_y": null,
            "padding": null,
            "right": null,
            "top": null,
            "visibility": null,
            "width": null
          }
        },
        "4b85f565761240f29374ce22bb6ed279": {
          "model_module": "@jupyter-widgets/controls",
          "model_module_version": "1.5.0",
          "model_name": "HTMLModel",
          "state": {
            "_dom_classes": [],
            "_model_module": "@jupyter-widgets/controls",
            "_model_module_version": "1.5.0",
            "_model_name": "HTMLModel",
            "_view_count": null,
            "_view_module": "@jupyter-widgets/controls",
            "_view_module_version": "1.5.0",
            "_view_name": "HTMLView",
            "description": "",
            "description_tooltip": null,
            "layout": "IPY_MODEL_58a69ef1d29540f1a9b2742e2e3977c8",
            "placeholder": "​",
            "style": "IPY_MODEL_c587d3ecea284d359581e49c8e357653",
            "value": "Filter: 100%"
          }
        },
        "524035aa43c149c5a931b8e0f41f8b6b": {
          "model_module": "@jupyter-widgets/controls",
          "model_module_version": "1.5.0",
          "model_name": "ProgressStyleModel",
          "state": {
            "_model_module": "@jupyter-widgets/controls",
            "_model_module_version": "1.5.0",
            "_model_name": "ProgressStyleModel",
            "_view_count": null,
            "_view_module": "@jupyter-widgets/base",
            "_view_module_version": "1.2.0",
            "_view_name": "StyleView",
            "bar_color": null,
            "description_width": ""
          }
        },
        "58a69ef1d29540f1a9b2742e2e3977c8": {
          "model_module": "@jupyter-widgets/base",
          "model_module_version": "1.2.0",
          "model_name": "LayoutModel",
          "state": {
            "_model_module": "@jupyter-widgets/base",
            "_model_module_version": "1.2.0",
            "_model_name": "LayoutModel",
            "_view_count": null,
            "_view_module": "@jupyter-widgets/base",
            "_view_module_version": "1.2.0",
            "_view_name": "LayoutView",
            "align_content": null,
            "align_items": null,
            "align_self": null,
            "border": null,
            "bottom": null,
            "display": null,
            "flex": null,
            "flex_flow": null,
            "grid_area": null,
            "grid_auto_columns": null,
            "grid_auto_flow": null,
            "grid_auto_rows": null,
            "grid_column": null,
            "grid_gap": null,
            "grid_row": null,
            "grid_template_areas": null,
            "grid_template_columns": null,
            "grid_template_rows": null,
            "height": null,
            "justify_content": null,
            "justify_items": null,
            "left": null,
            "margin": null,
            "max_height": null,
            "max_width": null,
            "min_height": null,
            "min_width": null,
            "object_fit": null,
            "object_position": null,
            "order": null,
            "overflow": null,
            "overflow_x": null,
            "overflow_y": null,
            "padding": null,
            "right": null,
            "top": null,
            "visibility": null,
            "width": null
          }
        },
        "618846f7993c4e31a21809d2f07e83c2": {
          "model_module": "@jupyter-widgets/controls",
          "model_module_version": "1.5.0",
          "model_name": "FloatProgressModel",
          "state": {
            "_dom_classes": [],
            "_model_module": "@jupyter-widgets/controls",
            "_model_module_version": "1.5.0",
            "_model_name": "FloatProgressModel",
            "_view_count": null,
            "_view_module": "@jupyter-widgets/controls",
            "_view_module_version": "1.5.0",
            "_view_name": "ProgressView",
            "bar_style": "success",
            "description": "",
            "description_tooltip": null,
            "layout": "IPY_MODEL_18befc049b93417cb5546f3b0ce20e3e",
            "max": 2749,
            "min": 0,
            "orientation": "horizontal",
            "style": "IPY_MODEL_524035aa43c149c5a931b8e0f41f8b6b",
            "value": 2749
          }
        },
        "7cc58ef935724afd927d9ff251f6ce4f": {
          "model_module": "@jupyter-widgets/controls",
          "model_module_version": "1.5.0",
          "model_name": "HTMLModel",
          "state": {
            "_dom_classes": [],
            "_model_module": "@jupyter-widgets/controls",
            "_model_module_version": "1.5.0",
            "_model_name": "HTMLModel",
            "_view_count": null,
            "_view_module": "@jupyter-widgets/controls",
            "_view_module_version": "1.5.0",
            "_view_name": "HTMLView",
            "description": "",
            "description_tooltip": null,
            "layout": "IPY_MODEL_e7f76c5634a34823b1c0180a27b0c91b",
            "placeholder": "​",
            "style": "IPY_MODEL_11efee095c65453ea0ee18bfcb0b9b93",
            "value": " 2749/2749 [00:06&lt;00:00, 394.31 examples/s]"
          }
        },
        "9f11181db47e4411b4d8016f0651d9eb": {
          "model_module": "@jupyter-widgets/base",
          "model_module_version": "1.2.0",
          "model_name": "LayoutModel",
          "state": {
            "_model_module": "@jupyter-widgets/base",
            "_model_module_version": "1.2.0",
            "_model_name": "LayoutModel",
            "_view_count": null,
            "_view_module": "@jupyter-widgets/base",
            "_view_module_version": "1.2.0",
            "_view_name": "LayoutView",
            "align_content": null,
            "align_items": null,
            "align_self": null,
            "border": null,
            "bottom": null,
            "display": null,
            "flex": null,
            "flex_flow": null,
            "grid_area": null,
            "grid_auto_columns": null,
            "grid_auto_flow": null,
            "grid_auto_rows": null,
            "grid_column": null,
            "grid_gap": null,
            "grid_row": null,
            "grid_template_areas": null,
            "grid_template_columns": null,
            "grid_template_rows": null,
            "height": null,
            "justify_content": null,
            "justify_items": null,
            "left": null,
            "margin": null,
            "max_height": null,
            "max_width": null,
            "min_height": null,
            "min_width": null,
            "object_fit": null,
            "object_position": null,
            "order": null,
            "overflow": null,
            "overflow_x": null,
            "overflow_y": null,
            "padding": null,
            "right": null,
            "top": null,
            "visibility": null,
            "width": null
          }
        },
        "c587d3ecea284d359581e49c8e357653": {
          "model_module": "@jupyter-widgets/controls",
          "model_module_version": "1.5.0",
          "model_name": "DescriptionStyleModel",
          "state": {
            "_model_module": "@jupyter-widgets/controls",
            "_model_module_version": "1.5.0",
            "_model_name": "DescriptionStyleModel",
            "_view_count": null,
            "_view_module": "@jupyter-widgets/base",
            "_view_module_version": "1.2.0",
            "_view_name": "StyleView",
            "description_width": ""
          }
        },
        "d1a8d59050d14016b35ba75aff726be5": {
          "model_module": "@jupyter-widgets/controls",
          "model_module_version": "1.5.0",
          "model_name": "HBoxModel",
          "state": {
            "_dom_classes": [],
            "_model_module": "@jupyter-widgets/controls",
            "_model_module_version": "1.5.0",
            "_model_name": "HBoxModel",
            "_view_count": null,
            "_view_module": "@jupyter-widgets/controls",
            "_view_module_version": "1.5.0",
            "_view_name": "HBoxView",
            "box_style": "",
            "children": [
              "IPY_MODEL_4b85f565761240f29374ce22bb6ed279",
              "IPY_MODEL_618846f7993c4e31a21809d2f07e83c2",
              "IPY_MODEL_7cc58ef935724afd927d9ff251f6ce4f"
            ],
            "layout": "IPY_MODEL_9f11181db47e4411b4d8016f0651d9eb"
          }
        },
        "e7f76c5634a34823b1c0180a27b0c91b": {
          "model_module": "@jupyter-widgets/base",
          "model_module_version": "1.2.0",
          "model_name": "LayoutModel",
          "state": {
            "_model_module": "@jupyter-widgets/base",
            "_model_module_version": "1.2.0",
            "_model_name": "LayoutModel",
            "_view_count": null,
            "_view_module": "@jupyter-widgets/base",
            "_view_module_version": "1.2.0",
            "_view_name": "LayoutView",
            "align_content": null,
            "align_items": null,
            "align_self": null,
            "border": null,
            "bottom": null,
            "display": null,
            "flex": null,
            "flex_flow": null,
            "grid_area": null,
            "grid_auto_columns": null,
            "grid_auto_flow": null,
            "grid_auto_rows": null,
            "grid_column": null,
            "grid_gap": null,
            "grid_row": null,
            "grid_template_areas": null,
            "grid_template_columns": null,
            "grid_template_rows": null,
            "height": null,
            "justify_content": null,
            "justify_items": null,
            "left": null,
            "margin": null,
            "max_height": null,
            "max_width": null,
            "min_height": null,
            "min_width": null,
            "object_fit": null,
            "object_position": null,
            "order": null,
            "overflow": null,
            "overflow_x": null,
            "overflow_y": null,
            "padding": null,
            "right": null,
            "top": null,
            "visibility": null,
            "width": null
          }
        }
      }
    }
  },
  "nbformat": 4,
  "nbformat_minor": 0
}
