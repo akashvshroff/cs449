{
 "cells": [
  {
   "cell_type": "markdown",
   "metadata": {},
   "source": [
    "### Data Processing & Feature Engineering"
   ]
  },
  {
   "cell_type": "code",
   "execution_count": 1,
   "metadata": {},
   "outputs": [],
   "source": [
    "import pandas as pd\n",
    "\n",
    "ten_minute_df = pd.read_csv(\"jena_climate_2009_2016.csv\")"
   ]
  },
  {
   "cell_type": "code",
   "execution_count": 20,
   "metadata": {},
   "outputs": [],
   "source": [
    "hourly_df = ten_minute_df[5::6] \n",
    "hourly_df.index = pd.to_datetime(hourly_df['Date Time'], format='%d.%m.%Y %H:%M:%S')\n"
   ]
  },
  {
   "cell_type": "code",
   "execution_count": 10,
   "metadata": {},
   "outputs": [
    {
     "data": {
      "text/plain": [
       "Index(['Date Time', 'p (mbar)', 'T (degC)', 'Tpot (K)', 'Tdew (degC)',\n",
       "       'rh (%)', 'VPmax (mbar)', 'VPact (mbar)', 'VPdef (mbar)', 'sh (g/kg)',\n",
       "       'H2OC (mmol/mol)', 'rho (g/m**3)', 'wv (m/s)', 'max. wv (m/s)',\n",
       "       'wd (deg)'],\n",
       "      dtype='object')"
      ]
     },
     "execution_count": 10,
     "metadata": {},
     "output_type": "execute_result"
    }
   ],
   "source": [
    "hourly_df.columns"
   ]
  },
  {
   "cell_type": "code",
   "execution_count": 21,
   "metadata": {},
   "outputs": [],
   "source": [
    "hourly_df = hourly_df[['Date Time', 'p (mbar)', 'T (degC)', 'Tdew (degC)',\n",
    "       'rh (%)', 'VPmax (mbar)']]\n",
    "hourly_df = hourly_df.rename(columns={'p (mbar)': 'p', 'T (degC)':'temp', 'Tdew (degC)': 'tdew',\n",
    "       'rh (%)': 'rh', 'VPmax (mbar)': 'vpm'})"
   ]
  },
  {
   "cell_type": "code",
   "execution_count": 35,
   "metadata": {},
   "outputs": [
    {
     "name": "stdout",
     "output_type": "stream",
     "text": [
      "0\n"
     ]
    }
   ],
   "source": [
    "hourly_df.head()\n",
    "\n",
    "nan_count = hourly_df.isna().sum().sum()\n",
    "print(nan_count)"
   ]
  },
  {
   "cell_type": "code",
   "execution_count": 26,
   "metadata": {},
   "outputs": [],
   "source": [
    "train_df = hourly_df[:60000]\n",
    "valid_df = hourly_df[60000:65000]\n",
    "test_df = hourly_df[65000:]"
   ]
  },
  {
   "cell_type": "code",
   "execution_count": 39,
   "metadata": {},
   "outputs": [],
   "source": [
    "def create_XY(df):\n",
    "    X = df[['p', 'tdew', 'rh', 'vpm', 'temp']]\n",
    "    Y = df[['temp']]\n",
    "    return X, Y"
   ]
  },
  {
   "cell_type": "code",
   "execution_count": 42,
   "metadata": {},
   "outputs": [],
   "source": [
    "X_train, Y_train = create_XY(train_df)\n",
    "X_valid, Y_valid = create_XY(valid_df)\n",
    "X_test, Y_test = create_XY(test_df)"
   ]
  },
  {
   "cell_type": "code",
   "execution_count": 43,
   "metadata": {},
   "outputs": [],
   "source": [
    "from sklearn.preprocessing import MinMaxScaler\n",
    "\n",
    "x_scaler = MinMaxScaler()\n",
    "y_scaler = MinMaxScaler()\n",
    "\n",
    "X_train = x_scaler.fit_transform(X_train)\n",
    "Y_train = y_scaler.fit_transform(Y_train)\n",
    "\n",
    "X_valid, Y_valid = x_scaler.transform(X_valid), y_scaler.transform(Y_valid)\n",
    "X_test, Y_test = x_scaler.transform(X_test), y_scaler.transform(Y_test)"
   ]
  },
  {
   "cell_type": "code",
   "execution_count": 44,
   "metadata": {},
   "outputs": [],
   "source": [
    "import numpy as np\n",
    "import torch\n",
    "\n",
    "def build_feature_target_tensors(X, Y, input_window, pred_window):\n",
    "    \"\"\"\n",
    "    Create input and output sequences for model training and return them as PyTorch tensors.\n",
    "    \n",
    "    :param X: 2D numpy array where rows are time steps and columns are features, including 'temp'.\n",
    "    :param Y: 1D numpy array of target variable (temperature), extracted as Y = X[:, temp_index].\n",
    "    :param input_window: Number of days to use as input sequences.\n",
    "    :param pred_window: Number of days to predict.\n",
    "    \n",
    "    :return: X_tensor, Y_tensor - Tensors of input sequences and corresponding target sequences.\n",
    "    \"\"\"\n",
    "    \n",
    "    input_hours = input_window * 24\n",
    "    prediction_hours = pred_window * 24\n",
    "    \n",
    "    assert X.shape[0] == Y.shape[0], \"X and Y must have the same number of rows.\"\n",
    "    \n",
    "    X_sequences, Y_sequences = [], []\n",
    "    \n",
    "    for i in range(0, X.shape[0] - input_hours - prediction_hours + 1, 24):\n",
    "        x_sequence = X[i:i+input_hours]\n",
    "        y_sequence = Y[i+input_hours:i+input_hours+prediction_hours]\n",
    "        \n",
    "        X_sequences.append(x_sequence)\n",
    "        Y_sequences.append(y_sequence)\n",
    "    \n",
    "    # Convert the lists of sequences to numpy arrays and then to PyTorch tensors\n",
    "    X_tensor = torch.tensor(np.array(X_sequences), dtype=torch.float)\n",
    "    Y_tensor = torch.tensor(np.array(Y_sequences), dtype=torch.float)\n",
    "    \n",
    "    return X_tensor, Y_tensor\n"
   ]
  },
  {
   "cell_type": "code",
   "execution_count": 45,
   "metadata": {},
   "outputs": [],
   "source": [
    "# given 30 days of feature data, make a prediction for temp (hourly) for the next 7 days\n",
    "\n",
    "input_window = 30\n",
    "pred_window = 7"
   ]
  },
  {
   "cell_type": "code",
   "execution_count": 46,
   "metadata": {},
   "outputs": [],
   "source": [
    "X_train_tensor, Y_train_tensor = build_feature_target_tensors(X_train, Y_train, input_window, pred_window)\n",
    "X_valid_tensor, Y_valid_tensor = build_feature_target_tensors(X_valid, Y_valid, input_window, pred_window)\n",
    "X_test_tensor, Y_test_tensor = build_feature_target_tensors(X_test, Y_test, input_window, pred_window)"
   ]
  },
  {
   "cell_type": "markdown",
   "metadata": {},
   "source": [
    "### Model Architecture & Training"
   ]
  }
 ],
 "metadata": {
  "kernelspec": {
   "display_name": "Python 3",
   "language": "python",
   "name": "python3"
  },
  "language_info": {
   "codemirror_mode": {
    "name": "ipython",
    "version": 3
   },
   "file_extension": ".py",
   "mimetype": "text/x-python",
   "name": "python",
   "nbconvert_exporter": "python",
   "pygments_lexer": "ipython3",
   "version": "3.11.2"
  }
 },
 "nbformat": 4,
 "nbformat_minor": 2
}
