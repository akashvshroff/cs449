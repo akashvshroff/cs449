{
 "cells": [
  {
   "cell_type": "code",
   "execution_count": null,
   "id": "6c23fd00",
   "metadata": {},
   "outputs": [],
   "source": [
    "from collections import Counter\n",
    "\n",
    "def preprocess(batch_size, sequence_length, filepath):\n",
    "    # Read the corpus from the file\n",
    "    with open(filepath, 'r', encoding='utf-8') as file:\n",
    "        corpus_text = file.read()\n",
    "\n",
    "    # Tokenize the corpus into words\n",
    "    tokens = corpus_text.split()  # Split by whitespace\n",
    "\n",
    "    # Preprocessing (Optional): For example, converting to lowercase\n",
    "    tokens = [token.lower() for token in tokens if token.isalpha()]\n",
    "\n",
    "    # Count token frequencies\n",
    "    token_frequencies = Counter(tokens)\n",
    "\n",
    "    # Define frequency threshold\n",
    "    threshold_frequency = 12  # Adjust as needed\n",
    "\n",
    "    # Build vocabulary and replace low-frequency tokens with <unk>\n",
    "    vocab = {}\n",
    "    idx = 0\n",
    "    for token, freq in token_frequencies.items():\n",
    "        if freq >= threshold_frequency:\n",
    "            vocab[token] = idx\n",
    "            idx += 1\n",
    "    vocab['<unk>'] = len(vocab) - 1  # Add <unk> token\n",
    "\n",
    "    # Tokenize with replacement\n",
    "    numerical_tokens = [vocab[token] if token in vocab.keys() else vocab['<unk>'] for token in tokens]\n",
    "    \n",
    "    # Now 'numerical_tokens' contains numerical indices based on the reduced vocabulary\n",
    "    return vocab, numerical_tokens"
   ]
  }
 ],
 "metadata": {
  "kernelspec": {
   "display_name": "Python 3 (ipykernel)",
   "language": "python",
   "name": "python3"
  },
  "language_info": {
   "codemirror_mode": {
    "name": "ipython",
    "version": 3
   },
   "file_extension": ".py",
   "mimetype": "text/x-python",
   "name": "python",
   "nbconvert_exporter": "python",
   "pygments_lexer": "ipython3",
   "version": "3.10.9"
  }
 },
 "nbformat": 4,
 "nbformat_minor": 5
}
